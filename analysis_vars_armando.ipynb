{
 "cells": [
  {
   "cell_type": "code",
   "execution_count": 1,
   "metadata": {},
   "outputs": [
    {
     "name": "stderr",
     "output_type": "stream",
     "text": [
      "/home/alejandro.vaca/miniconda/envs/sentinel_env/lib/python3.7/site-packages/sklearn/utils/deprecation.py:144: FutureWarning: The sklearn.neighbors.base module is  deprecated in version 0.22 and will be removed in version 0.24. The corresponding classes / functions should instead be imported from sklearn.neighbors. Anything that cannot be imported from sklearn.neighbors is now part of the private API.\n",
      "  warnings.warn(message, FutureWarning)\n"
     ]
    }
   ],
   "source": [
    "import pandas as pd\n",
    "import numpy as np\n",
    "import matplotlib.pyplot as plt\n",
    "from sklearn.ensemble import RandomForestClassifier\n",
    "import pickle\n",
    "from programa_geovars import *\n",
    "from preprocessing import *"
   ]
  },
  {
   "cell_type": "code",
   "execution_count": 3,
   "metadata": {},
   "outputs": [],
   "source": [
    "with open('X_train.pkl', 'rb') as f:\n",
    "    Xtr = pickle.load(f)\n",
    "with open('X_test.pkl', 'rb') as f:\n",
    "    Xte = pickle.load(f)"
   ]
  },
  {
   "cell_type": "code",
   "execution_count": 2,
   "metadata": {},
   "outputs": [
    {
     "name": "stderr",
     "output_type": "stream",
     "text": [
      "/home/alejandro.vaca/miniconda/envs/sentinel_env/lib/python3.7/site-packages/IPython/core/interactiveshell.py:3063: DtypeWarning: Columns (54,155) have mixed types.Specify dtype option on import or set low_memory=False.\n",
      "  interactivity=interactivity, compiler=compiler, result=result)\n"
     ]
    }
   ],
   "source": [
    "totaltr = pd.read_csv('TOTAL_TRAIN.csv')"
   ]
  },
  {
   "cell_type": "code",
   "execution_count": 5,
   "metadata": {},
   "outputs": [
    {
     "data": {
      "text/plain": [
       "array([28822.,    nan])"
      ]
     },
     "execution_count": 5,
     "metadata": {},
     "output_type": "execute_result"
    }
   ],
   "source": [
    "totaltr.CODIGO_POSTAL.unique()"
   ]
  },
  {
   "cell_type": "code",
   "execution_count": 3,
   "metadata": {},
   "outputs": [],
   "source": [
    "arm = pd.read_csv('variables_cod_postal_lon_lat.csv')"
   ]
  },
  {
   "cell_type": "code",
   "execution_count": 4,
   "metadata": {},
   "outputs": [],
   "source": [
    "from scipy.spatial import distance\n",
    "\n",
    "def closest_node(node, nodes):\n",
    "    closest_index = distance.cdist([node], nodes).argmin()\n",
    "    return closest_index"
   ]
  },
  {
   "cell_type": "code",
   "execution_count": 5,
   "metadata": {},
   "outputs": [
    {
     "name": "stderr",
     "output_type": "stream",
     "text": [
      "100%|██████████| 103230/103230 [02:45<00:00, 623.03it/s]\n"
     ]
    }
   ],
   "source": [
    "points = [[l for l in totaltr[['lon','lat']].iloc[ii]] for ii in tqdm(range(totaltr.shape[0]))]"
   ]
  },
  {
   "cell_type": "code",
   "execution_count": 6,
   "metadata": {},
   "outputs": [
    {
     "name": "stderr",
     "output_type": "stream",
     "text": [
      "100%|██████████| 266/266 [00:00<00:00, 632.56it/s]\n"
     ]
    }
   ],
   "source": [
    "comparing_points = [[l for l in arm[['lon','lat']].iloc[ii]] for ii in tqdm(range(arm.shape[0]))]"
   ]
  },
  {
   "cell_type": "code",
   "execution_count": 7,
   "metadata": {},
   "outputs": [
    {
     "name": "stderr",
     "output_type": "stream",
     "text": [
      "100%|██████████| 103230/103230 [00:26<00:00, 3874.54it/s]\n"
     ]
    }
   ],
   "source": [
    "closest_nodes = [closest_node(point, comparing_points) for point in tqdm(points)]"
   ]
  },
  {
   "cell_type": "code",
   "execution_count": null,
   "metadata": {},
   "outputs": [],
   "source": []
  },
  {
   "cell_type": "code",
   "execution_count": null,
   "metadata": {},
   "outputs": [],
   "source": []
  },
  {
   "cell_type": "code",
   "execution_count": 9,
   "metadata": {},
   "outputs": [
    {
     "data": {
      "text/plain": [
       "25"
      ]
     },
     "execution_count": 9,
     "metadata": {},
     "output_type": "execute_result"
    }
   ],
   "source": [
    "len(np.unique(closest_nodes))"
   ]
  },
  {
   "cell_type": "code",
   "execution_count": null,
   "metadata": {},
   "outputs": [],
   "source": []
  },
  {
   "cell_type": "code",
   "execution_count": null,
   "metadata": {},
   "outputs": [],
   "source": []
  },
  {
   "cell_type": "code",
   "execution_count": 10,
   "metadata": {},
   "outputs": [],
   "source": [
    "#[arm[col].iloc[which_points[i]]  for i in range(len(which_points))]"
   ]
  },
  {
   "cell_type": "code",
   "execution_count": null,
   "metadata": {},
   "outputs": [],
   "source": []
  },
  {
   "cell_type": "code",
   "execution_count": 11,
   "metadata": {
    "collapsed": true
   },
   "outputs": [
    {
     "name": "stderr",
     "output_type": "stream",
     "text": [
      "\n",
      "  0%|          | 0/56 [00:00<?, ?it/s]\u001b[A\n",
      "  2%|▏         | 1/56 [00:02<02:34,  2.82s/it]\u001b[A\n",
      "  4%|▎         | 2/56 [00:04<02:21,  2.62s/it]\u001b[A\n",
      "  5%|▌         | 3/56 [00:07<02:10,  2.46s/it]\u001b[A\n",
      "  7%|▋         | 4/56 [00:09<02:02,  2.36s/it]\u001b[A\n",
      "  9%|▉         | 5/56 [00:11<01:57,  2.30s/it]\u001b[A\n",
      " 11%|█         | 6/56 [00:13<01:52,  2.25s/it]\u001b[A\n",
      " 12%|█▎        | 7/56 [00:15<01:48,  2.22s/it]\u001b[A\n",
      " 14%|█▍        | 8/56 [00:17<01:45,  2.19s/it]\u001b[A\n",
      " 16%|█▌        | 9/56 [00:19<01:42,  2.18s/it]\u001b[A\n",
      " 18%|█▊        | 10/56 [00:22<01:39,  2.17s/it]\u001b[A\n",
      " 20%|█▉        | 11/56 [00:23<01:31,  2.04s/it]\u001b[A\n",
      " 21%|██▏       | 12/56 [00:25<01:19,  1.81s/it]\u001b[A\n",
      " 23%|██▎       | 13/56 [00:27<01:31,  2.12s/it]\u001b[A\n",
      " 25%|██▌       | 14/56 [00:30<01:36,  2.30s/it]\u001b[A\n",
      " 27%|██▋       | 15/56 [00:31<01:17,  1.89s/it]\u001b[A\n",
      " 29%|██▊       | 16/56 [00:32<01:03,  1.60s/it]\u001b[A\n",
      " 30%|███       | 17/56 [00:33<00:55,  1.41s/it]\u001b[A\n",
      " 32%|███▏      | 18/56 [00:34<00:47,  1.26s/it]\u001b[A\n",
      " 34%|███▍      | 19/56 [00:35<00:42,  1.15s/it]\u001b[A\n",
      " 36%|███▌      | 20/56 [00:36<00:38,  1.07s/it]\u001b[A\n",
      " 38%|███▊      | 21/56 [00:37<00:36,  1.03s/it]\u001b[A\n",
      " 39%|███▉      | 22/56 [00:37<00:33,  1.00it/s]\u001b[A\n",
      " 41%|████      | 23/56 [00:39<00:36,  1.10s/it]\u001b[A\n",
      " 43%|████▎     | 24/56 [00:41<00:45,  1.41s/it]\u001b[A\n",
      " 45%|████▍     | 25/56 [00:43<00:50,  1.64s/it]\u001b[A\n",
      " 46%|████▋     | 26/56 [00:45<00:53,  1.79s/it]\u001b[A\n",
      " 48%|████▊     | 27/56 [00:47<00:55,  1.90s/it]\u001b[A\n",
      " 50%|█████     | 28/56 [00:50<00:55,  1.98s/it]\u001b[A\n",
      " 52%|█████▏    | 29/56 [00:52<00:54,  2.03s/it]\u001b[A\n",
      " 54%|█████▎    | 30/56 [00:54<00:53,  2.05s/it]\u001b[A\n",
      " 55%|█████▌    | 31/56 [00:56<00:51,  2.05s/it]\u001b[A\n",
      " 57%|█████▋    | 32/56 [00:58<00:49,  2.08s/it]\u001b[A\n",
      " 59%|█████▉    | 33/56 [01:00<00:48,  2.10s/it]\u001b[A\n",
      " 61%|██████    | 34/56 [01:02<00:46,  2.11s/it]\u001b[A\n",
      " 62%|██████▎   | 35/56 [01:04<00:44,  2.12s/it]\u001b[A\n",
      " 64%|██████▍   | 36/56 [01:07<00:42,  2.13s/it]\u001b[A\n",
      " 66%|██████▌   | 37/56 [01:09<00:40,  2.13s/it]\u001b[A\n",
      " 68%|██████▊   | 38/56 [01:11<00:38,  2.14s/it]\u001b[A\n",
      " 70%|██████▉   | 39/56 [01:13<00:36,  2.14s/it]\u001b[A\n",
      " 71%|███████▏  | 40/56 [01:15<00:34,  2.14s/it]\u001b[A\n",
      " 73%|███████▎  | 41/56 [01:17<00:32,  2.14s/it]\u001b[A\n",
      " 75%|███████▌  | 42/56 [01:19<00:30,  2.14s/it]\u001b[A\n",
      " 77%|███████▋  | 43/56 [01:22<00:27,  2.14s/it]\u001b[A\n",
      " 79%|███████▊  | 44/56 [01:24<00:25,  2.14s/it]\u001b[A\n",
      " 80%|████████  | 45/56 [01:26<00:23,  2.14s/it]\u001b[A\n",
      " 82%|████████▏ | 46/56 [01:28<00:21,  2.14s/it]\u001b[A\n",
      " 84%|████████▍ | 47/56 [01:30<00:19,  2.14s/it]\u001b[A\n",
      " 86%|████████▌ | 48/56 [01:32<00:17,  2.14s/it]\u001b[A\n",
      " 88%|████████▊ | 49/56 [01:34<00:14,  2.14s/it]\u001b[A\n",
      " 89%|████████▉ | 50/56 [01:37<00:12,  2.14s/it]\u001b[A\n",
      " 91%|█████████ | 51/56 [01:39<00:10,  2.14s/it]\u001b[A\n",
      " 93%|█████████▎| 52/56 [01:41<00:08,  2.14s/it]\u001b[A\n",
      " 95%|█████████▍| 53/56 [01:43<00:06,  2.14s/it]\u001b[A\n",
      " 96%|█████████▋| 54/56 [01:45<00:04,  2.14s/it]\u001b[A\n",
      " 98%|█████████▊| 55/56 [01:47<00:02,  2.14s/it]\u001b[A\n",
      "100%|██████████| 56/56 [01:49<00:00,  1.96s/it]\u001b[A\n"
     ]
    }
   ],
   "source": [
    "for col in tqdm(arm.columns):\n",
    "    totaltr[col] = [arm[col].iloc[closest_nodes[i]]  for i in range(len(closest_nodes))]"
   ]
  },
  {
   "cell_type": "code",
   "execution_count": 12,
   "metadata": {},
   "outputs": [],
   "source": [
    "totaltr.to_csv('new_total_train.csv', header=True, index=False)"
   ]
  },
  {
   "cell_type": "code",
   "execution_count": 16,
   "metadata": {},
   "outputs": [
    {
     "data": {
      "text/plain": [
       "array(['Baja', 'ruido_No_Registrado', 'Alta', 'Moderada'], dtype=object)"
      ]
     },
     "execution_count": 16,
     "metadata": {},
     "output_type": "execute_result"
    }
   ],
   "source": [
    "totaltr.ruido.unique()"
   ]
  },
  {
   "cell_type": "code",
   "execution_count": 2,
   "metadata": {},
   "outputs": [
    {
     "name": "stderr",
     "output_type": "stream",
     "text": [
      "/home/alejandro.vaca/miniconda/envs/sentinel_env/lib/python3.7/site-packages/IPython/core/interactiveshell.py:3254: DtypeWarning: Columns (54) have mixed types.Specify dtype option on import or set low_memory=False.\n",
      "  if (await self.run_code(code, result,  async_=asy)):\n",
      "  0%|          | 0/103230 [00:00<?, ?it/s]/home/alejandro.vaca/miniconda/envs/sentinel_env/lib/python3.7/site-packages/pandas/core/indexing.py:670: SettingWithCopyWarning: \n",
      "A value is trying to be set on a copy of a slice from a DataFrame\n",
      "\n",
      "See the caveats in the documentation: https://pandas.pydata.org/pandas-docs/stable/user_guide/indexing.html#returning-a-view-versus-a-copy\n",
      "  self._setitem_with_indexer(indexer, value)\n",
      "  0%|          | 493/103230 [00:00<00:41, 2452.90it/s]"
     ]
    },
    {
     "name": "stdout",
     "output_type": "stream",
     "text": [
      "Valores unicos de CADASTRAL--- ['2' '3' '4' '8' '5' '6' '7' '9' '1' 'C' 'B' 'A' 7 6 3 4 5 8 9 2 1 nan]\n"
     ]
    },
    {
     "name": "stderr",
     "output_type": "stream",
     "text": [
      "100%|██████████| 103230/103230 [01:00<00:00, 1700.58it/s]\n"
     ]
    },
    {
     "name": "stdout",
     "output_type": "stream",
     "text": [
      "En momento 2 el shape es de (103230, 195)\n",
      "Las columnas que tienen dtype object son Index(['ruido', 'cluster', 'TIPOLOGIA_LITERAL', 'CODIGO_POSTAL',\n",
      "       'medianaEdad'],\n",
      "      dtype='object')\n",
      "En momento 3 el shape es de (103230, 334)\n",
      "Imputando valores con Random Forest\n",
      "Iteration: 0\n",
      "Iteration: 1\n",
      "Iteration: 2\n",
      "En momento 4 el shape es de (103230, 334)\n",
      "En momento 5 el shape es de (103230, 344)\n",
      "En momento 6 el shape es de (103230, 344)\n"
     ]
    }
   ],
   "source": [
    "\n",
    "X, y, encoder = preprocess_data('new_total_train.csv', scale=True, scaler = 'std', process_cat = True, y_name='CLASE', sample_trials=None)"
   ]
  },
  {
   "cell_type": "code",
   "execution_count": 4,
   "metadata": {},
   "outputs": [],
   "source": [
    "from sklearn.model_selection import train_test_split\n",
    "X_train, X_test, y_train, y_test = train_test_split(X, y, test_size=0.15, random_state=100)"
   ]
  },
  {
   "cell_type": "code",
   "execution_count": 20,
   "metadata": {},
   "outputs": [],
   "source": [
    "rf = RandomForestClassifier(n_estimators=500, n_jobs=-1, class_weight='balanced', verbose=1)"
   ]
  },
  {
   "cell_type": "code",
   "execution_count": 21,
   "metadata": {},
   "outputs": [
    {
     "name": "stdout",
     "output_type": "stream",
     "text": [
      "CPU times: user 0 ns, sys: 0 ns, total: 0 ns\n",
      "Wall time: 29.6 µs\n"
     ]
    },
    {
     "name": "stderr",
     "output_type": "stream",
     "text": [
      "[Parallel(n_jobs=-1)]: Using backend ThreadingBackend with 40 concurrent workers.\n",
      "[Parallel(n_jobs=-1)]: Done 120 tasks      | elapsed:    3.0s\n",
      "[Parallel(n_jobs=-1)]: Done 370 tasks      | elapsed:    8.2s\n",
      "[Parallel(n_jobs=-1)]: Done 500 out of 500 | elapsed:   10.7s finished\n"
     ]
    },
    {
     "data": {
      "text/plain": [
       "RandomForestClassifier(bootstrap=True, ccp_alpha=0.0, class_weight='balanced',\n",
       "                       criterion='gini', max_depth=None, max_features='auto',\n",
       "                       max_leaf_nodes=None, max_samples=None,\n",
       "                       min_impurity_decrease=0.0, min_impurity_split=None,\n",
       "                       min_samples_leaf=1, min_samples_split=2,\n",
       "                       min_weight_fraction_leaf=0.0, n_estimators=500,\n",
       "                       n_jobs=-1, oob_score=False, random_state=None, verbose=1,\n",
       "                       warm_start=False)"
      ]
     },
     "execution_count": 21,
     "metadata": {},
     "output_type": "execute_result"
    }
   ],
   "source": [
    "%time\n",
    "rf.fit(X_train, y_train)"
   ]
  },
  {
   "cell_type": "code",
   "execution_count": 22,
   "metadata": {},
   "outputs": [
    {
     "name": "stderr",
     "output_type": "stream",
     "text": [
      "[Parallel(n_jobs=40)]: Using backend ThreadingBackend with 40 concurrent workers.\n",
      "[Parallel(n_jobs=40)]: Done 120 tasks      | elapsed:    0.1s\n",
      "[Parallel(n_jobs=40)]: Done 370 tasks      | elapsed:    0.3s\n",
      "[Parallel(n_jobs=40)]: Done 500 out of 500 | elapsed:    0.4s finished\n"
     ]
    },
    {
     "data": {
      "text/plain": [
       "0.912431385211495"
      ]
     },
     "execution_count": 22,
     "metadata": {},
     "output_type": "execute_result"
    }
   ],
   "source": [
    "rf.score(X_test, y_test)"
   ]
  },
  {
   "cell_type": "code",
   "execution_count": 23,
   "metadata": {},
   "outputs": [],
   "source": [
    "from sklearn.metrics import f1_score"
   ]
  },
  {
   "cell_type": "code",
   "execution_count": 24,
   "metadata": {},
   "outputs": [
    {
     "name": "stderr",
     "output_type": "stream",
     "text": [
      "[Parallel(n_jobs=40)]: Using backend ThreadingBackend with 40 concurrent workers.\n",
      "[Parallel(n_jobs=40)]: Done 120 tasks      | elapsed:    0.1s\n",
      "[Parallel(n_jobs=40)]: Done 370 tasks      | elapsed:    0.3s\n",
      "[Parallel(n_jobs=40)]: Done 500 out of 500 | elapsed:    0.3s finished\n"
     ]
    },
    {
     "data": {
      "text/plain": [
       "0.4757293980455434"
      ]
     },
     "execution_count": 24,
     "metadata": {},
     "output_type": "execute_result"
    }
   ],
   "source": [
    "f1_score(y_test, rf.predict(X_test), average='macro')"
   ]
  },
  {
   "cell_type": "code",
   "execution_count": 25,
   "metadata": {},
   "outputs": [
    {
     "name": "stderr",
     "output_type": "stream",
     "text": [
      "[Parallel(n_jobs=40)]: Using backend ThreadingBackend with 40 concurrent workers.\n",
      "[Parallel(n_jobs=40)]: Done 120 tasks      | elapsed:    0.3s\n",
      "[Parallel(n_jobs=40)]: Done 370 tasks      | elapsed:    0.8s\n",
      "[Parallel(n_jobs=40)]: Done 500 out of 500 | elapsed:    1.0s finished\n"
     ]
    },
    {
     "data": {
      "text/plain": [
       "1.0"
      ]
     },
     "execution_count": 25,
     "metadata": {},
     "output_type": "execute_result"
    }
   ],
   "source": [
    "f1_score(y_train, rf.predict(X_train), average='macro')"
   ]
  },
  {
   "cell_type": "code",
   "execution_count": null,
   "metadata": {},
   "outputs": [],
   "source": []
  }
 ],
 "metadata": {
  "kernelspec": {
   "display_name": "Python 3",
   "language": "python",
   "name": "python3"
  },
  "language_info": {
   "codemirror_mode": {
    "name": "ipython",
    "version": 3
   },
   "file_extension": ".py",
   "mimetype": "text/x-python",
   "name": "python",
   "nbconvert_exporter": "python",
   "pygments_lexer": "ipython3",
   "version": "3.7.6"
  }
 },
 "nbformat": 4,
 "nbformat_minor": 4
}
