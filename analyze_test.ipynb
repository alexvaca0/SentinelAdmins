{
 "cells": [
  {
   "cell_type": "code",
   "execution_count": 1,
   "metadata": {},
   "outputs": [
    {
     "name": "stderr",
     "output_type": "stream",
     "text": [
      "/home/alejandro.vaca/miniconda/envs/sentinel_env/lib/python3.7/site-packages/sklearn/utils/deprecation.py:144: FutureWarning: The sklearn.neighbors.base module is  deprecated in version 0.22 and will be removed in version 0.24. The corresponding classes / functions should instead be imported from sklearn.neighbors. Anything that cannot be imported from sklearn.neighbors is now part of the private API.\n",
      "  warnings.warn(message, FutureWarning)\n"
     ]
    }
   ],
   "source": [
    "import pandas as pd\n",
    "import numpy as np\n",
    "from missingpy import MissForest\n",
    "import pickle\n",
    "from tqdm import tqdm\n",
    "from preprocessing import *\n",
    "\n",
    "imputer = MissForest()"
   ]
  },
  {
   "cell_type": "code",
   "execution_count": 9,
   "metadata": {},
   "outputs": [],
   "source": [
    "pd.options.display.max_rows = 10000\n"
   ]
  },
  {
   "cell_type": "code",
   "execution_count": 2,
   "metadata": {},
   "outputs": [],
   "source": [
    "test = pd.read_csv('TOTAL_TEST.csv')"
   ]
  },
  {
   "cell_type": "code",
   "execution_count": 11,
   "metadata": {},
   "outputs": [
    {
     "data": {
      "text/plain": [
       "ID                                     0.0\n",
       "X                                      0.0\n",
       "Y                                      0.0\n",
       "Q_R_4_0_0                              0.0\n",
       "Q_R_4_0_1                              0.0\n",
       "Q_R_4_0_2                              0.0\n",
       "Q_R_4_0_3                              0.0\n",
       "Q_R_4_0_4                              0.0\n",
       "Q_R_4_0_5                              0.0\n",
       "Q_R_4_0_6                              0.0\n",
       "Q_R_4_0_7                              0.0\n",
       "Q_R_4_0_8                              0.0\n",
       "Q_R_4_0_9                              0.0\n",
       "Q_R_4_1_0                              0.0\n",
       "Q_G_3_0_0                              0.0\n",
       "Q_G_3_0_1                              0.0\n",
       "Q_G_3_0_2                              0.0\n",
       "Q_G_3_0_3                              0.0\n",
       "Q_G_3_0_4                              0.0\n",
       "Q_G_3_0_5                              0.0\n",
       "Q_G_3_0_6                              0.0\n",
       "Q_G_3_0_7                              0.0\n",
       "Q_G_3_0_8                              0.0\n",
       "Q_G_3_0_9                              0.0\n",
       "Q_G_3_1_0                              0.0\n",
       "Q_B_2_0_0                              0.0\n",
       "Q_B_2_0_1                              0.0\n",
       "Q_B_2_0_2                              0.0\n",
       "Q_B_2_0_3                              0.0\n",
       "Q_B_2_0_4                              0.0\n",
       "Q_B_2_0_5                              0.0\n",
       "Q_B_2_0_6                              0.0\n",
       "Q_B_2_0_7                              0.0\n",
       "Q_B_2_0_8                              0.0\n",
       "Q_B_2_0_9                              0.0\n",
       "Q_B_2_1_0                              0.0\n",
       "Q_NIR_8_0_0                            0.0\n",
       "Q_NIR_8_0_1                            0.0\n",
       "Q_NIR_8_0_2                            0.0\n",
       "Q_NIR_8_0_3                            0.0\n",
       "Q_NIR_8_0_4                            0.0\n",
       "Q_NIR_8_0_5                            0.0\n",
       "Q_NIR_8_0_6                            0.0\n",
       "Q_NIR_8_0_7                            0.0\n",
       "Q_NIR_8_0_8                            0.0\n",
       "Q_NIR_8_0_9                            0.0\n",
       "Q_NIR_8_1_0                            0.0\n",
       "AREA                                   0.0\n",
       "GEOM_R1                                0.0\n",
       "GEOM_R2                                0.0\n",
       "GEOM_R3                                0.0\n",
       "GEOM_R4                                0.0\n",
       "CONTRUCTIONYEAR                        0.0\n",
       "MAXBUILDINGFLOOR                       0.0\n",
       "CADASTRALQUALITYID                     0.0\n",
       "lat                                    0.0\n",
       "lon                                    0.0\n",
       "dist_eucl_sol                          0.0\n",
       "dist_taxi_sol                          0.0\n",
       "ruido                                  0.0\n",
       "distancias_al_ruido                    0.0\n",
       "CODIGO_POSTAL                          0.0\n",
       "cluster                                0.0\n",
       "distance_to_centroid                   0.0\n",
       "contadores_hipermercados.shp           0.0\n",
       "contadores_camping.shp                 0.0\n",
       "contadores_parques.shp                 0.0\n",
       "contadores_cementerios.shp             0.0\n",
       "contadores_estmetro.shp                0.0\n",
       "contadores_embajadas.shp               0.0\n",
       "contadores_educapr.shp                 0.0\n",
       "contadores_centroambiental.shp         0.0\n",
       "contadores_juzgados.shp                0.0\n",
       "contadores_farmacias.shp               0.0\n",
       "contadores_cines.shp                   0.0\n",
       "contadores_linearenfe.shp              0.0\n",
       "contadores_desguaces.shp               0.0\n",
       "contadores_casi.shp                    0.0\n",
       "contadores_itv.shp                     0.0\n",
       "contadores_hoteles5.shp                0.0\n",
       "contadores_centrocom.shp               0.0\n",
       "contadores_adpublic.shp                0.0\n",
       "contadores_mercado.shp                 0.0\n",
       "contadores_parking.shp                 0.0\n",
       "contadores_dir2019a.shp                0.0\n",
       "contadores_policianacional.shp         0.0\n",
       "contadores_parroq.shp                  0.0\n",
       "contadores_saludmental.shp             0.0\n",
       "contadores_agenciatributaria.shp       0.0\n",
       "contadores_ong.shp                     0.0\n",
       "contadores_educapu.shp                 0.0\n",
       "contadores_centrosalud.shp             0.0\n",
       "contadores_peligrosos.shp              0.0\n",
       "contadores_guardiacivil.shp            0.0\n",
       "contadores_teatros.shp                 0.0\n",
       "contadores_apartturis.shp              0.0\n",
       "contadores_bicianillo.shp              0.0\n",
       "contadores_policialocal.shp            0.0\n",
       "contadores_ss_2018_etrs89.shp          0.0\n",
       "contadores_mercadillos.shp             0.0\n",
       "contadores_plazastoros.shp             0.0\n",
       "contadores_depuradoras.shp             0.0\n",
       "contadores_galimenta.shp               0.0\n",
       "contadores_helisuper.shp               0.0\n",
       "contadores_estcerca.shp                0.0\n",
       "contadores_segsoc.shp                  0.0\n",
       "contadores_lineas.shp                  0.0\n",
       "contadores_hoteles1.shp                0.0\n",
       "contadores_inem.shp                    0.0\n",
       "contadores_puentes.shp                 0.0\n",
       "contadores_bomberos.shp                0.0\n",
       "contadores_hospital.shp                0.0\n",
       "contadores_libreriaao.shp              0.0\n",
       "contadores_puntoslim.shp               0.0\n",
       "contadores_aeropuertos.shp             0.0\n",
       "contadores_vertederos.shp              0.0\n",
       "contadores_hoteles3.shp                0.0\n",
       "contadores_educase.shp                 0.0\n",
       "contadores_gasolineras.shp             0.0\n",
       "contadores_pensionch.shp               0.0\n",
       "contadores_colegiosmayores.shp         0.0\n",
       "contadores_hoteles2.shp                0.0\n",
       "contadores_alojarurales.shp            0.0\n",
       "contadores_oficinaturismo.shp          0.0\n",
       "contadores_cruzroja.shp                0.0\n",
       "contadores_saludotros.shp              0.0\n",
       "contadores_albergues.shp               0.0\n",
       "contadores_centroespecialidades.shp    0.0\n",
       "contadores_bancos.shp                  0.0\n",
       "contadores_pension1.shp                0.0\n",
       "contadores_bocas.shp                   0.0\n",
       "contadores_pension2.shp                0.0\n",
       "contadores_pension3.shp                0.0\n",
       "contadores_consultoriosalud.shp        0.0\n",
       "contadores_parquesocio.shp             0.0\n",
       "contadores_host3.shp                   0.0\n",
       "contadores_museos.shp                  0.0\n",
       "contadores_carcel.shp                  0.0\n",
       "contadores_host2.shp                   0.0\n",
       "contadores_drogodependencia.shp        0.0\n",
       "contadores_hoteles4.shp                0.0\n",
       "contadores_univers.shp                 0.0\n",
       "contadores_host1.shp                   0.0\n",
       "contadores_comerespecial.shp           0.0\n",
       "contadores_campus.shp                  0.0\n",
       "contadores_calidad_aire.shp            0.0\n",
       "contadores_ave.shp                     0.0\n",
       "edad_media                             0.0\n",
       "p_poblacion_menor_de_18                0.0\n",
       "p_poblacion_mayor_65                   0.0\n",
       "media_personas_por_hogar               0.0\n",
       "poblacion                              0.0\n",
       "crecimiento_poblaconal_2015            0.0\n",
       "renta_media_por_persona                0.0\n",
       "renta_media_por_hogar                  0.0\n",
       "p_suelo_urbano                         0.0\n",
       "p_agropecuario                         0.0\n",
       "p_cultural                             0.0\n",
       "p_deportivo                            0.0\n",
       "p_industrial                           0.0\n",
       "p_oficina                              0.0\n",
       "p_otros                                0.0\n",
       "p_publico                              0.0\n",
       "p_residencial                          0.0\n",
       "p_retail                               0.0\n",
       "p_salud                                0.0\n",
       "p_solteros                             0.0\n",
       "p_casados                              0.0\n",
       "p_viudos                               0.0\n",
       "p_separados                            0.0\n",
       "p_divorciados                          0.0\n",
       "p_extranjeros                          0.0\n",
       "p_hogares_unipersonales                0.0\n",
       "p_ocup_agropecuaria                    0.0\n",
       "p_ocup_pesca                           0.0\n",
       "p_ocup_mineria                         0.0\n",
       "p_ocup_manufactura                     0.0\n",
       "p_ocup_dirstr_gas_elec_agua            0.0\n",
       "p_ocup_construccion                    0.0\n",
       "p_ocup_taller_automotriz               0.0\n",
       "p_ocup_hosteleria                      0.0\n",
       "p_ocup_transporte                      0.0\n",
       "p_ocup_financiera                      0.0\n",
       "p_ocup_inmobiliarias                   0.0\n",
       "p_ocup_adm_publica                     0.0\n",
       "p_ocup_educacion                       0.0\n",
       "p_ocup_medicina                        0.0\n",
       "p_ocup_otros                           0.0\n",
       "p_casas_con_servicio_domestico         0.0\n",
       "prop_masculinidad                      0.0\n",
       "prop_reemplazamiento                   0.0\n",
       "prop_dependientes                      0.0\n",
       "prop_analfabetas                       0.0\n",
       "prop_paro                              0.0\n",
       "dtype: float64"
      ]
     },
     "execution_count": 11,
     "metadata": {},
     "output_type": "execute_result"
    }
   ],
   "source": [
    "test[test == -np.inf].sum()"
   ]
  },
  {
   "cell_type": "code",
   "execution_count": 2,
   "metadata": {},
   "outputs": [
    {
     "name": "stderr",
     "output_type": "stream",
     "text": [
      " 33%|███▎      | 2/6 [00:00<00:00, 15.79it/s]"
     ]
    },
    {
     "name": "stdout",
     "output_type": "stream",
     "text": [
      "Valores unicos de CADASTRAL--- ['4' '7' '9' '6' '5' '3' 'C' '1' '8' '2' 'A' 'B' nan]\n"
     ]
    },
    {
     "name": "stderr",
     "output_type": "stream",
     "text": [
      "100%|██████████| 6/6 [00:00<00:00,  9.52it/s]\n",
      "100%|██████████| 4/4 [00:00<00:00, 204.97it/s]\n",
      "  0%|          | 0/5618 [00:00<?, ?it/s]/home/alejandro.vaca/miniconda/envs/sentinel_env/lib/python3.7/site-packages/pandas/core/indexing.py:670: SettingWithCopyWarning: \n",
      "A value is trying to be set on a copy of a slice from a DataFrame\n",
      "\n",
      "See the caveats in the documentation: https://pandas.pydata.org/pandas-docs/stable/user_guide/indexing.html#returning-a-view-versus-a-copy\n",
      "  self._setitem_with_indexer(indexer, value)\n",
      "100%|██████████| 5618/5618 [00:01<00:00, 5232.54it/s]\n"
     ]
    },
    {
     "name": "stdout",
     "output_type": "stream",
     "text": [
      "En momento 2 el shape es de (5618, 204)\n",
      "Las columnas que tienen dtype object son Index(['ruido', 'CODIGO_POSTAL'], dtype='object')\n"
     ]
    }
   ],
   "source": [
    "Xtest = partial_preprocess_train('TOTAL_TEST.csv')"
   ]
  },
  {
   "cell_type": "code",
   "execution_count": 18,
   "metadata": {},
   "outputs": [],
   "source": [
    "#Xtest"
   ]
  },
  {
   "cell_type": "code",
   "execution_count": 3,
   "metadata": {},
   "outputs": [
    {
     "ename": "NameError",
     "evalue": "name 'Xtest' is not defined",
     "output_type": "error",
     "traceback": [
      "\u001b[0;31m---------------------------------------------------------------------------\u001b[0m",
      "\u001b[0;31mNameError\u001b[0m                                 Traceback (most recent call last)",
      "\u001b[0;32m<ipython-input-3-53184f426720>\u001b[0m in \u001b[0;36m<module>\u001b[0;34m\u001b[0m\n\u001b[0;32m----> 1\u001b[0;31m \u001b[0mX\u001b[0m \u001b[0;34m=\u001b[0m \u001b[0mimputer\u001b[0m\u001b[0;34m.\u001b[0m\u001b[0mfit_transform\u001b[0m\u001b[0;34m(\u001b[0m\u001b[0mXtest\u001b[0m\u001b[0;34m)\u001b[0m\u001b[0;34m\u001b[0m\u001b[0;34m\u001b[0m\u001b[0m\n\u001b[0m",
      "\u001b[0;31mNameError\u001b[0m: name 'Xtest' is not defined"
     ]
    }
   ],
   "source": [
    "X = imputer.fit_transform(Xtest)"
   ]
  },
  {
   "cell_type": "code",
   "execution_count": 2,
   "metadata": {},
   "outputs": [],
   "source": [
    "#Xtest.isna().sum()"
   ]
  },
  {
   "cell_type": "code",
   "execution_count": null,
   "metadata": {},
   "outputs": [],
   "source": []
  }
 ],
 "metadata": {
  "kernelspec": {
   "display_name": "Python [conda env:sentinel_env] *",
   "language": "python",
   "name": "conda-env-sentinel_env-py"
  },
  "language_info": {
   "codemirror_mode": {
    "name": "ipython",
    "version": 3
   },
   "file_extension": ".py",
   "mimetype": "text/x-python",
   "name": "python",
   "nbconvert_exporter": "python",
   "pygments_lexer": "ipython3",
   "version": "3.7.6"
  }
 },
 "nbformat": 4,
 "nbformat_minor": 4
}
