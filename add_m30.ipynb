{
 "cells": [
  {
   "cell_type": "code",
   "execution_count": 1,
   "metadata": {},
   "outputs": [],
   "source": [
    "import geopandas as gpd\n",
    "from shapely.geometry import Point\n",
    "import pandas as pd"
   ]
  },
  {
   "cell_type": "code",
   "execution_count": 4,
   "metadata": {},
   "outputs": [],
   "source": [
    "m30 = gpd.read_file('./m_30/POLYLINE.shp')"
   ]
  },
  {
   "cell_type": "code",
   "execution_count": 6,
   "metadata": {},
   "outputs": [
    {
     "data": {
      "text/plain": [
       "0.5165649225309347"
      ]
     },
     "execution_count": 6,
     "metadata": {},
     "output_type": "execute_result"
    }
   ],
   "source": [
    "Point(-3.16543, 40.59048).distance(m30.geometry.iloc[0])"
   ]
  },
  {
   "cell_type": "code",
   "execution_count": 2,
   "metadata": {},
   "outputs": [
    {
     "name": "stderr",
     "output_type": "stream",
     "text": [
      "/home/alejandro.vaca/miniconda/envs/sentinel_env/lib/python3.7/site-packages/IPython/core/interactiveshell.py:3063: DtypeWarning: Columns (54) have mixed types.Specify dtype option on import or set low_memory=False.\n",
      "  interactivity=interactivity, compiler=compiler, result=result)\n"
     ]
    }
   ],
   "source": [
    "tr = pd.read_csv('TOTAL_TRAIN.csv')"
   ]
  },
  {
   "cell_type": "code",
   "execution_count": 5,
   "metadata": {},
   "outputs": [
    {
     "data": {
      "text/plain": [
       "[28001.0,\n",
       " 28002.0,\n",
       " 28003.0,\n",
       " 28004.0,\n",
       " 28005.0,\n",
       " 28006.0,\n",
       " 28007.0,\n",
       " 28008.0,\n",
       " 28009.0,\n",
       " 28010.0,\n",
       " 28011.0,\n",
       " 28012.0,\n",
       " 28013.0,\n",
       " 28014.0,\n",
       " 28015.0,\n",
       " 28016.0,\n",
       " 28017.0,\n",
       " 28018.0,\n",
       " 28019.0,\n",
       " 28020.0,\n",
       " 28021.0,\n",
       " 28022.0,\n",
       " 28023.0,\n",
       " 28024.0,\n",
       " 28025.0,\n",
       " 28026.0,\n",
       " 28027.0,\n",
       " 28028.0,\n",
       " 28029.0,\n",
       " 28030.0,\n",
       " 28031.0,\n",
       " 28032.0,\n",
       " 28033.0,\n",
       " 28034.0,\n",
       " 28035.0,\n",
       " 28036.0,\n",
       " 28037.0,\n",
       " 28038.0,\n",
       " 28039.0,\n",
       " 28040.0,\n",
       " 28041.0,\n",
       " 28042.0,\n",
       " 28043.0,\n",
       " 28044.0,\n",
       " 28045.0,\n",
       " 28046.0,\n",
       " 28047.0,\n",
       " 28048.0,\n",
       " 28049.0,\n",
       " 28050.0,\n",
       " 28051.0,\n",
       " 28052.0,\n",
       " 28053.0,\n",
       " 28054.0,\n",
       " 28055.0,\n",
       " 28100.0,\n",
       " 28108.0,\n",
       " 28109.0,\n",
       " 28221.0,\n",
       " 28223.0,\n",
       " 28224.0,\n",
       " 28231.0,\n",
       " 28232.0,\n",
       " 28250.0,\n",
       " 28290.0,\n",
       " 28522.0,\n",
       " 28523.0,\n",
       " 28524.0,\n",
       " 28660.0,\n",
       " 28702.0,\n",
       " 28709.0,\n",
       " 28760.0,\n",
       " 28790.0,\n",
       " 28821.0,\n",
       " 28822.0,\n",
       " 28823.0,\n",
       " 28830.0,\n",
       " 28840.0,\n",
       " 28850.0,\n",
       " 28860.0,\n",
       " 28903.0,\n",
       " 28907.0,\n",
       " 28909.0,\n",
       " 28914.0,\n",
       " 28917.0,\n",
       " 28918.0,\n",
       " 28919.0,\n",
       " 28925.0]"
      ]
     },
     "execution_count": 5,
     "metadata": {},
     "output_type": "execute_result"
    }
   ],
   "source": [
    "sorted(tr.CODIGO_POSTAL.unique())"
   ]
  },
  {
   "cell_type": "code",
   "execution_count": null,
   "metadata": {},
   "outputs": [],
   "source": []
  }
 ],
 "metadata": {
  "kernelspec": {
   "display_name": "Python [conda env:sentinel_env] *",
   "language": "python",
   "name": "conda-env-sentinel_env-py"
  },
  "language_info": {
   "codemirror_mode": {
    "name": "ipython",
    "version": 3
   },
   "file_extension": ".py",
   "mimetype": "text/x-python",
   "name": "python",
   "nbconvert_exporter": "python",
   "pygments_lexer": "ipython3",
   "version": "3.7.6"
  }
 },
 "nbformat": 4,
 "nbformat_minor": 4
}
