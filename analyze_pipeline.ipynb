{
 "cells": [
  {
   "cell_type": "code",
   "execution_count": 5,
   "metadata": {},
   "outputs": [],
   "source": [
    "import pickle\n",
    "import pandas as pd"
   ]
  },
  {
   "cell_type": "code",
   "execution_count": 6,
   "metadata": {},
   "outputs": [],
   "source": [
    "with open('best_BAYES_SEARCH_1104_params.pkl', 'rb') as f:\n",
    "    params = pickle.load(f)"
   ]
  },
  {
   "cell_type": "code",
   "execution_count": 7,
   "metadata": {},
   "outputs": [
    {
     "data": {
      "text/plain": [
       "OrderedDict([('clas_encoder__a', 1.0544361814695895),\n",
       "             ('clas_encoder__sigma', 5.9566902263547865),\n",
       "             ('model__boosting_type', 'goss'),\n",
       "             ('model__colsample_bytree', 0.1),\n",
       "             ('model__learning_rate', 0.01407672458459667),\n",
       "             ('model__min_child_samples', 1),\n",
       "             ('model__min_child_weight', 0.1),\n",
       "             ('model__n_estimators', 4000),\n",
       "             ('model__num_leaves', 70),\n",
       "             ('model__reg_alpha', 0.057663739747204366),\n",
       "             ('model__reg_lambda', 0.03646471971868974),\n",
       "             ('model__subsample', 0.2)])"
      ]
     },
     "execution_count": 7,
     "metadata": {},
     "output_type": "execute_result"
    }
   ],
   "source": [
    "params"
   ]
  },
  {
   "cell_type": "code",
   "execution_count": null,
   "metadata": {},
   "outputs": [],
   "source": []
  },
  {
   "cell_type": "code",
   "execution_count": 8,
   "metadata": {},
   "outputs": [],
   "source": [
    "results = pd.read_csv('results_BAYES_SEARCH_1104.csv')"
   ]
  },
  {
   "cell_type": "code",
   "execution_count": 10,
   "metadata": {},
   "outputs": [],
   "source": [
    "#results"
   ]
  },
  {
   "cell_type": "code",
   "execution_count": null,
   "metadata": {},
   "outputs": [],
   "source": []
  }
 ],
 "metadata": {
  "kernelspec": {
   "display_name": "Python [conda env:sentinel_env] *",
   "language": "python",
   "name": "conda-env-sentinel_env-py"
  },
  "language_info": {
   "codemirror_mode": {
    "name": "ipython",
    "version": 3
   },
   "file_extension": ".py",
   "mimetype": "text/x-python",
   "name": "python",
   "nbconvert_exporter": "python",
   "pygments_lexer": "ipython3",
   "version": "3.7.6"
  }
 },
 "nbformat": 4,
 "nbformat_minor": 4
}
