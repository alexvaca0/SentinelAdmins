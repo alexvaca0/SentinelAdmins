{
 "cells": [
  {
   "cell_type": "code",
   "execution_count": 63,
   "metadata": {},
   "outputs": [],
   "source": [
    "import matplotlib.pyplot as plt\n",
    "import seaborn as sns\n",
    "import pandas as pd\n",
    "import numpy as np\n",
    "import colorcet"
   ]
  },
  {
   "cell_type": "code",
   "execution_count": 2,
   "metadata": {},
   "outputs": [],
   "source": [
    "data = pd.read_csv('Modelar_UH2020.txt', sep ='|')"
   ]
  },
  {
   "cell_type": "code",
   "execution_count": 3,
   "metadata": {},
   "outputs": [
    {
     "data": {
      "text/html": [
       "<div>\n",
       "<style scoped>\n",
       "    .dataframe tbody tr th:only-of-type {\n",
       "        vertical-align: middle;\n",
       "    }\n",
       "\n",
       "    .dataframe tbody tr th {\n",
       "        vertical-align: top;\n",
       "    }\n",
       "\n",
       "    .dataframe thead th {\n",
       "        text-align: right;\n",
       "    }\n",
       "</style>\n",
       "<table border=\"1\" class=\"dataframe\">\n",
       "  <thead>\n",
       "    <tr style=\"text-align: right;\">\n",
       "      <th></th>\n",
       "      <th>ID</th>\n",
       "      <th>X</th>\n",
       "      <th>Y</th>\n",
       "      <th>Q_R_4_0_0</th>\n",
       "      <th>Q_R_4_0_1</th>\n",
       "      <th>Q_R_4_0_2</th>\n",
       "      <th>Q_R_4_0_3</th>\n",
       "      <th>Q_R_4_0_4</th>\n",
       "      <th>Q_R_4_0_5</th>\n",
       "      <th>Q_R_4_0_6</th>\n",
       "      <th>...</th>\n",
       "      <th>Q_NIR_8_1_0</th>\n",
       "      <th>AREA</th>\n",
       "      <th>GEOM_R1</th>\n",
       "      <th>GEOM_R2</th>\n",
       "      <th>GEOM_R3</th>\n",
       "      <th>GEOM_R4</th>\n",
       "      <th>CONTRUCTIONYEAR</th>\n",
       "      <th>MAXBUILDINGFLOOR</th>\n",
       "      <th>CADASTRALQUALITYID</th>\n",
       "      <th>CLASE</th>\n",
       "    </tr>\n",
       "  </thead>\n",
       "  <tbody>\n",
       "    <tr>\n",
       "      <th>0</th>\n",
       "      <td>35984B9C3E7CD9A1</td>\n",
       "      <td>2207357872</td>\n",
       "      <td>165920300</td>\n",
       "      <td>0.000000</td>\n",
       "      <td>443.001300</td>\n",
       "      <td>616.001697</td>\n",
       "      <td>746.998401</td>\n",
       "      <td>872.996472</td>\n",
       "      <td>1009.000946</td>\n",
       "      <td>1159.002319</td>\n",
       "      <td>...</td>\n",
       "      <td>10951.926645</td>\n",
       "      <td>144.426900</td>\n",
       "      <td>0.557237</td>\n",
       "      <td>0.067249</td>\n",
       "      <td>0.057372</td>\n",
       "      <td>0.853127</td>\n",
       "      <td>2002</td>\n",
       "      <td>0.0</td>\n",
       "      <td>2</td>\n",
       "      <td>RESIDENTIAL</td>\n",
       "    </tr>\n",
       "    <tr>\n",
       "      <th>1</th>\n",
       "      <td>F9D04BF6D037F8FB</td>\n",
       "      <td>2189757160</td>\n",
       "      <td>165463267</td>\n",
       "      <td>0.000059</td>\n",
       "      <td>443.899011</td>\n",
       "      <td>627.999060</td>\n",
       "      <td>770.001611</td>\n",
       "      <td>904.999988</td>\n",
       "      <td>1032.998474</td>\n",
       "      <td>1165.001636</td>\n",
       "      <td>...</td>\n",
       "      <td>7048.367637</td>\n",
       "      <td>38.342550</td>\n",
       "      <td>0.709884</td>\n",
       "      <td>0.125156</td>\n",
       "      <td>0.147929</td>\n",
       "      <td>1.181953</td>\n",
       "      <td>1949</td>\n",
       "      <td>1.0</td>\n",
       "      <td>8</td>\n",
       "      <td>RESIDENTIAL</td>\n",
       "    </tr>\n",
       "    <tr>\n",
       "      <th>2</th>\n",
       "      <td>B89D5711AFF8C423</td>\n",
       "      <td>2240147335</td>\n",
       "      <td>165690752</td>\n",
       "      <td>0.000000</td>\n",
       "      <td>353.502274</td>\n",
       "      <td>523.003601</td>\n",
       "      <td>644.001831</td>\n",
       "      <td>760.997131</td>\n",
       "      <td>876.999634</td>\n",
       "      <td>1006.997498</td>\n",
       "      <td>...</td>\n",
       "      <td>7013.073271</td>\n",
       "      <td>108.794384</td>\n",
       "      <td>0.517702</td>\n",
       "      <td>0.058268</td>\n",
       "      <td>0.081666</td>\n",
       "      <td>1.401552</td>\n",
       "      <td>1986</td>\n",
       "      <td>1.0</td>\n",
       "      <td>5</td>\n",
       "      <td>RESIDENTIAL</td>\n",
       "    </tr>\n",
       "    <tr>\n",
       "      <th>3</th>\n",
       "      <td>1C3478AC1522E7E4</td>\n",
       "      <td>2227146459</td>\n",
       "      <td>165934099</td>\n",
       "      <td>0.000000</td>\n",
       "      <td>268.000613</td>\n",
       "      <td>376.999609</td>\n",
       "      <td>478.003784</td>\n",
       "      <td>575.001233</td>\n",
       "      <td>683.997742</td>\n",
       "      <td>809.005994</td>\n",
       "      <td>...</td>\n",
       "      <td>6216.880538</td>\n",
       "      <td>155.224455</td>\n",
       "      <td>0.450871</td>\n",
       "      <td>0.053591</td>\n",
       "      <td>0.054201</td>\n",
       "      <td>1.011382</td>\n",
       "      <td>1999</td>\n",
       "      <td>1.0</td>\n",
       "      <td>2</td>\n",
       "      <td>RESIDENTIAL</td>\n",
       "    </tr>\n",
       "    <tr>\n",
       "      <th>4</th>\n",
       "      <td>4D12AA5009064345</td>\n",
       "      <td>2212350459</td>\n",
       "      <td>165681791</td>\n",
       "      <td>0.000000</td>\n",
       "      <td>318.997910</td>\n",
       "      <td>492.003845</td>\n",
       "      <td>632.999634</td>\n",
       "      <td>757.002197</td>\n",
       "      <td>882.999908</td>\n",
       "      <td>1019.008911</td>\n",
       "      <td>...</td>\n",
       "      <td>7092.767616</td>\n",
       "      <td>1789.873366</td>\n",
       "      <td>0.458819</td>\n",
       "      <td>0.012858</td>\n",
       "      <td>0.019936</td>\n",
       "      <td>1.550478</td>\n",
       "      <td>1966</td>\n",
       "      <td>8.0</td>\n",
       "      <td>6</td>\n",
       "      <td>RESIDENTIAL</td>\n",
       "    </tr>\n",
       "  </tbody>\n",
       "</table>\n",
       "<p>5 rows × 56 columns</p>\n",
       "</div>"
      ],
      "text/plain": [
       "                 ID           X          Y  Q_R_4_0_0   Q_R_4_0_1   Q_R_4_0_2  \\\n",
       "0  35984B9C3E7CD9A1  2207357872  165920300   0.000000  443.001300  616.001697   \n",
       "1  F9D04BF6D037F8FB  2189757160  165463267   0.000059  443.899011  627.999060   \n",
       "2  B89D5711AFF8C423  2240147335  165690752   0.000000  353.502274  523.003601   \n",
       "3  1C3478AC1522E7E4  2227146459  165934099   0.000000  268.000613  376.999609   \n",
       "4  4D12AA5009064345  2212350459  165681791   0.000000  318.997910  492.003845   \n",
       "\n",
       "    Q_R_4_0_3   Q_R_4_0_4    Q_R_4_0_5    Q_R_4_0_6  ...   Q_NIR_8_1_0  \\\n",
       "0  746.998401  872.996472  1009.000946  1159.002319  ...  10951.926645   \n",
       "1  770.001611  904.999988  1032.998474  1165.001636  ...   7048.367637   \n",
       "2  644.001831  760.997131   876.999634  1006.997498  ...   7013.073271   \n",
       "3  478.003784  575.001233   683.997742   809.005994  ...   6216.880538   \n",
       "4  632.999634  757.002197   882.999908  1019.008911  ...   7092.767616   \n",
       "\n",
       "          AREA   GEOM_R1   GEOM_R2   GEOM_R3   GEOM_R4  CONTRUCTIONYEAR  \\\n",
       "0   144.426900  0.557237  0.067249  0.057372  0.853127             2002   \n",
       "1    38.342550  0.709884  0.125156  0.147929  1.181953             1949   \n",
       "2   108.794384  0.517702  0.058268  0.081666  1.401552             1986   \n",
       "3   155.224455  0.450871  0.053591  0.054201  1.011382             1999   \n",
       "4  1789.873366  0.458819  0.012858  0.019936  1.550478             1966   \n",
       "\n",
       "   MAXBUILDINGFLOOR  CADASTRALQUALITYID        CLASE  \n",
       "0               0.0                   2  RESIDENTIAL  \n",
       "1               1.0                   8  RESIDENTIAL  \n",
       "2               1.0                   5  RESIDENTIAL  \n",
       "3               1.0                   2  RESIDENTIAL  \n",
       "4               8.0                   6  RESIDENTIAL  \n",
       "\n",
       "[5 rows x 56 columns]"
      ]
     },
     "execution_count": 3,
     "metadata": {},
     "output_type": "execute_result"
    }
   ],
   "source": [
    "data.head()"
   ]
  },
  {
   "cell_type": "code",
   "execution_count": 4,
   "metadata": {},
   "outputs": [
    {
     "data": {
      "text/plain": [
       "(103230, 56)"
      ]
     },
     "execution_count": 4,
     "metadata": {},
     "output_type": "execute_result"
    }
   ],
   "source": [
    "data.shape"
   ]
  },
  {
   "cell_type": "code",
   "execution_count": 7,
   "metadata": {},
   "outputs": [
    {
     "data": {
      "text/plain": [
       "ID                     0\n",
       "X                      0\n",
       "Y                      0\n",
       "Q_R_4_0_0              0\n",
       "Q_R_4_0_1              0\n",
       "Q_R_4_0_2              0\n",
       "Q_R_4_0_3              0\n",
       "Q_R_4_0_4              0\n",
       "Q_R_4_0_5              0\n",
       "Q_R_4_0_6              0\n",
       "Q_R_4_0_7              0\n",
       "Q_R_4_0_8              0\n",
       "Q_R_4_0_9              0\n",
       "Q_R_4_1_0              0\n",
       "Q_G_3_0_0              0\n",
       "Q_G_3_0_1              0\n",
       "Q_G_3_0_2              0\n",
       "Q_G_3_0_3              0\n",
       "Q_G_3_0_4              0\n",
       "Q_G_3_0_5              0\n",
       "Q_G_3_0_6              0\n",
       "Q_G_3_0_7              0\n",
       "Q_G_3_0_8              0\n",
       "Q_G_3_0_9              0\n",
       "Q_G_3_1_0              0\n",
       "Q_B_2_0_0              0\n",
       "Q_B_2_0_1              0\n",
       "Q_B_2_0_2              0\n",
       "Q_B_2_0_3              0\n",
       "Q_B_2_0_4              0\n",
       "Q_B_2_0_5              0\n",
       "Q_B_2_0_6              0\n",
       "Q_B_2_0_7              0\n",
       "Q_B_2_0_8              0\n",
       "Q_B_2_0_9              0\n",
       "Q_B_2_1_0              0\n",
       "Q_NIR_8_0_0            0\n",
       "Q_NIR_8_0_1            0\n",
       "Q_NIR_8_0_2            0\n",
       "Q_NIR_8_0_3            0\n",
       "Q_NIR_8_0_4            0\n",
       "Q_NIR_8_0_5            0\n",
       "Q_NIR_8_0_6            0\n",
       "Q_NIR_8_0_7            0\n",
       "Q_NIR_8_0_8            0\n",
       "Q_NIR_8_0_9            0\n",
       "Q_NIR_8_1_0            0\n",
       "AREA                   0\n",
       "GEOM_R1                0\n",
       "GEOM_R2                0\n",
       "GEOM_R3                0\n",
       "GEOM_R4                0\n",
       "CONTRUCTIONYEAR        0\n",
       "MAXBUILDINGFLOOR      20\n",
       "CADASTRALQUALITYID    20\n",
       "CLASE                  0\n",
       "dtype: int64"
      ]
     },
     "execution_count": 7,
     "metadata": {},
     "output_type": "execute_result"
    }
   ],
   "source": [
    "data.isnull().sum()"
   ]
  },
  {
   "cell_type": "code",
   "execution_count": 9,
   "metadata": {},
   "outputs": [],
   "source": [
    "data_clean = data.dropna()"
   ]
  },
  {
   "cell_type": "code",
   "execution_count": 13,
   "metadata": {},
   "outputs": [],
   "source": [
    "data_sample = data_clean.sample(1000)"
   ]
  },
  {
   "cell_type": "code",
   "execution_count": 17,
   "metadata": {},
   "outputs": [],
   "source": [
    "data_sample.reset_index(drop=True, inplace=True)"
   ]
  },
  {
   "cell_type": "code",
   "execution_count": 19,
   "metadata": {},
   "outputs": [
    {
     "data": {
      "text/html": [
       "<div>\n",
       "<style scoped>\n",
       "    .dataframe tbody tr th:only-of-type {\n",
       "        vertical-align: middle;\n",
       "    }\n",
       "\n",
       "    .dataframe tbody tr th {\n",
       "        vertical-align: top;\n",
       "    }\n",
       "\n",
       "    .dataframe thead th {\n",
       "        text-align: right;\n",
       "    }\n",
       "</style>\n",
       "<table border=\"1\" class=\"dataframe\">\n",
       "  <thead>\n",
       "    <tr style=\"text-align: right;\">\n",
       "      <th></th>\n",
       "      <th>X</th>\n",
       "      <th>Y</th>\n",
       "      <th>Q_R_4_0_0</th>\n",
       "      <th>Q_R_4_0_1</th>\n",
       "      <th>Q_R_4_0_2</th>\n",
       "      <th>Q_R_4_0_3</th>\n",
       "      <th>Q_R_4_0_4</th>\n",
       "      <th>Q_R_4_0_5</th>\n",
       "      <th>Q_R_4_0_6</th>\n",
       "      <th>Q_R_4_0_7</th>\n",
       "      <th>...</th>\n",
       "      <th>Q_NIR_8_0_8</th>\n",
       "      <th>Q_NIR_8_0_9</th>\n",
       "      <th>Q_NIR_8_1_0</th>\n",
       "      <th>AREA</th>\n",
       "      <th>GEOM_R1</th>\n",
       "      <th>GEOM_R2</th>\n",
       "      <th>GEOM_R3</th>\n",
       "      <th>GEOM_R4</th>\n",
       "      <th>CONTRUCTIONYEAR</th>\n",
       "      <th>MAXBUILDINGFLOOR</th>\n",
       "    </tr>\n",
       "  </thead>\n",
       "  <tbody>\n",
       "    <tr>\n",
       "      <th>count</th>\n",
       "      <td>1.032300e+05</td>\n",
       "      <td>1.032300e+05</td>\n",
       "      <td>1.032300e+05</td>\n",
       "      <td>103230.000000</td>\n",
       "      <td>103230.000000</td>\n",
       "      <td>103230.000000</td>\n",
       "      <td>103230.000000</td>\n",
       "      <td>103230.000000</td>\n",
       "      <td>103230.000000</td>\n",
       "      <td>103230.000000</td>\n",
       "      <td>...</td>\n",
       "      <td>103230.000000</td>\n",
       "      <td>103230.000000</td>\n",
       "      <td>103230.000000</td>\n",
       "      <td>103230.000000</td>\n",
       "      <td>103230.000000</td>\n",
       "      <td>103230.000000</td>\n",
       "      <td>103230.000000</td>\n",
       "      <td>103230.000000</td>\n",
       "      <td>103230.000000</td>\n",
       "      <td>103210.000000</td>\n",
       "    </tr>\n",
       "    <tr>\n",
       "      <th>mean</th>\n",
       "      <td>2.208858e+09</td>\n",
       "      <td>1.655955e+08</td>\n",
       "      <td>4.578804e-05</td>\n",
       "      <td>382.633602</td>\n",
       "      <td>548.659095</td>\n",
       "      <td>684.016575</td>\n",
       "      <td>811.053925</td>\n",
       "      <td>939.978002</td>\n",
       "      <td>1080.127592</td>\n",
       "      <td>1242.841586</td>\n",
       "      <td>...</td>\n",
       "      <td>2328.363095</td>\n",
       "      <td>2738.622278</td>\n",
       "      <td>7748.293927</td>\n",
       "      <td>441.123610</td>\n",
       "      <td>0.563343</td>\n",
       "      <td>0.062482</td>\n",
       "      <td>0.061855</td>\n",
       "      <td>1.074327</td>\n",
       "      <td>1972.552436</td>\n",
       "      <td>3.766709</td>\n",
       "    </tr>\n",
       "    <tr>\n",
       "      <th>std</th>\n",
       "      <td>2.751723e+07</td>\n",
       "      <td>2.040199e+05</td>\n",
       "      <td>3.168761e-03</td>\n",
       "      <td>99.470870</td>\n",
       "      <td>121.439858</td>\n",
       "      <td>137.763573</td>\n",
       "      <td>153.486424</td>\n",
       "      <td>169.546408</td>\n",
       "      <td>186.422410</td>\n",
       "      <td>206.993926</td>\n",
       "      <td>...</td>\n",
       "      <td>295.852549</td>\n",
       "      <td>365.812714</td>\n",
       "      <td>2795.775635</td>\n",
       "      <td>1869.705189</td>\n",
       "      <td>0.174141</td>\n",
       "      <td>0.042849</td>\n",
       "      <td>0.042295</td>\n",
       "      <td>0.541156</td>\n",
       "      <td>22.335987</td>\n",
       "      <td>2.944896</td>\n",
       "    </tr>\n",
       "    <tr>\n",
       "      <th>min</th>\n",
       "      <td>2.120751e+09</td>\n",
       "      <td>1.650957e+08</td>\n",
       "      <td>0.000000e+00</td>\n",
       "      <td>151.000375</td>\n",
       "      <td>184.999420</td>\n",
       "      <td>214.000473</td>\n",
       "      <td>239.999503</td>\n",
       "      <td>269.999451</td>\n",
       "      <td>310.999493</td>\n",
       "      <td>382.999844</td>\n",
       "      <td>...</td>\n",
       "      <td>1861.006226</td>\n",
       "      <td>2172.992676</td>\n",
       "      <td>4085.049076</td>\n",
       "      <td>0.038770</td>\n",
       "      <td>0.000626</td>\n",
       "      <td>0.000679</td>\n",
       "      <td>0.000770</td>\n",
       "      <td>0.015157</td>\n",
       "      <td>1820.000000</td>\n",
       "      <td>0.000000</td>\n",
       "    </tr>\n",
       "    <tr>\n",
       "      <th>25%</th>\n",
       "      <td>2.194235e+09</td>\n",
       "      <td>1.654515e+08</td>\n",
       "      <td>0.000000e+00</td>\n",
       "      <td>316.997635</td>\n",
       "      <td>492.003845</td>\n",
       "      <td>632.999634</td>\n",
       "      <td>753.999597</td>\n",
       "      <td>875.008087</td>\n",
       "      <td>1006.997498</td>\n",
       "      <td>1173.999329</td>\n",
       "      <td>...</td>\n",
       "      <td>2126.002441</td>\n",
       "      <td>2478.998193</td>\n",
       "      <td>6051.309064</td>\n",
       "      <td>97.477454</td>\n",
       "      <td>0.455183</td>\n",
       "      <td>0.038255</td>\n",
       "      <td>0.038153</td>\n",
       "      <td>0.801352</td>\n",
       "      <td>1960.000000</td>\n",
       "      <td>1.000000</td>\n",
       "    </tr>\n",
       "    <tr>\n",
       "      <th>50%</th>\n",
       "      <td>2.205985e+09</td>\n",
       "      <td>1.655907e+08</td>\n",
       "      <td>0.000000e+00</td>\n",
       "      <td>385.000995</td>\n",
       "      <td>562.997583</td>\n",
       "      <td>698.003998</td>\n",
       "      <td>833.996582</td>\n",
       "      <td>969.999817</td>\n",
       "      <td>1115.001489</td>\n",
       "      <td>1268.997705</td>\n",
       "      <td>...</td>\n",
       "      <td>2313.999268</td>\n",
       "      <td>2688.000000</td>\n",
       "      <td>6798.207198</td>\n",
       "      <td>171.554907</td>\n",
       "      <td>0.536336</td>\n",
       "      <td>0.055802</td>\n",
       "      <td>0.055036</td>\n",
       "      <td>0.997175</td>\n",
       "      <td>1972.000000</td>\n",
       "      <td>4.000000</td>\n",
       "    </tr>\n",
       "    <tr>\n",
       "      <th>75%</th>\n",
       "      <td>2.224105e+09</td>\n",
       "      <td>1.657138e+08</td>\n",
       "      <td>5.786675e-07</td>\n",
       "      <td>445.002853</td>\n",
       "      <td>627.001038</td>\n",
       "      <td>770.001611</td>\n",
       "      <td>904.999988</td>\n",
       "      <td>1042.505188</td>\n",
       "      <td>1200.006226</td>\n",
       "      <td>1348.996033</td>\n",
       "      <td>...</td>\n",
       "      <td>2491.004199</td>\n",
       "      <td>2940.996704</td>\n",
       "      <td>8033.479864</td>\n",
       "      <td>343.563671</td>\n",
       "      <td>0.674723</td>\n",
       "      <td>0.078477</td>\n",
       "      <td>0.078064</td>\n",
       "      <td>1.223456</td>\n",
       "      <td>1989.000000</td>\n",
       "      <td>5.000000</td>\n",
       "    </tr>\n",
       "    <tr>\n",
       "      <th>max</th>\n",
       "      <td>2.287300e+09</td>\n",
       "      <td>1.665046e+08</td>\n",
       "      <td>1.016050e+00</td>\n",
       "      <td>833.999402</td>\n",
       "      <td>1016.000732</td>\n",
       "      <td>1200.003003</td>\n",
       "      <td>1377.999927</td>\n",
       "      <td>1570.504517</td>\n",
       "      <td>1806.002686</td>\n",
       "      <td>2175.694824</td>\n",
       "      <td>...</td>\n",
       "      <td>3750.997559</td>\n",
       "      <td>4614.998535</td>\n",
       "      <td>15848.608811</td>\n",
       "      <td>238058.952253</td>\n",
       "      <td>1.000000</td>\n",
       "      <td>1.785714</td>\n",
       "      <td>2.631579</td>\n",
       "      <td>68.812431</td>\n",
       "      <td>2017.000000</td>\n",
       "      <td>25.000000</td>\n",
       "    </tr>\n",
       "  </tbody>\n",
       "</table>\n",
       "<p>8 rows × 53 columns</p>\n",
       "</div>"
      ],
      "text/plain": [
       "                  X             Y     Q_R_4_0_0      Q_R_4_0_1      Q_R_4_0_2  \\\n",
       "count  1.032300e+05  1.032300e+05  1.032300e+05  103230.000000  103230.000000   \n",
       "mean   2.208858e+09  1.655955e+08  4.578804e-05     382.633602     548.659095   \n",
       "std    2.751723e+07  2.040199e+05  3.168761e-03      99.470870     121.439858   \n",
       "min    2.120751e+09  1.650957e+08  0.000000e+00     151.000375     184.999420   \n",
       "25%    2.194235e+09  1.654515e+08  0.000000e+00     316.997635     492.003845   \n",
       "50%    2.205985e+09  1.655907e+08  0.000000e+00     385.000995     562.997583   \n",
       "75%    2.224105e+09  1.657138e+08  5.786675e-07     445.002853     627.001038   \n",
       "max    2.287300e+09  1.665046e+08  1.016050e+00     833.999402    1016.000732   \n",
       "\n",
       "           Q_R_4_0_3      Q_R_4_0_4      Q_R_4_0_5      Q_R_4_0_6  \\\n",
       "count  103230.000000  103230.000000  103230.000000  103230.000000   \n",
       "mean      684.016575     811.053925     939.978002    1080.127592   \n",
       "std       137.763573     153.486424     169.546408     186.422410   \n",
       "min       214.000473     239.999503     269.999451     310.999493   \n",
       "25%       632.999634     753.999597     875.008087    1006.997498   \n",
       "50%       698.003998     833.996582     969.999817    1115.001489   \n",
       "75%       770.001611     904.999988    1042.505188    1200.006226   \n",
       "max      1200.003003    1377.999927    1570.504517    1806.002686   \n",
       "\n",
       "           Q_R_4_0_7  ...    Q_NIR_8_0_8    Q_NIR_8_0_9    Q_NIR_8_1_0  \\\n",
       "count  103230.000000  ...  103230.000000  103230.000000  103230.000000   \n",
       "mean     1242.841586  ...    2328.363095    2738.622278    7748.293927   \n",
       "std       206.993926  ...     295.852549     365.812714    2795.775635   \n",
       "min       382.999844  ...    1861.006226    2172.992676    4085.049076   \n",
       "25%      1173.999329  ...    2126.002441    2478.998193    6051.309064   \n",
       "50%      1268.997705  ...    2313.999268    2688.000000    6798.207198   \n",
       "75%      1348.996033  ...    2491.004199    2940.996704    8033.479864   \n",
       "max      2175.694824  ...    3750.997559    4614.998535   15848.608811   \n",
       "\n",
       "                AREA        GEOM_R1        GEOM_R2        GEOM_R3  \\\n",
       "count  103230.000000  103230.000000  103230.000000  103230.000000   \n",
       "mean      441.123610       0.563343       0.062482       0.061855   \n",
       "std      1869.705189       0.174141       0.042849       0.042295   \n",
       "min         0.038770       0.000626       0.000679       0.000770   \n",
       "25%        97.477454       0.455183       0.038255       0.038153   \n",
       "50%       171.554907       0.536336       0.055802       0.055036   \n",
       "75%       343.563671       0.674723       0.078477       0.078064   \n",
       "max    238058.952253       1.000000       1.785714       2.631579   \n",
       "\n",
       "             GEOM_R4  CONTRUCTIONYEAR  MAXBUILDINGFLOOR  \n",
       "count  103230.000000    103230.000000     103210.000000  \n",
       "mean        1.074327      1972.552436          3.766709  \n",
       "std         0.541156        22.335987          2.944896  \n",
       "min         0.015157      1820.000000          0.000000  \n",
       "25%         0.801352      1960.000000          1.000000  \n",
       "50%         0.997175      1972.000000          4.000000  \n",
       "75%         1.223456      1989.000000          5.000000  \n",
       "max        68.812431      2017.000000         25.000000  \n",
       "\n",
       "[8 rows x 53 columns]"
      ]
     },
     "execution_count": 19,
     "metadata": {},
     "output_type": "execute_result"
    }
   ],
   "source": [
    "data.describe()"
   ]
  },
  {
   "cell_type": "code",
   "execution_count": 20,
   "metadata": {},
   "outputs": [
    {
     "data": {
      "text/plain": [
       "array(['RESIDENTIAL', 'INDUSTRIAL', 'PUBLIC', 'OFFICE', 'OTHER', 'RETAIL',\n",
       "       'AGRICULTURE'], dtype=object)"
      ]
     },
     "execution_count": 20,
     "metadata": {},
     "output_type": "execute_result"
    }
   ],
   "source": [
    "data.CLASE.unique()"
   ]
  },
  {
   "cell_type": "code",
   "execution_count": 26,
   "metadata": {},
   "outputs": [
    {
     "data": {
      "text/plain": [
       "<matplotlib.axes._subplots.AxesSubplot at 0x7f2371a81978>"
      ]
     },
     "execution_count": 26,
     "metadata": {},
     "output_type": "execute_result"
    },
    {
     "data": {
      "image/png": "[encoded data removed]",
      "text/plain": [
       "<Figure size 864x648 with 1 Axes>"
      ]
     },
     "metadata": {
      "needs_background": "light"
     },
     "output_type": "display_data"
    }
   ],
   "source": [
    "plt.rcParams['figure.figsize'] = (12, 9)\n",
    "sns.countplot(data['CLASE'])"
   ]
  },
  {
   "cell_type": "code",
   "execution_count": 28,
   "metadata": {},
   "outputs": [
    {
     "data": {
      "text/plain": [
       "<matplotlib.axes._subplots.AxesSubplot at 0x7f2371b1f9b0>"
      ]
     },
     "execution_count": 28,
     "metadata": {},
     "output_type": "execute_result"
    },
    {
     "data": {
      "image/png": "[encoded data removed]",
      "text/plain": [
       "<Figure size 864x648 with 1 Axes>"
      ]
     },
     "metadata": {
      "needs_background": "light"
     },
     "output_type": "display_data"
    }
   ],
   "source": [
    "sns.countplot(data['CONTRUCTIONYEAR'])"
   ]
  },
  {
   "cell_type": "code",
   "execution_count": null,
   "metadata": {},
   "outputs": [],
   "source": [
    "df['sin_time'] = np.sin(2*np.pi*df.seconds/seconds_in_day)\n",
    "df['cos_time'] = np.cos(2*np.pi*df.seconds/seconds_in_day)\n"
   ]
  },
  {
   "cell_type": "code",
   "execution_count": 29,
   "metadata": {},
   "outputs": [
    {
     "data": {
      "text/plain": [
       "<matplotlib.axes._subplots.AxesSubplot at 0x7f2371fdb2e8>"
      ]
     },
     "execution_count": 29,
     "metadata": {},
     "output_type": "execute_result"
    },
    {
     "data": {
      "image/png": "[encoded data removed]",
      "text/plain": [
       "<Figure size 864x648 with 1 Axes>"
      ]
     },
     "metadata": {
      "needs_background": "light"
     },
     "output_type": "display_data"
    }
   ],
   "source": [
    "sns.boxplot(data.CONTRUCTIONYEAR)"
   ]
  },
  {
   "cell_type": "code",
   "execution_count": null,
   "metadata": {},
   "outputs": [],
   "source": [
    "div = (data.CONTRUCTIONYEAR.max() - data.CONTRUCTIONYEAR.min())"
   ]
  },
  {
   "cell_type": "code",
   "execution_count": 33,
   "metadata": {},
   "outputs": [],
   "source": [
    "sin_time = np.sin(2*np.pi*data.CONTRUCTIONYEAR / 10)"
   ]
  },
  {
   "cell_type": "code",
   "execution_count": 34,
   "metadata": {},
   "outputs": [],
   "source": [
    "cos_time = np.cos(2*np.pi*data.CONTRUCTIONYEAR / 10)"
   ]
  },
  {
   "cell_type": "code",
   "execution_count": 35,
   "metadata": {},
   "outputs": [
    {
     "data": {
      "text/plain": [
       "[<matplotlib.lines.Line2D at 0x7f237206f438>]"
      ]
     },
     "execution_count": 35,
     "metadata": {},
     "output_type": "execute_result"
    },
    {
     "data": {
      "image/png": "[encoded data removed]",
      "text/plain": [
       "<Figure size 864x648 with 1 Axes>"
      ]
     },
     "metadata": {
      "needs_background": "light"
     },
     "output_type": "display_data"
    }
   ],
   "source": [
    "plt.plot(sin_time)"
   ]
  },
  {
   "cell_type": "code",
   "execution_count": 38,
   "metadata": {},
   "outputs": [
    {
     "data": {
      "text/plain": [
       "[<matplotlib.lines.Line2D at 0x7f2372934860>]"
      ]
     },
     "execution_count": 38,
     "metadata": {},
     "output_type": "execute_result"
    },
    {
     "data": {
      "image/png": "[encoded data removed]",
      "text/plain": [
       "<Figure size 864x648 with 1 Axes>"
      ]
     },
     "metadata": {
      "needs_background": "light"
     },
     "output_type": "display_data"
    }
   ],
   "source": [
    "plt.rcParams['agg.path.chunksize'] = 10000\n",
    "plt.plot(data.X, data.Y, '.')"
   ]
  },
  {
   "cell_type": "code",
   "execution_count": 132,
   "metadata": {
    "scrolled": true
   },
   "outputs": [
    {
     "data": {
      "text/plain": [
       "(array([90173.,     0.,     0.,     0.,     0.,     0.,     0.,     0.,\n",
       "         4486.,     0.,     0.,     0.,     0.,     0.,     0.,     0.,\n",
       "         2976.,     0.,     0.,     0.,     0.,     0.,     0.,     0.,\n",
       "            0.,  1828.,     0.,     0.,     0.,     0.,     0.,     0.,\n",
       "            0.,  1332.,     0.,     0.,     0.,     0.,     0.,     0.,\n",
       "            0.,  2092.,     0.,     0.,     0.,     0.,     0.,     0.,\n",
       "            0.,   323.]),\n",
       " array([0.  , 0.12, 0.24, 0.36, 0.48, 0.6 , 0.72, 0.84, 0.96, 1.08, 1.2 ,\n",
       "        1.32, 1.44, 1.56, 1.68, 1.8 , 1.92, 2.04, 2.16, 2.28, 2.4 , 2.52,\n",
       "        2.64, 2.76, 2.88, 3.  , 3.12, 3.24, 3.36, 3.48, 3.6 , 3.72, 3.84,\n",
       "        3.96, 4.08, 4.2 , 4.32, 4.44, 4.56, 4.68, 4.8 , 4.92, 5.04, 5.16,\n",
       "        5.28, 5.4 , 5.52, 5.64, 5.76, 5.88, 6.  ]),\n",
       " <a list of 50 Patch objects>)"
      ]
     },
     "execution_count": 132,
     "metadata": {},
     "output_type": "execute_result"
    },
    {
     "data": {
      "image/png": "[encoded data removed]",
      "text/plain": [
       "<Figure size 720x576 with 1 Axes>"
      ]
     },
     "metadata": {
      "needs_background": "light"
     },
     "output_type": "display_data"
    }
   ],
   "source": [
    "plt.rcParams['figure.figsize'] = (10, 8)\n",
    "plt.hist(data_clean.iloc[:,55], bins=50)\n",
    "#sns.countplot(data_clean.iloc[:, 10], hue=data_clean['CLASE'], orient='h')"
   ]
  },
  {
   "cell_type": "code",
   "execution_count": 73,
   "metadata": {},
   "outputs": [],
   "source": [
    "#plt.hist(data_clean.iloc[:,10], bins = 50)"
   ]
  },
  {
   "cell_type": "code",
   "execution_count": 72,
   "metadata": {},
   "outputs": [],
   "source": [
    "#sns.countplot(data_clean.iloc[:, 10])"
   ]
  },
  {
   "cell_type": "code",
   "execution_count": 133,
   "metadata": {},
   "outputs": [],
   "source": [
    "##### variables que se distribuyen \"raro\": \n",
    "# 3 , 13, 14 (rarísimo), 15 (casi normal pero algo asimétrico),\n",
    "# 23 (casi normal pero algo asimétrico), 24, 25,\n",
    "# 26 (asimétrica a tope), 27, 28, 30 (muy centrada, aunque así hay más)\n",
    "# 31 (parecida a 30), 32 (igual q 31, 30), 33 (asimétrica con algunos outliers)\n",
    "# 34 (parecida a 33), 35 (bastante asimétrica con outliers claros), \n",
    "# 36 (solo tiene valores en una franja concreta a excepción de unos pocos outliers)\n",
    "# 38 (mucha asimetría), 39 (igual), 40 (igual), 41 (igual), 42 (igual), 43 (igual)\n",
    "# 44 (igual), 45 (igual), 46 (rarísima, échale un ojo tú mismo),  \n",
    "# 47 (casi todos los valores cerca del 0, algunos valores a tomar x culo)\n",
    "# 49 (parecida a 47, pero el rango es menor), 50 (igual q 49)\n",
    "# 51 (igual que 49 y 50 pero algo mayor el rango), \n",
    "# 52 (claramente entre los años 50 y 2000 se construyen la mayoría de las casas)\n",
    "# 53 (me parece claramente categórica, dime tu como lo ves )\n",
    "# 54 (claramente categórica; las clases B, A y C poco presentes)\n",
    "# OBJ: 55 (una asimetría brutal la verdad..., pillar x ejemplo la clase agriculture va a ser muy complicado).\n"
   ]
  },
  {
   "cell_type": "code",
   "execution_count": 82,
   "metadata": {},
   "outputs": [],
   "source": [
    "#data_clean.iloc[:, 14].describe()"
   ]
  },
  {
   "cell_type": "code",
   "execution_count": null,
   "metadata": {},
   "outputs": [],
   "source": []
  },
  {
   "cell_type": "code",
   "execution_count": null,
   "metadata": {},
   "outputs": [],
   "source": []
  },
  {
   "cell_type": "code",
   "execution_count": null,
   "metadata": {},
   "outputs": [],
   "source": []
  },
  {
   "cell_type": "code",
   "execution_count": null,
   "metadata": {},
   "outputs": [],
   "source": []
  },
  {
   "cell_type": "code",
   "execution_count": null,
   "metadata": {},
   "outputs": [],
   "source": []
  }
 ],
 "metadata": {
  "kernelspec": {
   "display_name": "Python 3",
   "language": "python",
   "name": "python3"
  },
  "language_info": {
   "codemirror_mode": {
    "name": "ipython",
    "version": 3
   },
   "file_extension": ".py",
   "mimetype": "text/x-python",
   "name": "python",
   "nbconvert_exporter": "python",
   "pygments_lexer": "ipython3",
   "version": "3.7.3"
  }
 },
 "nbformat": 4,
 "nbformat_minor": 2
}
