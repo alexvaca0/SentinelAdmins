{
 "cells": [
  {
   "cell_type": "code",
   "execution_count": 17,
   "metadata": {},
   "outputs": [],
   "source": [
    "import geopandas as gpd\n",
    "import pandas as pd\n",
    "import numpy as np\n",
    "from programa_geovars import *"
   ]
  },
  {
   "cell_type": "code",
   "execution_count": 18,
   "metadata": {},
   "outputs": [],
   "source": [
    "vars_postal_code = pd.read_csv(\"vars_censo_codigo_postal_def.csv\")\n",
    "cod_postales = gpd.read_file(\"codigos_postales_madrid/codigos_postales_madrid.shp\")"
   ]
  },
  {
   "cell_type": "code",
   "execution_count": 100,
   "metadata": {},
   "outputs": [
    {
     "name": "stderr",
     "output_type": "stream",
     "text": [
      "/home/alejandro.vaca/miniconda/envs/sentinel_env/lib/python3.7/site-packages/IPython/core/interactiveshell.py:3063: DtypeWarning: Columns (54) have mixed types.Specify dtype option on import or set low_memory=False.\n",
      "  interactivity=interactivity, compiler=compiler, result=result)\n"
     ]
    }
   ],
   "source": [
    "total_tr = pd.read_csv('TOTAL_TRAIN.csv')"
   ]
  },
  {
   "cell_type": "code",
   "execution_count": 36,
   "metadata": {},
   "outputs": [],
   "source": [
    "cols_rellenar = total_tr.columns[total_tr.isna().sum()>20]"
   ]
  },
  {
   "cell_type": "code",
   "execution_count": 62,
   "metadata": {},
   "outputs": [
    {
     "data": {
      "text/plain": [
       "Index(['edad_media', 'p_poblacion_menor_de_18', 'p_poblacion_mayor_65',\n",
       "       'media_personas_por_hogar', 'poblacion_municipio', 'poblacion_cp',\n",
       "       'crecimiento_poblaconal_2015', 'renta_media_por_persona',\n",
       "       'renta_media_por_hogar', 'p_suelo_urbano', 'p_agropecuario',\n",
       "       'p_cultural', 'p_deportivo', 'p_industrial', 'p_oficina', 'p_otros',\n",
       "       'p_publico', 'p_residencial', 'p_retail', 'p_salud', 'p_solteros',\n",
       "       'p_casados', 'p_viudos', 'p_separados', 'p_divorciados',\n",
       "       'p_extranjeros', 'p_hogares_unipersonales', 'p_ocup_agropecuaria',\n",
       "       'p_ocup_pesca', 'p_ocup_mineria', 'p_ocup_manufactura',\n",
       "       'p_ocup_dirstr_gas_elec_agua', 'p_ocup_construccion',\n",
       "       'p_ocup_taller_automotriz', 'p_ocup_hosteleria', 'p_ocup_transporte',\n",
       "       'p_ocup_financiera', 'p_ocup_inmobiliarias', 'p_ocup_adm_publica',\n",
       "       'p_ocup_educacion', 'p_ocup_medicina', 'p_ocup_otros',\n",
       "       'p_casas_con_servicio_domestico', 'prop_masculinidad',\n",
       "       'prop_reemplazamiento', 'prop_dependientes', 'prop_analfabetas',\n",
       "       'prop_paro'],\n",
       "      dtype='object')"
      ]
     },
     "execution_count": 62,
     "metadata": {},
     "output_type": "execute_result"
    }
   ],
   "source": [
    "cols_rellenar"
   ]
  },
  {
   "cell_type": "code",
   "execution_count": 51,
   "metadata": {},
   "outputs": [],
   "source": [
    "#total_tr[total_tr[cols_rellenar].isna()].head()#[cols_rellenar].head()\n",
    "#filtered_df = df[df[['name', 'country', 'region']].notnull().all(1)]\n",
    "#total_tr[total_tr[cols_rellenar].isna()]"
   ]
  },
  {
   "cell_type": "code",
   "execution_count": 67,
   "metadata": {},
   "outputs": [],
   "source": [
    "#index = total_tr[cols_rellenar].index[total_tr[cols_rellenar].isna()]\n",
    "inds = pd.isnull(total_tr[cols_rellenar]).any(1)"
   ]
  },
  {
   "cell_type": "code",
   "execution_count": 68,
   "metadata": {},
   "outputs": [
    {
     "data": {
      "text/plain": [
       "66"
      ]
     },
     "execution_count": 68,
     "metadata": {},
     "output_type": "execute_result"
    }
   ],
   "source": [
    "sum(inds)"
   ]
  },
  {
   "cell_type": "code",
   "execution_count": 70,
   "metadata": {},
   "outputs": [],
   "source": [
    "#total_tr.loc[inds, cols_rellenar]"
   ]
  },
  {
   "cell_type": "code",
   "execution_count": 21,
   "metadata": {},
   "outputs": [
    {
     "data": {
      "text/plain": [
       "[28907.0]"
      ]
     },
     "execution_count": 21,
     "metadata": {},
     "output_type": "execute_result"
    }
   ],
   "source": [
    "[code for code in total_tr.CODIGO_POSTAL.unique() if code not in vars_postal_code.CODIGO_POSTAL.unique()]"
   ]
  },
  {
   "cell_type": "code",
   "execution_count": 22,
   "metadata": {},
   "outputs": [
    {
     "data": {
      "text/plain": [
       "219    28903\n",
       "Name: CODIGO_POSTAL, dtype: int64"
      ]
     },
     "execution_count": 22,
     "metadata": {},
     "output_type": "execute_result"
    }
   ],
   "source": [
    "vars_postal_code[vars_postal_code.CODIGO_POSTAL == 28903]['CODIGO_POSTAL']"
   ]
  },
  {
   "cell_type": "code",
   "execution_count": 24,
   "metadata": {},
   "outputs": [],
   "source": [
    "total_tr.loc[total_tr.CODIGO_POSTAL == 28907.0,'CODIGO_POSTAL'] = 28903"
   ]
  },
  {
   "cell_type": "code",
   "execution_count": 25,
   "metadata": {},
   "outputs": [],
   "source": [
    "merged = pd.merge(total_tr, vars_postal_code, on='CODIGO_POSTAL', how='left')"
   ]
  },
  {
   "cell_type": "code",
   "execution_count": 27,
   "metadata": {},
   "outputs": [],
   "source": [
    "#merged.isna().sum()"
   ]
  },
  {
   "cell_type": "code",
   "execution_count": 31,
   "metadata": {},
   "outputs": [
    {
     "data": {
      "text/plain": [
       "array([28903., 28524.])"
      ]
     },
     "execution_count": 31,
     "metadata": {},
     "output_type": "execute_result"
    }
   ],
   "source": [
    "total_tr[total_tr.p_divorciados.isna()]['CODIGO_POSTAL'].unique()"
   ]
  },
  {
   "cell_type": "code",
   "execution_count": 35,
   "metadata": {},
   "outputs": [
    {
     "data": {
      "text/plain": [
       "array([], dtype=float64)"
      ]
     },
     "execution_count": 35,
     "metadata": {},
     "output_type": "execute_result"
    }
   ],
   "source": [
    "merged[merged.edad_media_y.isna()]['CODIGO_POSTAL'].unique()"
   ]
  },
  {
   "cell_type": "code",
   "execution_count": 101,
   "metadata": {},
   "outputs": [],
   "source": [
    "df = total_tr.copy()"
   ]
  },
  {
   "cell_type": "code",
   "execution_count": 121,
   "metadata": {},
   "outputs": [],
   "source": [
    "cols_rellenar = df.columns[df.isna().sum()>20]\n",
    "#especiales = ['p_solteros','p_casados', 'p_viudos', 'p_separados', 'p_divorciados']\n",
    "#cols_rellenar1 = [col for col in cols_rellenar if col not in especiales]\n",
    "inds_1 = (pd.isnull(df[cols_rellenar]).any(1)) & (df.CODIGO_POSTAL == 28907)"
   ]
  },
  {
   "cell_type": "code",
   "execution_count": 117,
   "metadata": {},
   "outputs": [],
   "source": [
    "#total_tr.loc[inds_1, cols_rellenar1] = vars_postal_code.loc[vars_postal_code.CODIGO_POSTAL == 28903, cols_rellenar1]"
   ]
  },
  {
   "cell_type": "code",
   "execution_count": 122,
   "metadata": {},
   "outputs": [],
   "source": [
    "#for col in cols_rellenar:\n",
    "total_tr.loc[inds_1, cols_rellenar] = vars_postal_code.loc[vars_postal_code.CODIGO_POSTAL == 28903, cols_rellenar].values"
   ]
  },
  {
   "cell_type": "code",
   "execution_count": 124,
   "metadata": {},
   "outputs": [],
   "source": [
    "#total_tr.isna().sum()"
   ]
  },
  {
   "cell_type": "code",
   "execution_count": null,
   "metadata": {},
   "outputs": [],
   "source": [
    "#total_tr[total_tr[especiales].isna()]['CODIGO_POSTAL']"
   ]
  },
  {
   "cell_type": "code",
   "execution_count": 125,
   "metadata": {},
   "outputs": [],
   "source": [
    "def fill_cods_nas(df):\n",
    "    cols_rellenar = df.columns[df.isna().sum()>20]\n",
    "    especiales = ['p_solteros','p_casados', 'p_viudos', 'p_separados', 'p_divorciados']\n",
    "    #cols_rellenar1 = [col for col in cols_rellenar if col not in especiales]\n",
    "    inds = (pd.isnull(df[cols_rellenar]).any(1)) & (df.CODIGO_POSTAL == 28907)\n",
    "    df.loc[inds, cols_rellenar] = vars_postal_code.loc[vars_postal_code.CODIGO_POSTAL == 28903, cols_rellenar].values\n",
    "    df.loc[df.CODIGO_POSTAL == 28524, especiales] = vars_postal_code.loc[vars_postal_code.CODIGO_POSTAL == 28522, especiales].values\n",
    "    return df"
   ]
  },
  {
   "cell_type": "code",
   "execution_count": 136,
   "metadata": {},
   "outputs": [],
   "source": [
    "total_tr = pd.read_csv('TOTAL_TRAIN.csv')"
   ]
  },
  {
   "cell_type": "code",
   "execution_count": 127,
   "metadata": {},
   "outputs": [],
   "source": [
    "total_tr = fill_cods_nas(total_tr)"
   ]
  },
  {
   "cell_type": "code",
   "execution_count": 132,
   "metadata": {},
   "outputs": [],
   "source": [
    "total_tr['renta_media_por_hogar'] = [total_tr.loc[i, 'renta_media_por_hogar'].replace(',', '') for i in range(total_tr.shape[0])]"
   ]
  },
  {
   "cell_type": "code",
   "execution_count": 137,
   "metadata": {},
   "outputs": [],
   "source": [
    "X = total_tr.copy()"
   ]
  },
  {
   "cell_type": "code",
   "execution_count": 139,
   "metadata": {},
   "outputs": [],
   "source": [
    "X['renta_media_por_hogar'] = [\n",
    "        X.loc[i, 'renta_media_por_hogar'].replace(',', '') if type(X.loc[i, 'renta_media_por_hogar']) != float else X.loc[i, 'renta_media_por_hogar'] for i in range(X.shape[0])\n",
    "    ]"
   ]
  },
  {
   "cell_type": "code",
   "execution_count": 133,
   "metadata": {},
   "outputs": [],
   "source": [
    "total_tr['renta_media_por_hogar'] = total_tr['renta_media_por_hogar'].astype('float')"
   ]
  },
  {
   "cell_type": "code",
   "execution_count": 134,
   "metadata": {},
   "outputs": [
    {
     "data": {
      "text/plain": [
       "0         36786.0\n",
       "1         36786.0\n",
       "2         36786.0\n",
       "3         36786.0\n",
       "4         36786.0\n",
       "           ...   \n",
       "103225    55269.0\n",
       "103226    31763.0\n",
       "103227    41252.0\n",
       "103228    41252.0\n",
       "103229    41252.0\n",
       "Name: renta_media_por_hogar, Length: 103230, dtype: float64"
      ]
     },
     "execution_count": 134,
     "metadata": {},
     "output_type": "execute_result"
    }
   ],
   "source": [
    "total_tr.renta_media_por_hogar"
   ]
  },
  {
   "cell_type": "code",
   "execution_count": null,
   "metadata": {},
   "outputs": [],
   "source": []
  }
 ],
 "metadata": {
  "kernelspec": {
   "display_name": "Python [conda env:sentinel_env] *",
   "language": "python",
   "name": "conda-env-sentinel_env-py"
  },
  "language_info": {
   "codemirror_mode": {
    "name": "ipython",
    "version": 3
   },
   "file_extension": ".py",
   "mimetype": "text/x-python",
   "name": "python",
   "nbconvert_exporter": "python",
   "pygments_lexer": "ipython3",
   "version": "3.7.6"
  }
 },
 "nbformat": 4,
 "nbformat_minor": 4
}
