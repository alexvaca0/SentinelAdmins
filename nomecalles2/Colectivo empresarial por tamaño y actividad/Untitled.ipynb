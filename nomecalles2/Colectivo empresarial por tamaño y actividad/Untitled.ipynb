{
 "cells": [
  {
   "cell_type": "code",
   "execution_count": 1,
   "metadata": {},
   "outputs": [],
   "source": [
    "import geopandas as gpd"
   ]
  },
  {
   "cell_type": "code",
   "execution_count": 2,
   "metadata": {},
   "outputs": [],
   "source": [
    "df = gpd.read_file('dir2019a.shp')"
   ]
  },
  {
   "cell_type": "code",
   "execution_count": 8,
   "metadata": {},
   "outputs": [
    {
     "data": {
      "text/html": [
       "<div>\n",
       "<style scoped>\n",
       "    .dataframe tbody tr th:only-of-type {\n",
       "        vertical-align: middle;\n",
       "    }\n",
       "\n",
       "    .dataframe tbody tr th {\n",
       "        vertical-align: top;\n",
       "    }\n",
       "\n",
       "    .dataframe thead th {\n",
       "        text-align: right;\n",
       "    }\n",
       "</style>\n",
       "<table border=\"1\" class=\"dataframe\">\n",
       "  <thead>\n",
       "    <tr style=\"text-align: right;\">\n",
       "      <th></th>\n",
       "      <th>CMUN</th>\n",
       "      <th>CODR28</th>\n",
       "      <th>ESTRA_6</th>\n",
       "      <th>ETRS89_X</th>\n",
       "      <th>ETRS89_Y</th>\n",
       "      <th>ETIQUETA</th>\n",
       "      <th>DIRECCIO</th>\n",
       "      <th>geometry</th>\n",
       "    </tr>\n",
       "  </thead>\n",
       "  <tbody>\n",
       "    <tr>\n",
       "      <th>0</th>\n",
       "      <td>0066</td>\n",
       "      <td>15</td>\n",
       "      <td>4</td>\n",
       "      <td>444773</td>\n",
       "      <td>4486417</td>\n",
       "      <td>SUPERMERCADOS CHAMPION, S.A.</td>\n",
       "      <td>crnacional i, km., 14,500             00000</td>\n",
       "      <td>POINT (444773.000 4486417.000)</td>\n",
       "    </tr>\n",
       "    <tr>\n",
       "      <th>1</th>\n",
       "      <td>0014</td>\n",
       "      <td>25</td>\n",
       "      <td>3</td>\n",
       "      <td>447506</td>\n",
       "      <td>4548576</td>\n",
       "      <td>Consultorio de La Acebeda</td>\n",
       "      <td>Plaza de San Miguel, 1</td>\n",
       "      <td>POINT (447506.000 4548576.000)</td>\n",
       "    </tr>\n",
       "    <tr>\n",
       "      <th>2</th>\n",
       "      <td>0014</td>\n",
       "      <td>12</td>\n",
       "      <td>2</td>\n",
       "      <td>448297</td>\n",
       "      <td>4548183</td>\n",
       "      <td>TECNOLOGIAS DEL MEDIO AMBIENTE, S.A.</td>\n",
       "      <td>Ctra de la Acebeda</td>\n",
       "      <td>POINT (448297.000 4548183.000)</td>\n",
       "    </tr>\n",
       "    <tr>\n",
       "      <th>3</th>\n",
       "      <td>0029</td>\n",
       "      <td>25</td>\n",
       "      <td>3</td>\n",
       "      <td>459130</td>\n",
       "      <td>4487430</td>\n",
       "      <td>Consultorio de Ajalvir</td>\n",
       "      <td>Avda de las Aguas, 2</td>\n",
       "      <td>POINT (459130.000 4487430.000)</td>\n",
       "    </tr>\n",
       "    <tr>\n",
       "      <th>4</th>\n",
       "      <td>0029</td>\n",
       "      <td>12</td>\n",
       "      <td>2</td>\n",
       "      <td>459203</td>\n",
       "      <td>4487561</td>\n",
       "      <td>MORENO FRAGA RAMON</td>\n",
       "      <td>Avda de las Aguas, 28</td>\n",
       "      <td>POINT (459203.000 4487561.000)</td>\n",
       "    </tr>\n",
       "  </tbody>\n",
       "</table>\n",
       "</div>"
      ],
      "text/plain": [
       "   CMUN CODR28 ESTRA_6  ETRS89_X  ETRS89_Y  \\\n",
       "0  0066     15       4    444773   4486417   \n",
       "1  0014     25       3    447506   4548576   \n",
       "2  0014     12       2    448297   4548183   \n",
       "3  0029     25       3    459130   4487430   \n",
       "4  0029     12       2    459203   4487561   \n",
       "\n",
       "                               ETIQUETA  \\\n",
       "0          SUPERMERCADOS CHAMPION, S.A.   \n",
       "1             Consultorio de La Acebeda   \n",
       "2  TECNOLOGIAS DEL MEDIO AMBIENTE, S.A.   \n",
       "3                Consultorio de Ajalvir   \n",
       "4                    MORENO FRAGA RAMON   \n",
       "\n",
       "                                      DIRECCIO                        geometry  \n",
       "0  crnacional i, km., 14,500             00000  POINT (444773.000 4486417.000)  \n",
       "1                       Plaza de San Miguel, 1  POINT (447506.000 4548576.000)  \n",
       "2                           Ctra de la Acebeda  POINT (448297.000 4548183.000)  \n",
       "3                         Avda de las Aguas, 2  POINT (459130.000 4487430.000)  \n",
       "4                        Avda de las Aguas, 28  POINT (459203.000 4487561.000)  "
      ]
     },
     "execution_count": 8,
     "metadata": {},
     "output_type": "execute_result"
    }
   ],
   "source": [
    "df.head()"
   ]
  },
  {
   "cell_type": "code",
   "execution_count": 7,
   "metadata": {},
   "outputs": [
    {
     "data": {
      "text/plain": [
       "array(['4', '3', '2', '5', '6'], dtype=object)"
      ]
     },
     "execution_count": 7,
     "metadata": {},
     "output_type": "execute_result"
    }
   ],
   "source": [
    "df.ESTRA_6.unique()"
   ]
  },
  {
   "cell_type": "code",
   "execution_count": 9,
   "metadata": {},
   "outputs": [
    {
     "data": {
      "text/plain": [
       "array(['15', '25', '12', '24', '26', '09', '13', '14', '05', '04', '06',\n",
       "       '20', '10', '21', '22', '17', '03', '27', '16', '19', '28', '08',\n",
       "       '18', '07', '02', '23', '11', '01'], dtype=object)"
      ]
     },
     "execution_count": 9,
     "metadata": {},
     "output_type": "execute_result"
    }
   ],
   "source": [
    "df.CODR28.unique()"
   ]
  },
  {
   "cell_type": "code",
   "execution_count": 5,
   "metadata": {},
   "outputs": [],
   "source": [
    "with open('fuentes_fechas_valoresvariables.txt', 'r', encoding='latin-1') as f:\n",
    "    texto = f.read()"
   ]
  },
  {
   "cell_type": "code",
   "execution_count": 6,
   "metadata": {},
   "outputs": [
    {
     "data": {
      "text/plain": [
       "'Unidades productivas de 3 y más trabajadores por estrato de empleo y rama de actividad.\\n\\nFuente:\\nColectivo Empresarial 2019. Avance.\\nInstituto de Estadística de la Comunidad de Madrid\\n\\nFecha:\\nFecha de referencia 1 de enero de 2019\\n\\nGeorreferenciado por el Instituto de Estadística de la Comunidad de Madrid.\\n\\nNotas metodológicas, tabulaciones personalizadas on-line, tablas y mapas en:\\nhttp://www.madrid.org/iestadis/fijas/estructu/economicas/ocupacion/estructucolectivo.htm\\n\\n\\nDescripción:Estratos de empleo\\nLongitud:2\\nNúmero de valores: 5\\n\\nCODIGO \\tDESCRIPCION\\n02 \\tDe 3 a 9 ocupados\\n03 \\tDe 10 a 49 ocupados\\n04 \\tDe 50 a 99 ocupados\\n05 \\tDe 100 a 249 ocupados\\n06 \\t250 y más ocupados \\n\\n\\n\\n\\nDescripción:Ramas de actividad CNAE 09 (R-28)\\nLongitud:2\\nNúmero de valores:28\\n\\nCODIGO \\tDESCRIPCION\\n\\n01\\tAgricultura, ganadería, caza, selvicultura y pesca\\n02\\tMinería, electricidad y agua\\n03\\tIndustria de la alimentación, bebidas y tabaco\\n04\\tIndustria textil, de la confección, cuero y calzado \\n05\\tMetálicas básicas e intermedias\\n06\\tConstrucción de maquinaria y equipo mecánico\\n07\\tConstrucción de maquinaria y equipo electrico, electrónico y óptico\\n08\\tFabricación de material de transporte\\n09\\tIndustria del papel y artes gráficas\\n10\\tIndustria química, coquerias y refino de petroleo\\n11\\tFabricación de otros productos minerales no metálicos  \\n12\\tIndustria de la madera, el caucho y otras industrias manufactureras\\n13\\tConstrucción\\n14\\tComercio mayorista e intermediarios del comercio (exc. vehículos) \\n15\\tComercio minorista y comercio y reparación de vehículos\\n16\\tHostelería\\n17\\tTransporte y almacenamiento\\n18\\tInformación y comunicaciones\\n19\\tActividades Inmobiliarias\\n20\\tActividades profesionales, científicas y técnicas\\n21\\tActividades administrativas y servicios auxiliares\\n22\\tActividades financieras y de seguros\\n23\\tAdmón publica, defensa, seguridad social y organismos extraterritoriales\\n24\\tEducación\\n25\\tActividades sanitarias y de servicios sociales\\n26\\tActividades artísticas, recreativas y de entretenimiento\\n27\\tReparación y otros servicios personales\\n28\\tActividades asociativas y de los hogares\\n\\n\\nAviso legal:\\n\\nEl Instituto de Estadística de la Comunidad de Madrid no se responsabiliza de las omisiones, imprecisiones o errores que pudiesen producirse en algún \\nmomento en la cartografía y los datos aquí facilitados, ni de las consecuencias que puedan originarse por su utilización. La información que se ofrece \\npor este medio se hace únicamente a título informativo, reservándose el Instituto de Estadística el derecho de suspender su difusión total o parcialmente, \\ny de modificar la estructura y contenido de esta aplicación sin aviso previo.\\n\\nEl Instituto de Estadística no se responsabiliza de cualquier daño o perjuicio en el software o hardware del usuario que pudiera derivarse del acceso a \\nesta aplicación o del uso de información aquí contenida.\\n\\nEl Instituto de Estadística facilita la consulta libre y gratuita de esta información, incluyendo la realización de copias en papel, ficheros u otros \\ndispositivos de almacenamiento para usos internos. También se permite la copia y distribución de páginas y mapas siempre que se cite la fuente, no se \\nmanipulen ni alteren los contenidos y no se utilicen directamente con fines comerciales. '"
      ]
     },
     "execution_count": 6,
     "metadata": {},
     "output_type": "execute_result"
    }
   ],
   "source": [
    "texto"
   ]
  },
  {
   "cell_type": "code",
   "execution_count": null,
   "metadata": {},
   "outputs": [],
   "source": []
  }
 ],
 "metadata": {
  "kernelspec": {
   "display_name": "Python [conda env:sentinel_env] *",
   "language": "python",
   "name": "conda-env-sentinel_env-py"
  },
  "language_info": {
   "codemirror_mode": {
    "name": "ipython",
    "version": 3
   },
   "file_extension": ".py",
   "mimetype": "text/x-python",
   "name": "python",
   "nbconvert_exporter": "python",
   "pygments_lexer": "ipython3",
   "version": "3.7.6"
  }
 },
 "nbformat": 4,
 "nbformat_minor": 4
}
