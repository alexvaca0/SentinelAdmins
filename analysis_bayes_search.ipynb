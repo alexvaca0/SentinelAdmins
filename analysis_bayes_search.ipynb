{
 "cells": [
  {
   "cell_type": "code",
   "execution_count": 1,
   "metadata": {},
   "outputs": [],
   "source": [
    "import pickle\n",
    "import matplotlib.pyplot as plt\n",
    "import numpy as np\n",
    "import pandas as pd"
   ]
  },
  {
   "cell_type": "code",
   "execution_count": 2,
   "metadata": {},
   "outputs": [],
   "source": [
    "with open('best_LIGHTGBM_VARS_FINAL_params.pkl', 'rb') as f:\n",
    "    bestparams = pickle.load(f)"
   ]
  },
  {
   "cell_type": "code",
   "execution_count": 3,
   "metadata": {},
   "outputs": [
    {
     "data": {
      "text/plain": [
       "OrderedDict([('boosting_type', 'goss'),\n",
       "             ('colsample_bytree', 0.2),\n",
       "             ('learning_rate', 0.03015306651483902),\n",
       "             ('min_child_samples', 1),\n",
       "             ('min_child_weight', 0.01),\n",
       "             ('n_estimators', 3000),\n",
       "             ('num_leaves', 60),\n",
       "             ('reg_alpha', 0.0034842584199217415),\n",
       "             ('reg_lambda', 3.110124271621904),\n",
       "             ('subsample', 0.5571389810076017)])"
      ]
     },
     "execution_count": 3,
     "metadata": {},
     "output_type": "execute_result"
    }
   ],
   "source": [
    "bestparams"
   ]
  },
  {
   "cell_type": "code",
   "execution_count": 7,
   "metadata": {},
   "outputs": [],
   "source": [
    "with open('best_lightgbm_new_vars_armando_params.pkl', 'rb') as f:\n",
    "    bestparams2 = pickle.load(f)"
   ]
  },
  {
   "cell_type": "code",
   "execution_count": 8,
   "metadata": {},
   "outputs": [
    {
     "data": {
      "text/plain": [
       "OrderedDict([('boosting_type', 'gbdt'),\n",
       "             ('colsample_bytree', 0.3739433200682451),\n",
       "             ('learning_rate', 0.029233453687701978),\n",
       "             ('min_child_samples', 24),\n",
       "             ('min_child_weight', 1.8460508051442895e-06),\n",
       "             ('n_estimators', 3000),\n",
       "             ('num_leaves', 56),\n",
       "             ('reg_alpha', 0.006734620240838661),\n",
       "             ('reg_lambda', 8.159718519853705),\n",
       "             ('subsample', 1.0)])"
      ]
     },
     "execution_count": 8,
     "metadata": {},
     "output_type": "execute_result"
    }
   ],
   "source": [
    "bestparams2"
   ]
  },
  {
   "cell_type": "code",
   "execution_count": null,
   "metadata": {},
   "outputs": [],
   "source": []
  }
 ],
 "metadata": {
  "kernelspec": {
   "display_name": "Python [conda env:sentinel_env] *",
   "language": "python",
   "name": "conda-env-sentinel_env-py"
  },
  "language_info": {
   "codemirror_mode": {
    "name": "ipython",
    "version": 3
   },
   "file_extension": ".py",
   "mimetype": "text/x-python",
   "name": "python",
   "nbconvert_exporter": "python",
   "pygments_lexer": "ipython3",
   "version": "3.7.6"
  }
 },
 "nbformat": 4,
 "nbformat_minor": 4
}
