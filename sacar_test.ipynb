{
 "cells": [
  {
   "cell_type": "code",
   "execution_count": 36,
   "metadata": {},
   "outputs": [],
   "source": [
    "from preprocessing import *\n",
    "import matplotlib.pyplot as plt\n",
    "import seaborn as sns"
   ]
  },
  {
   "cell_type": "code",
   "execution_count": 24,
   "metadata": {},
   "outputs": [
    {
     "name": "stderr",
     "output_type": "stream",
     "text": [
      "/home/alejandro.vaca/miniconda/envs/sentinel_env/lib/python3.7/site-packages/IPython/core/interactiveshell.py:3254: DtypeWarning: Columns (54) have mixed types.Specify dtype option on import or set low_memory=False.\n",
      "  if (await self.run_code(code, result,  async_=asy)):\n",
      "/home/alejandro.vaca/miniconda/envs/sentinel_env/lib/python3.7/site-packages/pandas/core/indexing.py:670: SettingWithCopyWarning: \n",
      "A value is trying to be set on a copy of a slice from a DataFrame\n",
      "\n",
      "See the caveats in the documentation: https://pandas.pydata.org/pandas-docs/stable/user_guide/indexing.html#returning-a-view-versus-a-copy\n",
      "  self._setitem_with_indexer(indexer, value)\n"
     ]
    },
    {
     "name": "stdout",
     "output_type": "stream",
     "text": [
      "El diccionario de categorías es {'RETAIL': 0, 'RESIDENTIAL': 1, 'AGRICULTURE': 2, 'OFFICE': 3, 'INDUSTRIAL': 4, 'OTHER': 5, 'PUBLIC': 6}\n",
      "En momento 1 el shape es (103230, 145)\n",
      "Valores unicos de CADASTRAL--- ['2' '3' '4' '8' '5' '6' '7' '9' '1' 'C' 'B' 'A' 7 6 3 4 5 8 9 2 1 nan]\n",
      "En momento 2 el shape es de (103230, 141)\n",
      "Las columnas que tienen dtype object son Index(['ruido', 'cluster'], dtype='object')\n",
      "En momento 3 el shape es de (103230, 243)\n",
      "Imputando valores con Random Forest\n",
      "Iteration: 0\n",
      "Iteration: 1\n",
      "Iteration: 2\n",
      "En momento 4 el shape es de (103230, 243)\n",
      "En momento 5 el shape es de (103230, 253)\n",
      "En momento 6 el shape es de (103230, 253)\n"
     ]
    }
   ],
   "source": [
    "X_train, y_train = preprocess_data('TOTAL_TRAIN.csv', process_cat=True, )"
   ]
  },
  {
   "cell_type": "code",
   "execution_count": 2,
   "metadata": {},
   "outputs": [],
   "source": [
    "imputer = MissForest()\n"
   ]
  },
  {
   "cell_type": "code",
   "execution_count": 27,
   "metadata": {},
   "outputs": [
    {
     "name": "stdout",
     "output_type": "stream",
     "text": [
      "En momento 1 el shape es (5618, 144)\n",
      "Valores unicos de CADASTRAL--- ['4' '5' '6' '3' '2' 'C' '1' '7' '8' '9' 'A' 'B' nan]\n"
     ]
    },
    {
     "name": "stderr",
     "output_type": "stream",
     "text": [
      "/home/alejandro.vaca/miniconda/envs/sentinel_env/lib/python3.7/site-packages/pandas/core/indexing.py:670: SettingWithCopyWarning: \n",
      "A value is trying to be set on a copy of a slice from a DataFrame\n",
      "\n",
      "See the caveats in the documentation: https://pandas.pydata.org/pandas-docs/stable/user_guide/indexing.html#returning-a-view-versus-a-copy\n",
      "  self._setitem_with_indexer(indexer, value)\n"
     ]
    },
    {
     "name": "stdout",
     "output_type": "stream",
     "text": [
      "En momento 2 el shape es de (5618, 141)\n",
      "Las columnas que tienen dtype object son Index(['ruido', 'cluster'], dtype='object')\n",
      "En momento 3 el shape es de (5618, 243)\n",
      "Imputando valores con Random Forest\n"
     ]
    },
    {
     "name": "stderr",
     "output_type": "stream",
     "text": [
      "/home/alejandro.vaca/miniconda/envs/sentinel_env/lib/python3.7/site-packages/IPython/core/interactiveshell.py:3331: DtypeWarning: Columns (54) have mixed types.Specify dtype option on import or set low_memory=False.\n",
      "  exec(code_obj, self.user_global_ns, self.user_ns)\n"
     ]
    },
    {
     "name": "stdout",
     "output_type": "stream",
     "text": [
      "El diccionario de categorías es {'RESIDENTIAL': 0, 'OTHER': 1, 'PUBLIC': 2, 'AGRICULTURE': 3, 'INDUSTRIAL': 4, 'RETAIL': 5, 'OFFICE': 6}\n",
      "En momento 1 el shape es (103230, 145)\n",
      "Valores unicos de CADASTRAL--- ['2' '3' '4' '8' '5' '6' '7' '9' '1' 'C' 'B' 'A' 7 6 3 4 5 8 9 2 1 nan]\n",
      "En momento 2 el shape es de (103230, 141)\n",
      "Las columnas que tienen dtype object son Index(['ruido', 'cluster'], dtype='object')\n",
      "Iteration: 0\n",
      "Iteration: 1\n",
      "Iteration: 2\n",
      "Iteration: 3\n",
      "En momento 4 el shape es de (5618, 243)\n",
      "En momento 5 el shape es de (5618, 253)\n",
      "En momento 6 el shape es de (5618, 253)\n"
     ]
    }
   ],
   "source": [
    "X_test = preprocess_test('TOTAL_TEST.csv', process_cat=True)"
   ]
  },
  {
   "cell_type": "code",
   "execution_count": 5,
   "metadata": {},
   "outputs": [],
   "source": [
    "df_test = pd.read_csv('TOTAL_TEST.csv')"
   ]
  },
  {
   "cell_type": "code",
   "execution_count": 18,
   "metadata": {},
   "outputs": [],
   "source": [
    "pd.set_option('display.max_rows', 10000)"
   ]
  },
  {
   "cell_type": "code",
   "execution_count": 15,
   "metadata": {},
   "outputs": [
    {
     "data": {
      "text/plain": [
       "ID                                     0\n",
       "X                                      0\n",
       "Y                                      0\n",
       "Q_R_4_0_0                              0\n",
       "Q_R_4_0_1                              0\n",
       "Q_R_4_0_2                              0\n",
       "Q_R_4_0_3                              0\n",
       "Q_R_4_0_4                              0\n",
       "Q_R_4_0_5                              0\n",
       "Q_R_4_0_6                              0\n",
       "Q_R_4_0_7                              0\n",
       "Q_R_4_0_8                              0\n",
       "Q_R_4_0_9                              0\n",
       "Q_R_4_1_0                              0\n",
       "Q_G_3_0_0                              0\n",
       "Q_G_3_0_1                              0\n",
       "Q_G_3_0_2                              0\n",
       "Q_G_3_0_3                              0\n",
       "Q_G_3_0_4                              0\n",
       "Q_G_3_0_5                              0\n",
       "Q_G_3_0_6                              0\n",
       "Q_G_3_0_7                              0\n",
       "Q_G_3_0_8                              0\n",
       "Q_G_3_0_9                              0\n",
       "Q_G_3_1_0                              0\n",
       "Q_B_2_0_0                              0\n",
       "Q_B_2_0_1                              0\n",
       "Q_B_2_0_2                              0\n",
       "Q_B_2_0_3                              0\n",
       "Q_B_2_0_4                              0\n",
       "Q_B_2_0_5                              0\n",
       "Q_B_2_0_6                              0\n",
       "Q_B_2_0_7                              0\n",
       "Q_B_2_0_8                              0\n",
       "Q_B_2_0_9                              0\n",
       "Q_B_2_1_0                              0\n",
       "Q_NIR_8_0_0                            0\n",
       "Q_NIR_8_0_1                            0\n",
       "Q_NIR_8_0_2                            0\n",
       "Q_NIR_8_0_3                            0\n",
       "Q_NIR_8_0_4                            0\n",
       "Q_NIR_8_0_5                            0\n",
       "Q_NIR_8_0_6                            0\n",
       "Q_NIR_8_0_7                            0\n",
       "Q_NIR_8_0_8                            0\n",
       "Q_NIR_8_0_9                            0\n",
       "Q_NIR_8_1_0                            0\n",
       "AREA                                   0\n",
       "GEOM_R1                                0\n",
       "GEOM_R2                                0\n",
       "GEOM_R3                                0\n",
       "GEOM_R4                                0\n",
       "CONTRUCTIONYEAR                        0\n",
       "MAXBUILDINGFLOOR                       7\n",
       "CADASTRALQUALITYID                     7\n",
       "lat                                    0\n",
       "lon                                    0\n",
       "ruido                                  0\n",
       "distancias_al_ruido                    0\n",
       "cluster                                0\n",
       "distance_to_centroid                   0\n",
       "contadores_hipermercados.shp           0\n",
       "contadores_camping.shp                 0\n",
       "contadores_parques.shp                 0\n",
       "contadores_cementerios.shp             0\n",
       "contadores_estmetro.shp                0\n",
       "contadores_embajadas.shp               0\n",
       "contadores_educapr.shp                 0\n",
       "contadores_centroambiental.shp         0\n",
       "contadores_juzgados.shp                0\n",
       "contadores_farmacias.shp               0\n",
       "contadores_cines.shp                   0\n",
       "contadores_linearenfe.shp              0\n",
       "contadores_desguaces.shp               0\n",
       "contadores_casi.shp                    0\n",
       "contadores_itv.shp                     0\n",
       "contadores_hoteles5.shp                0\n",
       "contadores_centrocom.shp               0\n",
       "contadores_adpublic.shp                0\n",
       "contadores_mercado.shp                 0\n",
       "contadores_parking.shp                 0\n",
       "contadores_dir2019a.shp                0\n",
       "contadores_policianacional.shp         0\n",
       "contadores_parroq.shp                  0\n",
       "contadores_saludmental.shp             0\n",
       "contadores_agenciatributaria.shp       0\n",
       "contadores_ong.shp                     0\n",
       "contadores_educapu.shp                 0\n",
       "contadores_centrosalud.shp             0\n",
       "contadores_peligrosos.shp              0\n",
       "contadores_guardiacivil.shp            0\n",
       "contadores_teatros.shp                 0\n",
       "contadores_apartturis.shp              0\n",
       "contadores_bicianillo.shp              0\n",
       "contadores_policialocal.shp            0\n",
       "contadores_ss_2018_etrs89.shp          0\n",
       "contadores_mercadillos.shp             0\n",
       "contadores_plazastoros.shp             0\n",
       "contadores_depuradoras.shp             0\n",
       "contadores_galimenta.shp               0\n",
       "contadores_helisuper.shp               0\n",
       "contadores_estcerca.shp                0\n",
       "contadores_segsoc.shp                  0\n",
       "contadores_lineas.shp                  0\n",
       "contadores_hoteles1.shp                0\n",
       "contadores_inem.shp                    0\n",
       "contadores_puentes.shp                 0\n",
       "contadores_bomberos.shp                0\n",
       "contadores_hospital.shp                0\n",
       "contadores_libreriaao.shp              0\n",
       "contadores_puntoslim.shp               0\n",
       "contadores_aeropuertos.shp             0\n",
       "contadores_vertederos.shp              0\n",
       "contadores_hoteles3.shp                0\n",
       "contadores_educase.shp                 0\n",
       "contadores_gasolineras.shp             0\n",
       "contadores_pensionch.shp               0\n",
       "contadores_colegiosmayores.shp         0\n",
       "contadores_hoteles2.shp                0\n",
       "contadores_alojarurales.shp            0\n",
       "contadores_oficinaturismo.shp          0\n",
       "contadores_cruzroja.shp                0\n",
       "contadores_saludotros.shp              0\n",
       "contadores_albergues.shp               0\n",
       "contadores_centroespecialidades.shp    0\n",
       "contadores_bancos.shp                  0\n",
       "contadores_pension1.shp                0\n",
       "contadores_bocas.shp                   0\n",
       "contadores_pension2.shp                0\n",
       "contadores_pension3.shp                0\n",
       "contadores_consultoriosalud.shp        0\n",
       "contadores_parquesocio.shp             0\n",
       "contadores_host3.shp                   0\n",
       "contadores_museos.shp                  0\n",
       "contadores_carcel.shp                  0\n",
       "contadores_host2.shp                   0\n",
       "contadores_drogodependencia.shp        0\n",
       "contadores_hoteles4.shp                0\n",
       "contadores_univers.shp                 0\n",
       "contadores_host1.shp                   0\n",
       "contadores_comerespecial.shp           0\n",
       "contadores_campus.shp                  0\n",
       "contadores_calidad_aire.shp            0\n",
       "contadores_ave.shp                     0\n",
       "dtype: int64"
      ]
     },
     "execution_count": 15,
     "metadata": {},
     "output_type": "execute_result"
    }
   ],
   "source": [
    "df_test.isna().sum()"
   ]
  },
  {
   "cell_type": "code",
   "execution_count": 21,
   "metadata": {},
   "outputs": [],
   "source": [
    "#df_test.MAXBUILDINGFLOOR.fillna(0)"
   ]
  },
  {
   "cell_type": "code",
   "execution_count": 4,
   "metadata": {},
   "outputs": [
    {
     "data": {
      "text/html": [
       "<div>\n",
       "<style scoped>\n",
       "    .dataframe tbody tr th:only-of-type {\n",
       "        vertical-align: middle;\n",
       "    }\n",
       "\n",
       "    .dataframe tbody tr th {\n",
       "        vertical-align: top;\n",
       "    }\n",
       "\n",
       "    .dataframe thead th {\n",
       "        text-align: right;\n",
       "    }\n",
       "</style>\n",
       "<table border=\"1\" class=\"dataframe\">\n",
       "  <thead>\n",
       "    <tr style=\"text-align: right;\">\n",
       "      <th></th>\n",
       "      <th>X</th>\n",
       "      <th>Y</th>\n",
       "      <th>Q_R_4_0_0</th>\n",
       "      <th>Q_R_4_0_1</th>\n",
       "      <th>Q_R_4_0_2</th>\n",
       "      <th>Q_R_4_0_3</th>\n",
       "      <th>Q_R_4_0_4</th>\n",
       "      <th>Q_R_4_0_5</th>\n",
       "      <th>Q_R_4_0_6</th>\n",
       "      <th>Q_R_4_0_7</th>\n",
       "      <th>...</th>\n",
       "      <th>GEO_X</th>\n",
       "      <th>GEO_Y</th>\n",
       "      <th>GEO_Z</th>\n",
       "      <th>x_rot_90</th>\n",
       "      <th>y_rot_90</th>\n",
       "      <th>x_rot_180</th>\n",
       "      <th>y_rot_180</th>\n",
       "      <th>lat_2</th>\n",
       "      <th>lon_2</th>\n",
       "      <th>latxlon</th>\n",
       "    </tr>\n",
       "  </thead>\n",
       "  <tbody>\n",
       "    <tr>\n",
       "      <th>0</th>\n",
       "      <td>-0.278562</td>\n",
       "      <td>-0.500204</td>\n",
       "      <td>-0.202534</td>\n",
       "      <td>0.490431</td>\n",
       "      <td>0.596618</td>\n",
       "      <td>0.610474</td>\n",
       "      <td>0.512805</td>\n",
       "      <td>0.419824</td>\n",
       "      <td>0.313513</td>\n",
       "      <td>0.175473</td>\n",
       "      <td>...</td>\n",
       "      <td>0.971489</td>\n",
       "      <td>-0.454307</td>\n",
       "      <td>1.202559</td>\n",
       "      <td>0.500204</td>\n",
       "      <td>-0.278562</td>\n",
       "      <td>0.278562</td>\n",
       "      <td>0.500204</td>\n",
       "      <td>-0.284565</td>\n",
       "      <td>-0.500456</td>\n",
       "      <td>-0.321325</td>\n",
       "    </tr>\n",
       "    <tr>\n",
       "      <th>1</th>\n",
       "      <td>-0.062200</td>\n",
       "      <td>-0.466314</td>\n",
       "      <td>-0.202534</td>\n",
       "      <td>0.490431</td>\n",
       "      <td>0.596618</td>\n",
       "      <td>0.610474</td>\n",
       "      <td>0.512805</td>\n",
       "      <td>0.419824</td>\n",
       "      <td>0.313513</td>\n",
       "      <td>0.175473</td>\n",
       "      <td>...</td>\n",
       "      <td>0.246511</td>\n",
       "      <td>-0.109797</td>\n",
       "      <td>1.404969</td>\n",
       "      <td>0.466314</td>\n",
       "      <td>-0.062200</td>\n",
       "      <td>0.062200</td>\n",
       "      <td>0.466314</td>\n",
       "      <td>-0.068829</td>\n",
       "      <td>-0.466602</td>\n",
       "      <td>-0.104614</td>\n",
       "    </tr>\n",
       "    <tr>\n",
       "      <th>2</th>\n",
       "      <td>-0.164304</td>\n",
       "      <td>-0.619655</td>\n",
       "      <td>-0.202534</td>\n",
       "      <td>0.490431</td>\n",
       "      <td>0.596618</td>\n",
       "      <td>0.610474</td>\n",
       "      <td>0.512805</td>\n",
       "      <td>0.419824</td>\n",
       "      <td>0.313513</td>\n",
       "      <td>0.175473</td>\n",
       "      <td>...</td>\n",
       "      <td>0.272478</td>\n",
       "      <td>0.002912</td>\n",
       "      <td>-1.411102</td>\n",
       "      <td>0.619655</td>\n",
       "      <td>-0.164304</td>\n",
       "      <td>0.164304</td>\n",
       "      <td>0.619655</td>\n",
       "      <td>-0.170715</td>\n",
       "      <td>-0.619771</td>\n",
       "      <td>-0.219554</td>\n",
       "    </tr>\n",
       "    <tr>\n",
       "      <th>3</th>\n",
       "      <td>-0.142835</td>\n",
       "      <td>-0.522111</td>\n",
       "      <td>-0.202534</td>\n",
       "      <td>0.490431</td>\n",
       "      <td>0.596618</td>\n",
       "      <td>0.610474</td>\n",
       "      <td>0.512805</td>\n",
       "      <td>0.419824</td>\n",
       "      <td>0.313513</td>\n",
       "      <td>0.175473</td>\n",
       "      <td>...</td>\n",
       "      <td>0.009952</td>\n",
       "      <td>1.923515</td>\n",
       "      <td>0.420207</td>\n",
       "      <td>0.522111</td>\n",
       "      <td>-0.142835</td>\n",
       "      <td>0.142835</td>\n",
       "      <td>0.522111</td>\n",
       "      <td>-0.149304</td>\n",
       "      <td>-0.522339</td>\n",
       "      <td>-0.189364</td>\n",
       "    </tr>\n",
       "    <tr>\n",
       "      <th>4</th>\n",
       "      <td>-0.148573</td>\n",
       "      <td>-0.681030</td>\n",
       "      <td>-0.202534</td>\n",
       "      <td>0.490431</td>\n",
       "      <td>0.596618</td>\n",
       "      <td>0.610474</td>\n",
       "      <td>0.512805</td>\n",
       "      <td>0.419824</td>\n",
       "      <td>0.313513</td>\n",
       "      <td>0.175473</td>\n",
       "      <td>...</td>\n",
       "      <td>1.199652</td>\n",
       "      <td>0.197989</td>\n",
       "      <td>-1.138588</td>\n",
       "      <td>0.681030</td>\n",
       "      <td>-0.148573</td>\n",
       "      <td>0.148573</td>\n",
       "      <td>0.681030</td>\n",
       "      <td>-0.155028</td>\n",
       "      <td>-0.681070</td>\n",
       "      <td>-0.209691</td>\n",
       "    </tr>\n",
       "    <tr>\n",
       "      <th>...</th>\n",
       "      <td>...</td>\n",
       "      <td>...</td>\n",
       "      <td>...</td>\n",
       "      <td>...</td>\n",
       "      <td>...</td>\n",
       "      <td>...</td>\n",
       "      <td>...</td>\n",
       "      <td>...</td>\n",
       "      <td>...</td>\n",
       "      <td>...</td>\n",
       "      <td>...</td>\n",
       "      <td>...</td>\n",
       "      <td>...</td>\n",
       "      <td>...</td>\n",
       "      <td>...</td>\n",
       "      <td>...</td>\n",
       "      <td>...</td>\n",
       "      <td>...</td>\n",
       "      <td>...</td>\n",
       "      <td>...</td>\n",
       "      <td>...</td>\n",
       "    </tr>\n",
       "    <tr>\n",
       "      <th>5613</th>\n",
       "      <td>-1.407615</td>\n",
       "      <td>-0.056545</td>\n",
       "      <td>-0.207299</td>\n",
       "      <td>-2.047117</td>\n",
       "      <td>-2.821936</td>\n",
       "      <td>-3.240605</td>\n",
       "      <td>-3.411321</td>\n",
       "      <td>-3.411500</td>\n",
       "      <td>-3.334496</td>\n",
       "      <td>-3.230124</td>\n",
       "      <td>...</td>\n",
       "      <td>-0.354232</td>\n",
       "      <td>-1.624733</td>\n",
       "      <td>-0.792443</td>\n",
       "      <td>0.056545</td>\n",
       "      <td>-1.407615</td>\n",
       "      <td>1.407615</td>\n",
       "      <td>0.056545</td>\n",
       "      <td>-1.400186</td>\n",
       "      <td>-0.057144</td>\n",
       "      <td>-1.395623</td>\n",
       "    </tr>\n",
       "    <tr>\n",
       "      <th>5614</th>\n",
       "      <td>-1.514084</td>\n",
       "      <td>-0.135144</td>\n",
       "      <td>-0.200858</td>\n",
       "      <td>-2.149360</td>\n",
       "      <td>-2.877707</td>\n",
       "      <td>-3.212027</td>\n",
       "      <td>-3.173294</td>\n",
       "      <td>-2.659134</td>\n",
       "      <td>-2.066513</td>\n",
       "      <td>-1.694632</td>\n",
       "      <td>...</td>\n",
       "      <td>0.098657</td>\n",
       "      <td>-1.279406</td>\n",
       "      <td>1.090449</td>\n",
       "      <td>0.135144</td>\n",
       "      <td>-1.514084</td>\n",
       "      <td>1.514084</td>\n",
       "      <td>0.135144</td>\n",
       "      <td>-1.504508</td>\n",
       "      <td>-0.135701</td>\n",
       "      <td>-1.507901</td>\n",
       "    </tr>\n",
       "    <tr>\n",
       "      <th>5615</th>\n",
       "      <td>-1.375317</td>\n",
       "      <td>-0.187867</td>\n",
       "      <td>-0.200858</td>\n",
       "      <td>-2.149360</td>\n",
       "      <td>-2.877707</td>\n",
       "      <td>-3.212027</td>\n",
       "      <td>-3.173294</td>\n",
       "      <td>-2.659134</td>\n",
       "      <td>-2.066513</td>\n",
       "      <td>-1.694632</td>\n",
       "      <td>...</td>\n",
       "      <td>-0.038086</td>\n",
       "      <td>-0.069975</td>\n",
       "      <td>-1.419941</td>\n",
       "      <td>0.187867</td>\n",
       "      <td>-1.375317</td>\n",
       "      <td>1.375317</td>\n",
       "      <td>0.187867</td>\n",
       "      <td>-1.368510</td>\n",
       "      <td>-0.188390</td>\n",
       "      <td>-1.375639</td>\n",
       "    </tr>\n",
       "    <tr>\n",
       "      <th>5616</th>\n",
       "      <td>-1.472086</td>\n",
       "      <td>-0.102749</td>\n",
       "      <td>-0.207299</td>\n",
       "      <td>-2.047117</td>\n",
       "      <td>-2.821936</td>\n",
       "      <td>-3.240605</td>\n",
       "      <td>-3.411321</td>\n",
       "      <td>-3.411500</td>\n",
       "      <td>-3.334496</td>\n",
       "      <td>-3.230124</td>\n",
       "      <td>...</td>\n",
       "      <td>-1.452672</td>\n",
       "      <td>0.878931</td>\n",
       "      <td>0.700370</td>\n",
       "      <td>0.102749</td>\n",
       "      <td>-1.472086</td>\n",
       "      <td>1.472086</td>\n",
       "      <td>0.102749</td>\n",
       "      <td>-1.463376</td>\n",
       "      <td>-0.103324</td>\n",
       "      <td>-1.463489</td>\n",
       "    </tr>\n",
       "    <tr>\n",
       "      <th>5617</th>\n",
       "      <td>-1.262242</td>\n",
       "      <td>0.096733</td>\n",
       "      <td>-0.207299</td>\n",
       "      <td>-2.047117</td>\n",
       "      <td>-2.821936</td>\n",
       "      <td>-3.240605</td>\n",
       "      <td>-3.411321</td>\n",
       "      <td>-3.411500</td>\n",
       "      <td>-3.334496</td>\n",
       "      <td>-3.230124</td>\n",
       "      <td>...</td>\n",
       "      <td>0.936432</td>\n",
       "      <td>0.419103</td>\n",
       "      <td>-1.229254</td>\n",
       "      <td>-0.096733</td>\n",
       "      <td>-1.262242</td>\n",
       "      <td>1.262242</td>\n",
       "      <td>-0.096733</td>\n",
       "      <td>-1.257499</td>\n",
       "      <td>0.096070</td>\n",
       "      <td>-1.238109</td>\n",
       "    </tr>\n",
       "  </tbody>\n",
       "</table>\n",
       "<p>5618 rows × 253 columns</p>\n",
       "</div>"
      ],
      "text/plain": [
       "             X         Y  Q_R_4_0_0  Q_R_4_0_1  Q_R_4_0_2  Q_R_4_0_3  \\\n",
       "0    -0.278562 -0.500204  -0.202534   0.490431   0.596618   0.610474   \n",
       "1    -0.062200 -0.466314  -0.202534   0.490431   0.596618   0.610474   \n",
       "2    -0.164304 -0.619655  -0.202534   0.490431   0.596618   0.610474   \n",
       "3    -0.142835 -0.522111  -0.202534   0.490431   0.596618   0.610474   \n",
       "4    -0.148573 -0.681030  -0.202534   0.490431   0.596618   0.610474   \n",
       "...        ...       ...        ...        ...        ...        ...   \n",
       "5613 -1.407615 -0.056545  -0.207299  -2.047117  -2.821936  -3.240605   \n",
       "5614 -1.514084 -0.135144  -0.200858  -2.149360  -2.877707  -3.212027   \n",
       "5615 -1.375317 -0.187867  -0.200858  -2.149360  -2.877707  -3.212027   \n",
       "5616 -1.472086 -0.102749  -0.207299  -2.047117  -2.821936  -3.240605   \n",
       "5617 -1.262242  0.096733  -0.207299  -2.047117  -2.821936  -3.240605   \n",
       "\n",
       "      Q_R_4_0_4  Q_R_4_0_5  Q_R_4_0_6  Q_R_4_0_7  ...     GEO_X     GEO_Y  \\\n",
       "0      0.512805   0.419824   0.313513   0.175473  ...  0.971489 -0.454307   \n",
       "1      0.512805   0.419824   0.313513   0.175473  ...  0.246511 -0.109797   \n",
       "2      0.512805   0.419824   0.313513   0.175473  ...  0.272478  0.002912   \n",
       "3      0.512805   0.419824   0.313513   0.175473  ...  0.009952  1.923515   \n",
       "4      0.512805   0.419824   0.313513   0.175473  ...  1.199652  0.197989   \n",
       "...         ...        ...        ...        ...  ...       ...       ...   \n",
       "5613  -3.411321  -3.411500  -3.334496  -3.230124  ... -0.354232 -1.624733   \n",
       "5614  -3.173294  -2.659134  -2.066513  -1.694632  ...  0.098657 -1.279406   \n",
       "5615  -3.173294  -2.659134  -2.066513  -1.694632  ... -0.038086 -0.069975   \n",
       "5616  -3.411321  -3.411500  -3.334496  -3.230124  ... -1.452672  0.878931   \n",
       "5617  -3.411321  -3.411500  -3.334496  -3.230124  ...  0.936432  0.419103   \n",
       "\n",
       "         GEO_Z  x_rot_90  y_rot_90  x_rot_180  y_rot_180     lat_2     lon_2  \\\n",
       "0     1.202559  0.500204 -0.278562   0.278562   0.500204 -0.284565 -0.500456   \n",
       "1     1.404969  0.466314 -0.062200   0.062200   0.466314 -0.068829 -0.466602   \n",
       "2    -1.411102  0.619655 -0.164304   0.164304   0.619655 -0.170715 -0.619771   \n",
       "3     0.420207  0.522111 -0.142835   0.142835   0.522111 -0.149304 -0.522339   \n",
       "4    -1.138588  0.681030 -0.148573   0.148573   0.681030 -0.155028 -0.681070   \n",
       "...        ...       ...       ...        ...        ...       ...       ...   \n",
       "5613 -0.792443  0.056545 -1.407615   1.407615   0.056545 -1.400186 -0.057144   \n",
       "5614  1.090449  0.135144 -1.514084   1.514084   0.135144 -1.504508 -0.135701   \n",
       "5615 -1.419941  0.187867 -1.375317   1.375317   0.187867 -1.368510 -0.188390   \n",
       "5616  0.700370  0.102749 -1.472086   1.472086   0.102749 -1.463376 -0.103324   \n",
       "5617 -1.229254 -0.096733 -1.262242   1.262242  -0.096733 -1.257499  0.096070   \n",
       "\n",
       "       latxlon  \n",
       "0    -0.321325  \n",
       "1    -0.104614  \n",
       "2    -0.219554  \n",
       "3    -0.189364  \n",
       "4    -0.209691  \n",
       "...        ...  \n",
       "5613 -1.395623  \n",
       "5614 -1.507901  \n",
       "5615 -1.375639  \n",
       "5616 -1.463489  \n",
       "5617 -1.238109  \n",
       "\n",
       "[5618 rows x 253 columns]"
      ]
     },
     "execution_count": 4,
     "metadata": {},
     "output_type": "execute_result"
    }
   ],
   "source": [
    "X_test"
   ]
  },
  {
   "cell_type": "code",
   "execution_count": 5,
   "metadata": {},
   "outputs": [],
   "source": [
    "with open('best_lightgbm_geovars_10_03_model.pkl', 'rb') as f:\n",
    "    bayessearch = pickle.load(f)"
   ]
  },
  {
   "cell_type": "code",
   "execution_count": 7,
   "metadata": {},
   "outputs": [],
   "source": [
    "model = bayessearch.best_estimator_['model']"
   ]
  },
  {
   "cell_type": "code",
   "execution_count": 20,
   "metadata": {},
   "outputs": [
    {
     "ename": "AttributeError",
     "evalue": "'LGBMClassifier' object has no attribute 'feature_name_'",
     "output_type": "error",
     "traceback": [
      "\u001b[0;31m---------------------------------------------------------------------------\u001b[0m",
      "\u001b[0;31mAttributeError\u001b[0m                            Traceback (most recent call last)",
      "\u001b[0;32m<ipython-input-20-14300aaf049d>\u001b[0m in \u001b[0;36m<module>\u001b[0;34m\u001b[0m\n\u001b[0;32m----> 1\u001b[0;31m \u001b[0mmodel\u001b[0m\u001b[0;34m.\u001b[0m\u001b[0mfeature_name_\u001b[0m\u001b[0;34m\u001b[0m\u001b[0;34m\u001b[0m\u001b[0m\n\u001b[0m",
      "\u001b[0;31mAttributeError\u001b[0m: 'LGBMClassifier' object has no attribute 'feature_name_'"
     ]
    }
   ],
   "source": [
    "model.feature_importances_name_"
   ]
  },
  {
   "cell_type": "code",
   "execution_count": null,
   "metadata": {},
   "outputs": [],
   "source": [
    "#preds = model.predict(X_test)"
   ]
  },
  {
   "cell_type": "code",
   "execution_count": 13,
   "metadata": {},
   "outputs": [
    {
     "ename": "AttributeError",
     "evalue": "'LGBMClassifier' object has no attribute 'feature_name_'",
     "output_type": "error",
     "traceback": [
      "\u001b[0;31m---------------------------------------------------------------------------\u001b[0m",
      "\u001b[0;31mAttributeError\u001b[0m                            Traceback (most recent call last)",
      "\u001b[0;32m<ipython-input-13-e5a54906eaf0>\u001b[0m in \u001b[0;36m<module>\u001b[0;34m\u001b[0m\n\u001b[1;32m      1\u001b[0m \u001b[0;32mfor\u001b[0m \u001b[0mcol\u001b[0m \u001b[0;32min\u001b[0m \u001b[0mX_test\u001b[0m\u001b[0;34m.\u001b[0m\u001b[0mcolumns\u001b[0m\u001b[0;34m:\u001b[0m\u001b[0;34m\u001b[0m\u001b[0;34m\u001b[0m\u001b[0m\n\u001b[0;32m----> 2\u001b[0;31m     \u001b[0;32mif\u001b[0m \u001b[0mcol\u001b[0m \u001b[0;32mnot\u001b[0m \u001b[0;32min\u001b[0m \u001b[0mmodel\u001b[0m\u001b[0;34m.\u001b[0m\u001b[0mfeature_name_\u001b[0m\u001b[0;34m:\u001b[0m\u001b[0;34m\u001b[0m\u001b[0;34m\u001b[0m\u001b[0m\n\u001b[0m\u001b[1;32m      3\u001b[0m         \u001b[0mprint\u001b[0m\u001b[0;34m(\u001b[0m\u001b[0mcol\u001b[0m\u001b[0;34m)\u001b[0m\u001b[0;34m\u001b[0m\u001b[0;34m\u001b[0m\u001b[0m\n",
      "\u001b[0;31mAttributeError\u001b[0m: 'LGBMClassifier' object has no attribute 'feature_name_'"
     ]
    }
   ],
   "source": [
    "for col in X_test.columns:\n",
    "    if col not in model.feature_name_:\n",
    "        print(col)"
   ]
  },
  {
   "cell_type": "code",
   "execution_count": 21,
   "metadata": {},
   "outputs": [],
   "source": [
    "with open('X_train.pkl', 'rb') as f:\n",
    "    Xtr = pickle.load(f)"
   ]
  },
  {
   "cell_type": "code",
   "execution_count": 22,
   "metadata": {},
   "outputs": [
    {
     "data": {
      "text/plain": [
       "(164927, 247)"
      ]
     },
     "execution_count": 22,
     "metadata": {},
     "output_type": "execute_result"
    }
   ],
   "source": [
    "Xtr.shape"
   ]
  },
  {
   "cell_type": "code",
   "execution_count": 23,
   "metadata": {},
   "outputs": [
    {
     "data": {
      "text/plain": [
       "Index(['X', 'Y', 'Q_R_4_0_0', 'Q_R_4_0_1', 'Q_R_4_0_2', 'Q_R_4_0_3',\n",
       "       'Q_R_4_0_4', 'Q_R_4_0_5', 'Q_R_4_0_6', 'Q_R_4_0_7',\n",
       "       ...\n",
       "       'GEO_X', 'GEO_Y', 'GEO_Z', 'x_rot_90', 'y_rot_90', 'x_rot_180',\n",
       "       'y_rot_180', 'lat_2', 'lon_2', 'latxlon'],\n",
       "      dtype='object', length=247)"
      ]
     },
     "execution_count": 23,
     "metadata": {},
     "output_type": "execute_result"
    }
   ],
   "source": [
    "Xtr.columns"
   ]
  },
  {
   "cell_type": "code",
   "execution_count": 31,
   "metadata": {},
   "outputs": [
    {
     "name": "stdout",
     "output_type": "stream",
     "text": [
      "distancias_al_ruido\n",
      "contadores_pension1.shp\n",
      "contadores_host3.shp\n",
      "contadores_hoteles4.shp\n",
      "contadores_host1.shp\n",
      "contadores_campus.shp\n",
      "ruido_No_Reg_Cerca\n",
      "7\n"
     ]
    }
   ],
   "source": [
    "i = 0\n",
    "for col in X_test.columns:\n",
    "    if col not in Xtr.columns:\n",
    "        X_test.drop(col, axis=1, inplace=True)\n",
    "        print(col)\n",
    "        i += 1\n",
    "print(i)"
   ]
  },
  {
   "cell_type": "code",
   "execution_count": 30,
   "metadata": {},
   "outputs": [
    {
     "name": "stdout",
     "output_type": "stream",
     "text": [
      "ruido_Sin superación\n",
      "1\n"
     ]
    }
   ],
   "source": []
  },
  {
   "cell_type": "code",
   "execution_count": 32,
   "metadata": {},
   "outputs": [],
   "source": [
    "X_test['ruido_Sin superación'] = [0]*X_test.shape[0]"
   ]
  },
  {
   "cell_type": "code",
   "execution_count": 33,
   "metadata": {},
   "outputs": [],
   "source": [
    "preds = model.predict(X_test)"
   ]
  },
  {
   "cell_type": "code",
   "execution_count": 38,
   "metadata": {},
   "outputs": [],
   "source": [
    "tag2idx = {'RETAIL': 0, 'RESIDENTIAL': 1, 'AGRICULTURE': 2, 'INDUSTRIAL': 3, 'OFFICE': 4, 'PUBLIC': 5, 'OTHER': 6}"
   ]
  },
  {
   "cell_type": "code",
   "execution_count": 39,
   "metadata": {},
   "outputs": [],
   "source": [
    "idx2tag = {v:k for k, v in tag2idx.items()}"
   ]
  },
  {
   "cell_type": "code",
   "execution_count": 41,
   "metadata": {},
   "outputs": [],
   "source": [
    "preds = [idx2tag[p] for p in preds]"
   ]
  },
  {
   "cell_type": "code",
   "execution_count": 49,
   "metadata": {},
   "outputs": [
    {
     "data": {
      "text/plain": [
       "<matplotlib.axes._subplots.AxesSubplot at 0x7f184b399d90>"
      ]
     },
     "execution_count": 49,
     "metadata": {},
     "output_type": "execute_result"
    },
    {
     "data": {
      "image/png": "[encoded data removed]",
      "text/plain": [
       "<Figure size 1440x1080 with 1 Axes>"
      ]
     },
     "metadata": {
      "needs_background": "light"
     },
     "output_type": "display_data"
    }
   ],
   "source": [
    "plt.rcParams['figure.figsize'] = (20, 15)\n",
    "sns.countplot(preds, orient='vertical')"
   ]
  },
  {
   "cell_type": "code",
   "execution_count": 44,
   "metadata": {},
   "outputs": [],
   "source": [
    "test_df = pd.read_csv('TOTAL_TEST.csv')"
   ]
  },
  {
   "cell_type": "code",
   "execution_count": 45,
   "metadata": {},
   "outputs": [],
   "source": [
    "ids = test_df.ID"
   ]
  },
  {
   "cell_type": "code",
   "execution_count": 46,
   "metadata": {},
   "outputs": [],
   "source": [
    "mydf = pd.DataFrame({'ID': ids, 'CLASE': preds})"
   ]
  },
  {
   "cell_type": "code",
   "execution_count": 47,
   "metadata": {},
   "outputs": [],
   "source": [
    "mydf.to_csv('Minsait_AFI_SentinelAdmins_1.txt', header=True, index=False, sep='|', encoding='utf-8')"
   ]
  },
  {
   "cell_type": "code",
   "execution_count": null,
   "metadata": {},
   "outputs": [],
   "source": []
  }
 ],
 "metadata": {
  "kernelspec": {
   "display_name": "Python [conda env:sentinel_env] *",
   "language": "python",
   "name": "conda-env-sentinel_env-py"
  },
  "language_info": {
   "codemirror_mode": {
    "name": "ipython",
    "version": 3
   },
   "file_extension": ".py",
   "mimetype": "text/x-python",
   "name": "python",
   "nbconvert_exporter": "python",
   "pygments_lexer": "ipython3",
   "version": "3.7.6"
  }
 },
 "nbformat": 4,
 "nbformat_minor": 4
}
