{
 "cells": [
  {
   "cell_type": "code",
   "execution_count": 1,
   "metadata": {},
   "outputs": [],
   "source": [
    "import overpass\n",
    "api = overpass.API()\n",
    "import requests\n",
    "import pandas as pd\n",
    "from tqdm import tqdm"
   ]
  },
  {
   "cell_type": "code",
   "execution_count": 7,
   "metadata": {},
   "outputs": [],
   "source": [
    "#resp = api.get('node[\"lon\"=\"-3.17\"]')"
   ]
  },
  {
   "cell_type": "code",
   "execution_count": 10,
   "metadata": {},
   "outputs": [],
   "source": [
    "#resp"
   ]
  },
  {
   "cell_type": "code",
   "execution_count": 9,
   "metadata": {},
   "outputs": [],
   "source": [
    "#MapQuery = overpass.MapQuery(50.746,7.154,50.748,7.157)\n",
    "#response = api.get(MapQuery)"
   ]
  },
  {
   "cell_type": "code",
   "execution_count": 13,
   "metadata": {},
   "outputs": [],
   "source": [
    "#res = requests.get('https://nominatim.openstreetmap.org/reverse?format=json&lat=52.5487429714954&lon=-1.81602098644987&zoom=18&addressdetails=1')"
   ]
  },
  {
   "cell_type": "code",
   "execution_count": 14,
   "metadata": {},
   "outputs": [],
   "source": [
    "#res.json()"
   ]
  },
  {
   "cell_type": "code",
   "execution_count": 5,
   "metadata": {},
   "outputs": [],
   "source": [
    "#%time\n",
    "res = requests.get('https://nominatim.openstreetmap.org/reverse?format=jsonv2&lat=-34.44076&lon=-58.70521')"
   ]
  },
  {
   "cell_type": "code",
   "execution_count": 6,
   "metadata": {},
   "outputs": [
    {
     "data": {
      "text/plain": [
       "<Response [429]>"
      ]
     },
     "execution_count": 6,
     "metadata": {},
     "output_type": "execute_result"
    }
   ],
   "source": [
    "res"
   ]
  },
  {
   "cell_type": "code",
   "execution_count": 21,
   "metadata": {},
   "outputs": [],
   "source": [
    "df = pd.read_csv('dataset_train.csv')"
   ]
  },
  {
   "cell_type": "code",
   "execution_count": 43,
   "metadata": {},
   "outputs": [],
   "source": [
    "lons=[df.lon.iloc[i] for i in range(df.shape[0])]\n",
    "lats=[df.lat.iloc[i] for i in range(df.shape[0])]"
   ]
  },
  {
   "cell_type": "code",
   "execution_count": 44,
   "metadata": {
    "scrolled": true
   },
   "outputs": [
    {
     "name": "stderr",
     "output_type": "stream",
     "text": [
      "/home/alejandro.vaca/miniconda/envs/sentinel_env/lib/python3.7/site-packages/ipykernel_launcher.py:2: DeprecationWarning: time.clock has been deprecated in Python 3.3 and will be removed from Python 3.8: use time.perf_counter or time.process_time instead\n",
      "  \n"
     ]
    },
    {
     "name": "stdout",
     "output_type": "stream",
     "text": [
      "{'place_id': 92172725, 'licence': 'Data © OpenStreetMap contributors, ODbL 1.0. https://osm.org/copyright', 'osm_type': 'way', 'osm_id': 25984584, 'lat': '40.43085365', 'lon': '-3.5218649309042505', 'place_rank': 30, 'category': 'leisure', 'type': 'sports_centre', 'importance': 0, 'addresstype': 'leisure', 'name': 'Polideportivo Justo Gómez Salto', 'display_name': 'Polideportivo Justo Gómez Salto, Carretera de Circunvalación, Sedano, San Fernando de Henares, Área metropolitana de Madrid y Corredor del Henares, Comunidad de Madrid, España', 'address': {'sports_centre': 'Polideportivo Justo Gómez Salto', 'road': 'Carretera de Circunvalación', 'suburb': 'Sedano', 'town': 'San Fernando de Henares', 'county': 'Área metropolitana de Madrid y Corredor del Henares', 'state': 'Comunidad de Madrid', 'country': 'España', 'country_code': 'es'}, 'boundingbox': ['40.4285831', '40.4328193', '-3.5252751', '-3.5196913']}\n",
      "44\n",
      "{'place_id': 92172725, 'licence': 'Data © OpenStreetMap contributors, ODbL 1.0. https://osm.org/copyright', 'osm_type': 'way', 'osm_id': 25984584, 'lat': '40.43085365', 'lon': '-3.5218649309042505', 'place_rank': 30, 'category': 'leisure', 'type': 'sports_centre', 'importance': 0, 'addresstype': 'leisure', 'name': 'Polideportivo Justo Gómez Salto', 'display_name': 'Polideportivo Justo Gómez Salto, Carretera de Circunvalación, Sedano, San Fernando de Henares, Área metropolitana de Madrid y Corredor del Henares, Comunidad de Madrid, España', 'address': {'sports_centre': 'Polideportivo Justo Gómez Salto', 'road': 'Carretera de Circunvalación', 'suburb': 'Sedano', 'town': 'San Fernando de Henares', 'county': 'Área metropolitana de Madrid y Corredor del Henares', 'state': 'Comunidad de Madrid', 'country': 'España', 'country_code': 'es'}, 'boundingbox': ['40.4285831', '40.4328193', '-3.5252751', '-3.5196913']}\n",
      "105\n",
      "28830\n",
      "{'place_id': 92172725, 'licence': 'Data © OpenStreetMap contributors, ODbL 1.0. https://osm.org/copyright', 'osm_type': 'way', 'osm_id': 25984584, 'lat': '40.43085365', 'lon': '-3.5218649309042505', 'place_rank': 30, 'category': 'leisure', 'type': 'sports_centre', 'importance': 0, 'addresstype': 'leisure', 'name': 'Polideportivo Justo Gómez Salto', 'display_name': 'Polideportivo Justo Gómez Salto, Carretera de Circunvalación, Sedano, San Fernando de Henares, Área metropolitana de Madrid y Corredor del Henares, Comunidad de Madrid, España', 'address': {'sports_centre': 'Polideportivo Justo Gómez Salto', 'road': 'Carretera de Circunvalación', 'suburb': 'Sedano', 'town': 'San Fernando de Henares', 'county': 'Área metropolitana de Madrid y Corredor del Henares', 'state': 'Comunidad de Madrid', 'country': 'España', 'country_code': 'es'}, 'boundingbox': ['40.4285831', '40.4328193', '-3.5252751', '-3.5196913']}\n",
      "290\n",
      "{'place_id': 156462892, 'licence': 'Data © OpenStreetMap contributors, ODbL 1.0. https://osm.org/copyright', 'osm_type': 'way', 'osm_id': 292722983, 'lat': '40.4323395', 'lon': '-3.531009323741703', 'place_rank': 30, 'category': 'building', 'type': 'terrace', 'importance': 0, 'addresstype': 'building', 'name': None, 'display_name': '57, Calle de Asturias, Sedano, San Fernando de Henares, Área metropolitana de Madrid y Corredor del Henares, Comunidad de Madrid, España', 'address': {'house_number': '57', 'road': 'Calle de Asturias', 'suburb': 'Sedano', 'town': 'San Fernando de Henares', 'county': 'Área metropolitana de Madrid y Corredor del Henares', 'state': 'Comunidad de Madrid', 'country': 'España', 'country_code': 'es'}, 'boundingbox': ['40.4322654', '40.432387', '-3.531073', '-3.5309457']}\n",
      "316\n",
      "{'place_id': 50512311, 'licence': 'Data © OpenStreetMap contributors, ODbL 1.0. https://osm.org/copyright', 'osm_type': 'node', 'osm_id': 4111777192, 'lat': '40.4288867', 'lon': '-3.5301168', 'place_rank': 30, 'category': 'amenity', 'type': 'bar', 'importance': 0, 'addresstype': 'amenity', 'name': 'El Bolo', 'display_name': 'El Bolo, 22, Calle Comercio, Sedano, San Fernando de Henares, Área metropolitana de Madrid y Corredor del Henares, Comunidad de Madrid, España', 'address': {'bar': 'El Bolo', 'house_number': '22', 'pedestrian': 'Calle Comercio', 'suburb': 'Sedano', 'town': 'San Fernando de Henares', 'county': 'Área metropolitana de Madrid y Corredor del Henares', 'state': 'Comunidad de Madrid', 'country': 'España', 'country_code': 'es'}, 'boundingbox': ['40.4287867', '40.4289867', '-3.5302168', '-3.5300168']}\n",
      "342\n",
      "28830\n",
      "28830\n",
      "28523\n",
      "28001\n",
      "28523\n",
      "{'place_id': 235882407, 'licence': 'Data © OpenStreetMap contributors, ODbL 1.0. https://osm.org/copyright', 'osm_type': 'relation', 'osm_id': 4072775, 'lat': '40.42942275', 'lon': '-3.5278111906176104', 'place_rank': 30, 'category': 'building', 'type': 'apartments', 'importance': 0, 'addresstype': 'building', 'name': 'El cuartelillo', 'display_name': 'El cuartelillo, Calle de la Presa, Sedano, San Fernando de Henares, Área metropolitana de Madrid y Corredor del Henares, Comunidad de Madrid, España', 'address': {'address29': 'El cuartelillo', 'road': 'Calle de la Presa', 'suburb': 'Sedano', 'town': 'San Fernando de Henares', 'county': 'Área metropolitana de Madrid y Corredor del Henares', 'state': 'Comunidad de Madrid', 'country': 'España', 'country_code': 'es'}, 'boundingbox': ['40.4289993', '40.4298439', '-3.5287511', '-3.5276202']}\n",
      "665\n",
      "{'place_id': 156065890, 'licence': 'Data © OpenStreetMap contributors, ODbL 1.0. https://osm.org/copyright', 'osm_type': 'way', 'osm_id': 291002133, 'lat': '40.43018515', 'lon': '-3.5255098052704064', 'place_rank': 30, 'category': 'building', 'type': 'terrace', 'importance': 0, 'addresstype': 'building', 'name': None, 'display_name': '41, Calle de Andalucía, Sedano, San Fernando de Henares, Área metropolitana de Madrid y Corredor del Henares, Comunidad de Madrid, España', 'address': {'house_number': '41', 'road': 'Calle de Andalucía', 'suburb': 'Sedano', 'town': 'San Fernando de Henares', 'county': 'Área metropolitana de Madrid y Corredor del Henares', 'state': 'Comunidad de Madrid', 'country': 'España', 'country_code': 'es'}, 'boundingbox': ['40.4301411', '40.4302337', '-3.525587', '-3.5254325']}\n",
      "688\n",
      "{'place_id': 92172725, 'licence': 'Data © OpenStreetMap contributors, ODbL 1.0. https://osm.org/copyright', 'osm_type': 'way', 'osm_id': 25984584, 'lat': '40.43085365', 'lon': '-3.5218649309042505', 'place_rank': 30, 'category': 'leisure', 'type': 'sports_centre', 'importance': 0, 'addresstype': 'leisure', 'name': 'Polideportivo Justo Gómez Salto', 'display_name': 'Polideportivo Justo Gómez Salto, Carretera de Circunvalación, Sedano, San Fernando de Henares, Área metropolitana de Madrid y Corredor del Henares, Comunidad de Madrid, España', 'address': {'sports_centre': 'Polideportivo Justo Gómez Salto', 'road': 'Carretera de Circunvalación', 'suburb': 'Sedano', 'town': 'San Fernando de Henares', 'county': 'Área metropolitana de Madrid y Corredor del Henares', 'state': 'Comunidad de Madrid', 'country': 'España', 'country_code': 'es'}, 'boundingbox': ['40.4285831', '40.4328193', '-3.5252751', '-3.5196913']}\n",
      "695\n",
      "{'place_id': 151114670, 'licence': 'Data © OpenStreetMap contributors, ODbL 1.0. https://osm.org/copyright', 'osm_type': 'way', 'osm_id': 263433761, 'lat': '40.4311386', 'lon': '-3.5321422499999997', 'place_rank': 30, 'category': 'building', 'type': 'industrial', 'importance': 0, 'addresstype': 'building', 'name': None, 'display_name': '16, Calle de Valladolid, Sedano, San Fernando de Henares, Área metropolitana de Madrid y Corredor del Henares, Comunidad de Madrid, España', 'address': {'house_number': '16', 'road': 'Calle de Valladolid', 'suburb': 'Sedano', 'town': 'San Fernando de Henares', 'county': 'Área metropolitana de Madrid y Corredor del Henares', 'state': 'Comunidad de Madrid', 'country': 'España', 'country_code': 'es'}, 'boundingbox': ['40.4310385', '40.4312387', '-3.5322139', '-3.5320706']}\n",
      "713\n",
      "28830\n",
      "{'place_id': 153744638, 'licence': 'Data © OpenStreetMap contributors, ODbL 1.0. https://osm.org/copyright', 'osm_type': 'way', 'osm_id': 279102454, 'lat': '40.43011335', 'lon': '-3.527769465443761', 'place_rank': 30, 'category': 'building', 'type': 'terrace', 'importance': 0, 'addresstype': 'building', 'name': None, 'display_name': '8, Glorieta de Rosalía de Castro, Sedano, San Fernando de Henares, Área metropolitana de Madrid y Corredor del Henares, Comunidad de Madrid, España', 'address': {'house_number': '8', 'road': 'Glorieta de Rosalía de Castro', 'suburb': 'Sedano', 'town': 'San Fernando de Henares', 'county': 'Área metropolitana de Madrid y Corredor del Henares', 'state': 'Comunidad de Madrid', 'country': 'España', 'country_code': 'es'}, 'boundingbox': ['40.4300492', '40.4301775', '-3.527826', '-3.5277128']}\n",
      "815\n"
     ]
    },
    {
     "name": "stdout",
     "output_type": "stream",
     "text": [
      "28830\n",
      "{'place_id': 92172725, 'licence': 'Data © OpenStreetMap contributors, ODbL 1.0. https://osm.org/copyright', 'osm_type': 'way', 'osm_id': 25984584, 'lat': '40.43085365', 'lon': '-3.5218649309042505', 'place_rank': 30, 'category': 'leisure', 'type': 'sports_centre', 'importance': 0, 'addresstype': 'leisure', 'name': 'Polideportivo Justo Gómez Salto', 'display_name': 'Polideportivo Justo Gómez Salto, Carretera de Circunvalación, Sedano, San Fernando de Henares, Área metropolitana de Madrid y Corredor del Henares, Comunidad de Madrid, España', 'address': {'sports_centre': 'Polideportivo Justo Gómez Salto', 'road': 'Carretera de Circunvalación', 'suburb': 'Sedano', 'town': 'San Fernando de Henares', 'county': 'Área metropolitana de Madrid y Corredor del Henares', 'state': 'Comunidad de Madrid', 'country': 'España', 'country_code': 'es'}, 'boundingbox': ['40.4285831', '40.4328193', '-3.5252751', '-3.5196913']}\n",
      "842\n",
      "28823\n",
      "28001\n",
      "28830\n",
      "28823\n"
     ]
    },
    {
     "ename": "JSONDecodeError",
     "evalue": "Expecting value: line 1 column 1 (char 0)",
     "output_type": "error",
     "traceback": [
      "\u001b[0;31m---------------------------------------------------------------------------\u001b[0m",
      "\u001b[0;31mJSONDecodeError\u001b[0m                           Traceback (most recent call last)",
      "\u001b[0;32m<ipython-input-44-0a396ea752d6>\u001b[0m in \u001b[0;36m<module>\u001b[0;34m\u001b[0m\n\u001b[1;32m      5\u001b[0m \u001b[0;32mfor\u001b[0m \u001b[0mlon\u001b[0m\u001b[0;34m,\u001b[0m \u001b[0mlat\u001b[0m \u001b[0;32min\u001b[0m \u001b[0mzip\u001b[0m\u001b[0;34m(\u001b[0m\u001b[0mlons\u001b[0m\u001b[0;34m,\u001b[0m \u001b[0mlats\u001b[0m\u001b[0;34m)\u001b[0m\u001b[0;34m:\u001b[0m\u001b[0;34m\u001b[0m\u001b[0;34m\u001b[0m\u001b[0m\n\u001b[1;32m      6\u001b[0m     \u001b[0mres\u001b[0m \u001b[0;34m=\u001b[0m \u001b[0mrequests\u001b[0m\u001b[0;34m.\u001b[0m\u001b[0mget\u001b[0m\u001b[0;34m(\u001b[0m\u001b[0;34mf\"https://nominatim.openstreetmap.org/reverse?format=jsonv2&lat={lat}&lon={lon}\"\u001b[0m\u001b[0;34m)\u001b[0m\u001b[0;34m\u001b[0m\u001b[0;34m\u001b[0m\u001b[0m\n\u001b[0;32m----> 7\u001b[0;31m     \u001b[0mres\u001b[0m \u001b[0;34m=\u001b[0m \u001b[0mdict\u001b[0m\u001b[0;34m(\u001b[0m\u001b[0mres\u001b[0m\u001b[0;34m.\u001b[0m\u001b[0mjson\u001b[0m\u001b[0;34m(\u001b[0m\u001b[0;34m)\u001b[0m\u001b[0;34m)\u001b[0m\u001b[0;34m\u001b[0m\u001b[0;34m\u001b[0m\u001b[0m\n\u001b[0m\u001b[1;32m      8\u001b[0m     \u001b[0;32mtry\u001b[0m\u001b[0;34m:\u001b[0m\u001b[0;34m\u001b[0m\u001b[0;34m\u001b[0m\u001b[0m\n\u001b[1;32m      9\u001b[0m         \u001b[0mpostal_codes\u001b[0m\u001b[0;34m.\u001b[0m\u001b[0mappend\u001b[0m\u001b[0;34m(\u001b[0m\u001b[0mres\u001b[0m\u001b[0;34m[\u001b[0m\u001b[0;34m'address'\u001b[0m\u001b[0;34m]\u001b[0m\u001b[0;34m[\u001b[0m\u001b[0;34m'postcode'\u001b[0m\u001b[0;34m]\u001b[0m\u001b[0;34m)\u001b[0m\u001b[0;34m\u001b[0m\u001b[0;34m\u001b[0m\u001b[0m\n",
      "\u001b[0;32m~/miniconda/envs/sentinel_env/lib/python3.7/site-packages/requests/models.py\u001b[0m in \u001b[0;36mjson\u001b[0;34m(self, **kwargs)\u001b[0m\n\u001b[1;32m    895\u001b[0m                     \u001b[0;31m# used.\u001b[0m\u001b[0;34m\u001b[0m\u001b[0;34m\u001b[0m\u001b[0;34m\u001b[0m\u001b[0m\n\u001b[1;32m    896\u001b[0m                     \u001b[0;32mpass\u001b[0m\u001b[0;34m\u001b[0m\u001b[0;34m\u001b[0m\u001b[0m\n\u001b[0;32m--> 897\u001b[0;31m         \u001b[0;32mreturn\u001b[0m \u001b[0mcomplexjson\u001b[0m\u001b[0;34m.\u001b[0m\u001b[0mloads\u001b[0m\u001b[0;34m(\u001b[0m\u001b[0mself\u001b[0m\u001b[0;34m.\u001b[0m\u001b[0mtext\u001b[0m\u001b[0;34m,\u001b[0m \u001b[0;34m**\u001b[0m\u001b[0mkwargs\u001b[0m\u001b[0;34m)\u001b[0m\u001b[0;34m\u001b[0m\u001b[0;34m\u001b[0m\u001b[0m\n\u001b[0m\u001b[1;32m    898\u001b[0m \u001b[0;34m\u001b[0m\u001b[0m\n\u001b[1;32m    899\u001b[0m     \u001b[0;34m@\u001b[0m\u001b[0mproperty\u001b[0m\u001b[0;34m\u001b[0m\u001b[0;34m\u001b[0m\u001b[0m\n",
      "\u001b[0;32m~/miniconda/envs/sentinel_env/lib/python3.7/site-packages/simplejson/__init__.py\u001b[0m in \u001b[0;36mloads\u001b[0;34m(s, encoding, cls, object_hook, parse_float, parse_int, parse_constant, object_pairs_hook, use_decimal, **kw)\u001b[0m\n\u001b[1;32m    523\u001b[0m             \u001b[0mparse_constant\u001b[0m \u001b[0;32mis\u001b[0m \u001b[0;32mNone\u001b[0m \u001b[0;32mand\u001b[0m \u001b[0mobject_pairs_hook\u001b[0m \u001b[0;32mis\u001b[0m \u001b[0;32mNone\u001b[0m\u001b[0;34m\u001b[0m\u001b[0;34m\u001b[0m\u001b[0m\n\u001b[1;32m    524\u001b[0m             and not use_decimal and not kw):\n\u001b[0;32m--> 525\u001b[0;31m         \u001b[0;32mreturn\u001b[0m \u001b[0m_default_decoder\u001b[0m\u001b[0;34m.\u001b[0m\u001b[0mdecode\u001b[0m\u001b[0;34m(\u001b[0m\u001b[0ms\u001b[0m\u001b[0;34m)\u001b[0m\u001b[0;34m\u001b[0m\u001b[0;34m\u001b[0m\u001b[0m\n\u001b[0m\u001b[1;32m    526\u001b[0m     \u001b[0;32mif\u001b[0m \u001b[0mcls\u001b[0m \u001b[0;32mis\u001b[0m \u001b[0;32mNone\u001b[0m\u001b[0;34m:\u001b[0m\u001b[0;34m\u001b[0m\u001b[0;34m\u001b[0m\u001b[0m\n\u001b[1;32m    527\u001b[0m         \u001b[0mcls\u001b[0m \u001b[0;34m=\u001b[0m \u001b[0mJSONDecoder\u001b[0m\u001b[0;34m\u001b[0m\u001b[0;34m\u001b[0m\u001b[0m\n",
      "\u001b[0;32m~/miniconda/envs/sentinel_env/lib/python3.7/site-packages/simplejson/decoder.py\u001b[0m in \u001b[0;36mdecode\u001b[0;34m(self, s, _w, _PY3)\u001b[0m\n\u001b[1;32m    368\u001b[0m         \u001b[0;32mif\u001b[0m \u001b[0m_PY3\u001b[0m \u001b[0;32mand\u001b[0m \u001b[0misinstance\u001b[0m\u001b[0;34m(\u001b[0m\u001b[0ms\u001b[0m\u001b[0;34m,\u001b[0m \u001b[0mbytes\u001b[0m\u001b[0;34m)\u001b[0m\u001b[0;34m:\u001b[0m\u001b[0;34m\u001b[0m\u001b[0;34m\u001b[0m\u001b[0m\n\u001b[1;32m    369\u001b[0m             \u001b[0ms\u001b[0m \u001b[0;34m=\u001b[0m \u001b[0mstr\u001b[0m\u001b[0;34m(\u001b[0m\u001b[0ms\u001b[0m\u001b[0;34m,\u001b[0m \u001b[0mself\u001b[0m\u001b[0;34m.\u001b[0m\u001b[0mencoding\u001b[0m\u001b[0;34m)\u001b[0m\u001b[0;34m\u001b[0m\u001b[0;34m\u001b[0m\u001b[0m\n\u001b[0;32m--> 370\u001b[0;31m         \u001b[0mobj\u001b[0m\u001b[0;34m,\u001b[0m \u001b[0mend\u001b[0m \u001b[0;34m=\u001b[0m \u001b[0mself\u001b[0m\u001b[0;34m.\u001b[0m\u001b[0mraw_decode\u001b[0m\u001b[0;34m(\u001b[0m\u001b[0ms\u001b[0m\u001b[0;34m)\u001b[0m\u001b[0;34m\u001b[0m\u001b[0;34m\u001b[0m\u001b[0m\n\u001b[0m\u001b[1;32m    371\u001b[0m         \u001b[0mend\u001b[0m \u001b[0;34m=\u001b[0m \u001b[0m_w\u001b[0m\u001b[0;34m(\u001b[0m\u001b[0ms\u001b[0m\u001b[0;34m,\u001b[0m \u001b[0mend\u001b[0m\u001b[0;34m)\u001b[0m\u001b[0;34m.\u001b[0m\u001b[0mend\u001b[0m\u001b[0;34m(\u001b[0m\u001b[0;34m)\u001b[0m\u001b[0;34m\u001b[0m\u001b[0;34m\u001b[0m\u001b[0m\n\u001b[1;32m    372\u001b[0m         \u001b[0;32mif\u001b[0m \u001b[0mend\u001b[0m \u001b[0;34m!=\u001b[0m \u001b[0mlen\u001b[0m\u001b[0;34m(\u001b[0m\u001b[0ms\u001b[0m\u001b[0;34m)\u001b[0m\u001b[0;34m:\u001b[0m\u001b[0;34m\u001b[0m\u001b[0;34m\u001b[0m\u001b[0m\n",
      "\u001b[0;32m~/miniconda/envs/sentinel_env/lib/python3.7/site-packages/simplejson/decoder.py\u001b[0m in \u001b[0;36mraw_decode\u001b[0;34m(self, s, idx, _w, _PY3)\u001b[0m\n\u001b[1;32m    398\u001b[0m             \u001b[0;32melif\u001b[0m \u001b[0mord0\u001b[0m \u001b[0;34m==\u001b[0m \u001b[0;36m0xef\u001b[0m \u001b[0;32mand\u001b[0m \u001b[0ms\u001b[0m\u001b[0;34m[\u001b[0m\u001b[0midx\u001b[0m\u001b[0;34m:\u001b[0m\u001b[0midx\u001b[0m \u001b[0;34m+\u001b[0m \u001b[0;36m3\u001b[0m\u001b[0;34m]\u001b[0m \u001b[0;34m==\u001b[0m \u001b[0;34m'\\xef\\xbb\\xbf'\u001b[0m\u001b[0;34m:\u001b[0m\u001b[0;34m\u001b[0m\u001b[0;34m\u001b[0m\u001b[0m\n\u001b[1;32m    399\u001b[0m                 \u001b[0midx\u001b[0m \u001b[0;34m+=\u001b[0m \u001b[0;36m3\u001b[0m\u001b[0;34m\u001b[0m\u001b[0;34m\u001b[0m\u001b[0m\n\u001b[0;32m--> 400\u001b[0;31m         \u001b[0;32mreturn\u001b[0m \u001b[0mself\u001b[0m\u001b[0;34m.\u001b[0m\u001b[0mscan_once\u001b[0m\u001b[0;34m(\u001b[0m\u001b[0ms\u001b[0m\u001b[0;34m,\u001b[0m \u001b[0midx\u001b[0m\u001b[0;34m=\u001b[0m\u001b[0m_w\u001b[0m\u001b[0;34m(\u001b[0m\u001b[0ms\u001b[0m\u001b[0;34m,\u001b[0m \u001b[0midx\u001b[0m\u001b[0;34m)\u001b[0m\u001b[0;34m.\u001b[0m\u001b[0mend\u001b[0m\u001b[0;34m(\u001b[0m\u001b[0;34m)\u001b[0m\u001b[0;34m)\u001b[0m\u001b[0;34m\u001b[0m\u001b[0;34m\u001b[0m\u001b[0m\n\u001b[0m",
      "\u001b[0;31mJSONDecodeError\u001b[0m: Expecting value: line 1 column 1 (char 0)"
     ]
    }
   ],
   "source": [
    "import time\n",
    "t0 = time.clock()\n",
    "postal_codes = []\n",
    "i = 0\n",
    "errores = 0\n",
    "lugares_de_error = []\n",
    "for lon, lat in zip(lons, lats):\n",
    "    try:\n",
    "        res = requests.get(f\"https://nominatim.openstreetmap.org/reverse?format=jsonv2&lat={lat}&lon={lon}\")\n",
    "        res = dict(res.json())\n",
    "        postal_codes.append(res['address']['postcode'])\n",
    "    except:\n",
    "        errores += 1\n",
    "        try:\n",
    "            res = requests.get(f\"https://nominatim.openstreetmap.org/reverse?format=jsonv2&lat={lat}&lon={lon}\")\n",
    "            lugar_de_error.append(res.json()['address']['town'])\n",
    "        '''\n",
    "        try:\n",
    "            res = requests.get(f\"https://nominatim.openstreetmap.org/reverse?format=jsonv2&lat={lat+0.005}&lon={lon+0.005}\")\n",
    "            res = dict(res.json())\n",
    "            postal_codes.append(res['address']['postcode'])\n",
    "            print(res['address']['postcode'])\n",
    "        \n",
    "        except:\n",
    "            res = requests.get(f\"https://nominatim.openstreetmap.org/reverse?format=jsonv2&lat={lat}&lon={lon}\")\n",
    "            print(res)\n",
    "            print(i)\n",
    "        '''\n",
    "    i+= 1\n",
    "print(f\"time in seconds: {time.clock()-t0}\")"
   ]
  },
  {
   "cell_type": "code",
   "execution_count": 39,
   "metadata": {},
   "outputs": [],
   "source": [
    "res = requests.get(f\"https://nominatim.openstreetmap.org/reverse?format=jsonv2&lat={40.4416001}&lon={-3.5384073}\")"
   ]
  },
  {
   "cell_type": "code",
   "execution_count": 40,
   "metadata": {},
   "outputs": [
    {
     "data": {
      "text/plain": [
       "{'place_id': 128334070,\n",
       " 'licence': 'Data © OpenStreetMap contributors, ODbL 1.0. https://osm.org/copyright',\n",
       " 'osm_type': 'way',\n",
       " 'osm_id': 176951249,\n",
       " 'lat': '40.44247065',\n",
       " 'lon': '-3.5394388092793676',\n",
       " 'place_rank': 30,\n",
       " 'category': 'building',\n",
       " 'type': 'industrial',\n",
       " 'importance': 0,\n",
       " 'addresstype': 'building',\n",
       " 'name': 'Almacenes Eléctricos Madrileños',\n",
       " 'display_name': 'Almacenes Eléctricos Madrileños, Calle Ferrocarril, Coslada, Área metropolitana de Madrid y Corredor del Henares, Comunidad de Madrid, 28823, España',\n",
       " 'address': {'address29': 'Almacenes Eléctricos Madrileños',\n",
       "  'road': 'Calle Ferrocarril',\n",
       "  'town': 'Coslada',\n",
       "  'county': 'Área metropolitana de Madrid y Corredor del Henares',\n",
       "  'state': 'Comunidad de Madrid',\n",
       "  'postcode': '28823',\n",
       "  'country': 'España',\n",
       "  'country_code': 'es'},\n",
       " 'boundingbox': ['40.441935', '40.4430417', '-3.540486', '-3.538362']}"
      ]
     },
     "execution_count": 40,
     "metadata": {},
     "output_type": "execute_result"
    }
   ],
   "source": [
    "res.json()"
   ]
  },
  {
   "cell_type": "code",
   "execution_count": null,
   "metadata": {},
   "outputs": [],
   "source": []
  }
 ],
 "metadata": {
  "kernelspec": {
   "display_name": "Python [conda env:sentinel_env] *",
   "language": "python",
   "name": "conda-env-sentinel_env-py"
  },
  "language_info": {
   "codemirror_mode": {
    "name": "ipython",
    "version": 3
   },
   "file_extension": ".py",
   "mimetype": "text/x-python",
   "name": "python",
   "nbconvert_exporter": "python",
   "pygments_lexer": "ipython3",
   "version": "3.7.6"
  }
 },
 "nbformat": 4,
 "nbformat_minor": 4
}
