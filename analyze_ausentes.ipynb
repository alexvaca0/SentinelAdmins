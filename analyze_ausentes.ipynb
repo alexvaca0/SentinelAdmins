{
 "cells": [
  {
   "cell_type": "code",
   "execution_count": 1,
   "metadata": {},
   "outputs": [],
   "source": [
    "import pandas as pd"
   ]
  },
  {
   "cell_type": "code",
   "execution_count": 2,
   "metadata": {},
   "outputs": [
    {
     "name": "stderr",
     "output_type": "stream",
     "text": [
      "/home/alejandro.vaca/miniconda/envs/sentinel_env/lib/python3.7/site-packages/IPython/core/interactiveshell.py:3063: DtypeWarning: Columns (54) have mixed types.Specify dtype option on import or set low_memory=False.\n",
      "  interactivity=interactivity, compiler=compiler, result=result)\n"
     ]
    }
   ],
   "source": [
    "tr = pd.read_csv('TOTAL_TRAIN.csv')"
   ]
  },
  {
   "cell_type": "code",
   "execution_count": 4,
   "metadata": {},
   "outputs": [
    {
     "data": {
      "text/plain": [
       "2017"
      ]
     },
     "execution_count": 4,
     "metadata": {},
     "output_type": "execute_result"
    }
   ],
   "source": [
    "tr.CONTRUCTIONYEAR.max()"
   ]
  },
  {
   "cell_type": "code",
   "execution_count": 3,
   "metadata": {},
   "outputs": [],
   "source": [
    "v_cod = pd.read_csv('vars_censo_codigo_postal.csv')"
   ]
  },
  {
   "cell_type": "code",
   "execution_count": 4,
   "metadata": {},
   "outputs": [
    {
     "data": {
      "text/html": [
       "<div>\n",
       "<style scoped>\n",
       "    .dataframe tbody tr th:only-of-type {\n",
       "        vertical-align: middle;\n",
       "    }\n",
       "\n",
       "    .dataframe tbody tr th {\n",
       "        vertical-align: top;\n",
       "    }\n",
       "\n",
       "    .dataframe thead th {\n",
       "        text-align: right;\n",
       "    }\n",
       "</style>\n",
       "<table border=\"1\" class=\"dataframe\">\n",
       "  <thead>\n",
       "    <tr style=\"text-align: right;\">\n",
       "      <th></th>\n",
       "      <th>CODIGO_POSTAL</th>\n",
       "      <th>edad_media</th>\n",
       "      <th>p_poblacion_menor_de_18</th>\n",
       "      <th>p_poblacion_mayor_65</th>\n",
       "      <th>media_personas_por_hogar</th>\n",
       "      <th>poblacion</th>\n",
       "      <th>crecimiento_poblaconal_2015</th>\n",
       "      <th>renta_media_por_persona</th>\n",
       "      <th>renta_media_por_hogar</th>\n",
       "      <th>p_suelo_urbano</th>\n",
       "      <th>...</th>\n",
       "      <th>p_ocup_adm_publica</th>\n",
       "      <th>p_ocup_educacion</th>\n",
       "      <th>p_ocup_medicina</th>\n",
       "      <th>p_ocup_otros</th>\n",
       "      <th>p_casas_con_servicio_domestico</th>\n",
       "      <th>prop_masculinidad</th>\n",
       "      <th>prop_reemplazamiento</th>\n",
       "      <th>prop_dependientes</th>\n",
       "      <th>prop_analfabetas</th>\n",
       "      <th>prop_paro</th>\n",
       "    </tr>\n",
       "  </thead>\n",
       "  <tbody>\n",
       "    <tr>\n",
       "      <th>0</th>\n",
       "      <td>28001</td>\n",
       "      <td>43.5</td>\n",
       "      <td>16.2</td>\n",
       "      <td>20.4</td>\n",
       "      <td>2.49</td>\n",
       "      <td>3131879.0</td>\n",
       "      <td>0.0034</td>\n",
       "      <td>15717.0</td>\n",
       "      <td>39613.0</td>\n",
       "      <td>0.3625</td>\n",
       "      <td>...</td>\n",
       "      <td>0.103991</td>\n",
       "      <td>0.082944</td>\n",
       "      <td>0.069302</td>\n",
       "      <td>0.065092</td>\n",
       "      <td>0.060103</td>\n",
       "      <td>74.8</td>\n",
       "      <td>1.2</td>\n",
       "      <td>0.6</td>\n",
       "      <td>0.3</td>\n",
       "      <td>18.6</td>\n",
       "    </tr>\n",
       "    <tr>\n",
       "      <th>1</th>\n",
       "      <td>28002</td>\n",
       "      <td>43.5</td>\n",
       "      <td>16.2</td>\n",
       "      <td>20.4</td>\n",
       "      <td>2.49</td>\n",
       "      <td>3131879.0</td>\n",
       "      <td>0.0034</td>\n",
       "      <td>15717.0</td>\n",
       "      <td>39613.0</td>\n",
       "      <td>0.3625</td>\n",
       "      <td>...</td>\n",
       "      <td>0.115803</td>\n",
       "      <td>0.088233</td>\n",
       "      <td>0.066015</td>\n",
       "      <td>0.056245</td>\n",
       "      <td>0.029652</td>\n",
       "      <td>81.3</td>\n",
       "      <td>1.1</td>\n",
       "      <td>0.5</td>\n",
       "      <td>0.3</td>\n",
       "      <td>18.3</td>\n",
       "    </tr>\n",
       "    <tr>\n",
       "      <th>2</th>\n",
       "      <td>28003</td>\n",
       "      <td>43.5</td>\n",
       "      <td>16.2</td>\n",
       "      <td>20.4</td>\n",
       "      <td>2.49</td>\n",
       "      <td>3131879.0</td>\n",
       "      <td>0.0034</td>\n",
       "      <td>15717.0</td>\n",
       "      <td>39613.0</td>\n",
       "      <td>0.3625</td>\n",
       "      <td>...</td>\n",
       "      <td>0.163558</td>\n",
       "      <td>0.100375</td>\n",
       "      <td>0.084281</td>\n",
       "      <td>0.055960</td>\n",
       "      <td>0.046008</td>\n",
       "      <td>75.1</td>\n",
       "      <td>1.2</td>\n",
       "      <td>0.5</td>\n",
       "      <td>0.4</td>\n",
       "      <td>17.9</td>\n",
       "    </tr>\n",
       "    <tr>\n",
       "      <th>3</th>\n",
       "      <td>28004</td>\n",
       "      <td>43.5</td>\n",
       "      <td>16.2</td>\n",
       "      <td>20.4</td>\n",
       "      <td>2.49</td>\n",
       "      <td>3131879.0</td>\n",
       "      <td>0.0034</td>\n",
       "      <td>15717.0</td>\n",
       "      <td>39613.0</td>\n",
       "      <td>0.3625</td>\n",
       "      <td>...</td>\n",
       "      <td>0.101315</td>\n",
       "      <td>0.083013</td>\n",
       "      <td>0.060217</td>\n",
       "      <td>0.072065</td>\n",
       "      <td>0.058175</td>\n",
       "      <td>79.9</td>\n",
       "      <td>1.3</td>\n",
       "      <td>0.5</td>\n",
       "      <td>0.8</td>\n",
       "      <td>23.6</td>\n",
       "    </tr>\n",
       "    <tr>\n",
       "      <th>4</th>\n",
       "      <td>28005</td>\n",
       "      <td>43.5</td>\n",
       "      <td>16.2</td>\n",
       "      <td>20.4</td>\n",
       "      <td>2.49</td>\n",
       "      <td>3131879.0</td>\n",
       "      <td>0.0034</td>\n",
       "      <td>15717.0</td>\n",
       "      <td>39613.0</td>\n",
       "      <td>0.3625</td>\n",
       "      <td>...</td>\n",
       "      <td>0.139774</td>\n",
       "      <td>0.097320</td>\n",
       "      <td>0.067166</td>\n",
       "      <td>0.054829</td>\n",
       "      <td>0.025308</td>\n",
       "      <td>84.5</td>\n",
       "      <td>1.2</td>\n",
       "      <td>0.5</td>\n",
       "      <td>0.7</td>\n",
       "      <td>20.2</td>\n",
       "    </tr>\n",
       "  </tbody>\n",
       "</table>\n",
       "<p>5 rows × 48 columns</p>\n",
       "</div>"
      ],
      "text/plain": [
       "   CODIGO_POSTAL  edad_media  p_poblacion_menor_de_18  p_poblacion_mayor_65  \\\n",
       "0          28001        43.5                     16.2                  20.4   \n",
       "1          28002        43.5                     16.2                  20.4   \n",
       "2          28003        43.5                     16.2                  20.4   \n",
       "3          28004        43.5                     16.2                  20.4   \n",
       "4          28005        43.5                     16.2                  20.4   \n",
       "\n",
       "   media_personas_por_hogar  poblacion  crecimiento_poblaconal_2015  \\\n",
       "0                      2.49  3131879.0                       0.0034   \n",
       "1                      2.49  3131879.0                       0.0034   \n",
       "2                      2.49  3131879.0                       0.0034   \n",
       "3                      2.49  3131879.0                       0.0034   \n",
       "4                      2.49  3131879.0                       0.0034   \n",
       "\n",
       "   renta_media_por_persona  renta_media_por_hogar  p_suelo_urbano  ...  \\\n",
       "0                  15717.0                39613.0          0.3625  ...   \n",
       "1                  15717.0                39613.0          0.3625  ...   \n",
       "2                  15717.0                39613.0          0.3625  ...   \n",
       "3                  15717.0                39613.0          0.3625  ...   \n",
       "4                  15717.0                39613.0          0.3625  ...   \n",
       "\n",
       "   p_ocup_adm_publica  p_ocup_educacion  p_ocup_medicina  p_ocup_otros  \\\n",
       "0            0.103991          0.082944         0.069302      0.065092   \n",
       "1            0.115803          0.088233         0.066015      0.056245   \n",
       "2            0.163558          0.100375         0.084281      0.055960   \n",
       "3            0.101315          0.083013         0.060217      0.072065   \n",
       "4            0.139774          0.097320         0.067166      0.054829   \n",
       "\n",
       "   p_casas_con_servicio_domestico  prop_masculinidad  prop_reemplazamiento  \\\n",
       "0                        0.060103               74.8                   1.2   \n",
       "1                        0.029652               81.3                   1.1   \n",
       "2                        0.046008               75.1                   1.2   \n",
       "3                        0.058175               79.9                   1.3   \n",
       "4                        0.025308               84.5                   1.2   \n",
       "\n",
       "   prop_dependientes  prop_analfabetas  prop_paro  \n",
       "0                0.6               0.3       18.6  \n",
       "1                0.5               0.3       18.3  \n",
       "2                0.5               0.4       17.9  \n",
       "3                0.5               0.8       23.6  \n",
       "4                0.5               0.7       20.2  \n",
       "\n",
       "[5 rows x 48 columns]"
      ]
     },
     "execution_count": 4,
     "metadata": {},
     "output_type": "execute_result"
    }
   ],
   "source": [
    "v_cod.head()"
   ]
  },
  {
   "cell_type": "code",
   "execution_count": 5,
   "metadata": {},
   "outputs": [
    {
     "data": {
      "text/html": [
       "<div>\n",
       "<style scoped>\n",
       "    .dataframe tbody tr th:only-of-type {\n",
       "        vertical-align: middle;\n",
       "    }\n",
       "\n",
       "    .dataframe tbody tr th {\n",
       "        vertical-align: top;\n",
       "    }\n",
       "\n",
       "    .dataframe thead th {\n",
       "        text-align: right;\n",
       "    }\n",
       "</style>\n",
       "<table border=\"1\" class=\"dataframe\">\n",
       "  <thead>\n",
       "    <tr style=\"text-align: right;\">\n",
       "      <th></th>\n",
       "      <th>ID</th>\n",
       "      <th>X</th>\n",
       "      <th>Y</th>\n",
       "      <th>Q_R_4_0_0</th>\n",
       "      <th>Q_R_4_0_1</th>\n",
       "      <th>Q_R_4_0_2</th>\n",
       "      <th>Q_R_4_0_3</th>\n",
       "      <th>Q_R_4_0_4</th>\n",
       "      <th>Q_R_4_0_5</th>\n",
       "      <th>Q_R_4_0_6</th>\n",
       "      <th>...</th>\n",
       "      <th>p_ocup_adm_publica</th>\n",
       "      <th>p_ocup_educacion</th>\n",
       "      <th>p_ocup_medicina</th>\n",
       "      <th>p_ocup_otros</th>\n",
       "      <th>p_casas_con_servicio_domestico</th>\n",
       "      <th>prop_masculinidad</th>\n",
       "      <th>prop_reemplazamiento</th>\n",
       "      <th>prop_dependientes</th>\n",
       "      <th>prop_analfabetas</th>\n",
       "      <th>prop_paro</th>\n",
       "    </tr>\n",
       "  </thead>\n",
       "  <tbody>\n",
       "    <tr>\n",
       "      <th>0</th>\n",
       "      <td>35984B9C3E7CD9A1</td>\n",
       "      <td>2207357872</td>\n",
       "      <td>165920300</td>\n",
       "      <td>0.000000</td>\n",
       "      <td>443.001300</td>\n",
       "      <td>616.001697</td>\n",
       "      <td>746.998401</td>\n",
       "      <td>872.996472</td>\n",
       "      <td>1009.000946</td>\n",
       "      <td>1159.002319</td>\n",
       "      <td>...</td>\n",
       "      <td>0.109663</td>\n",
       "      <td>0.07858</td>\n",
       "      <td>0.082684</td>\n",
       "      <td>0.045446</td>\n",
       "      <td>0.018315</td>\n",
       "      <td>92.9</td>\n",
       "      <td>1.3</td>\n",
       "      <td>0.4</td>\n",
       "      <td>0.9</td>\n",
       "      <td>19.0</td>\n",
       "    </tr>\n",
       "    <tr>\n",
       "      <th>1</th>\n",
       "      <td>18DA50E0C2EEE059</td>\n",
       "      <td>2206838377</td>\n",
       "      <td>165864571</td>\n",
       "      <td>0.000000</td>\n",
       "      <td>357.002701</td>\n",
       "      <td>513.001526</td>\n",
       "      <td>636.004059</td>\n",
       "      <td>758.998230</td>\n",
       "      <td>888.000305</td>\n",
       "      <td>1041.995117</td>\n",
       "      <td>...</td>\n",
       "      <td>0.109663</td>\n",
       "      <td>0.07858</td>\n",
       "      <td>0.082684</td>\n",
       "      <td>0.045446</td>\n",
       "      <td>0.018315</td>\n",
       "      <td>92.9</td>\n",
       "      <td>1.3</td>\n",
       "      <td>0.4</td>\n",
       "      <td>0.9</td>\n",
       "      <td>19.0</td>\n",
       "    </tr>\n",
       "    <tr>\n",
       "      <th>2</th>\n",
       "      <td>6E23237369EA0E4D</td>\n",
       "      <td>2207212125</td>\n",
       "      <td>165871949</td>\n",
       "      <td>0.000000</td>\n",
       "      <td>357.002701</td>\n",
       "      <td>513.001526</td>\n",
       "      <td>636.004059</td>\n",
       "      <td>758.998230</td>\n",
       "      <td>888.000305</td>\n",
       "      <td>1041.995117</td>\n",
       "      <td>...</td>\n",
       "      <td>0.109663</td>\n",
       "      <td>0.07858</td>\n",
       "      <td>0.082684</td>\n",
       "      <td>0.045446</td>\n",
       "      <td>0.018315</td>\n",
       "      <td>92.9</td>\n",
       "      <td>1.3</td>\n",
       "      <td>0.4</td>\n",
       "      <td>0.9</td>\n",
       "      <td>19.0</td>\n",
       "    </tr>\n",
       "    <tr>\n",
       "      <th>3</th>\n",
       "      <td>01DF9481394BF5EC</td>\n",
       "      <td>2199375790</td>\n",
       "      <td>165870999</td>\n",
       "      <td>0.000001</td>\n",
       "      <td>378.003052</td>\n",
       "      <td>542.998328</td>\n",
       "      <td>670.000189</td>\n",
       "      <td>788.000208</td>\n",
       "      <td>913.998230</td>\n",
       "      <td>1060.999438</td>\n",
       "      <td>...</td>\n",
       "      <td>0.109663</td>\n",
       "      <td>0.07858</td>\n",
       "      <td>0.082684</td>\n",
       "      <td>0.045446</td>\n",
       "      <td>0.018315</td>\n",
       "      <td>92.9</td>\n",
       "      <td>1.3</td>\n",
       "      <td>0.4</td>\n",
       "      <td>0.9</td>\n",
       "      <td>19.0</td>\n",
       "    </tr>\n",
       "    <tr>\n",
       "      <th>4</th>\n",
       "      <td>3132DD262F512006</td>\n",
       "      <td>2201548042</td>\n",
       "      <td>165862262</td>\n",
       "      <td>0.000000</td>\n",
       "      <td>357.002701</td>\n",
       "      <td>513.001526</td>\n",
       "      <td>636.004059</td>\n",
       "      <td>758.998230</td>\n",
       "      <td>888.000305</td>\n",
       "      <td>1041.995117</td>\n",
       "      <td>...</td>\n",
       "      <td>0.109663</td>\n",
       "      <td>0.07858</td>\n",
       "      <td>0.082684</td>\n",
       "      <td>0.045446</td>\n",
       "      <td>0.018315</td>\n",
       "      <td>92.9</td>\n",
       "      <td>1.3</td>\n",
       "      <td>0.4</td>\n",
       "      <td>0.9</td>\n",
       "      <td>19.0</td>\n",
       "    </tr>\n",
       "  </tbody>\n",
       "</table>\n",
       "<p>5 rows × 232 columns</p>\n",
       "</div>"
      ],
      "text/plain": [
       "                 ID           X          Y  Q_R_4_0_0   Q_R_4_0_1   Q_R_4_0_2  \\\n",
       "0  35984B9C3E7CD9A1  2207357872  165920300   0.000000  443.001300  616.001697   \n",
       "1  18DA50E0C2EEE059  2206838377  165864571   0.000000  357.002701  513.001526   \n",
       "2  6E23237369EA0E4D  2207212125  165871949   0.000000  357.002701  513.001526   \n",
       "3  01DF9481394BF5EC  2199375790  165870999   0.000001  378.003052  542.998328   \n",
       "4  3132DD262F512006  2201548042  165862262   0.000000  357.002701  513.001526   \n",
       "\n",
       "    Q_R_4_0_3   Q_R_4_0_4    Q_R_4_0_5    Q_R_4_0_6  ...  p_ocup_adm_publica  \\\n",
       "0  746.998401  872.996472  1009.000946  1159.002319  ...            0.109663   \n",
       "1  636.004059  758.998230   888.000305  1041.995117  ...            0.109663   \n",
       "2  636.004059  758.998230   888.000305  1041.995117  ...            0.109663   \n",
       "3  670.000189  788.000208   913.998230  1060.999438  ...            0.109663   \n",
       "4  636.004059  758.998230   888.000305  1041.995117  ...            0.109663   \n",
       "\n",
       "   p_ocup_educacion  p_ocup_medicina  p_ocup_otros  \\\n",
       "0           0.07858         0.082684      0.045446   \n",
       "1           0.07858         0.082684      0.045446   \n",
       "2           0.07858         0.082684      0.045446   \n",
       "3           0.07858         0.082684      0.045446   \n",
       "4           0.07858         0.082684      0.045446   \n",
       "\n",
       "   p_casas_con_servicio_domestico  prop_masculinidad  prop_reemplazamiento  \\\n",
       "0                        0.018315               92.9                   1.3   \n",
       "1                        0.018315               92.9                   1.3   \n",
       "2                        0.018315               92.9                   1.3   \n",
       "3                        0.018315               92.9                   1.3   \n",
       "4                        0.018315               92.9                   1.3   \n",
       "\n",
       "   prop_dependientes  prop_analfabetas  prop_paro  \n",
       "0                0.4               0.9       19.0  \n",
       "1                0.4               0.9       19.0  \n",
       "2                0.4               0.9       19.0  \n",
       "3                0.4               0.9       19.0  \n",
       "4                0.4               0.9       19.0  \n",
       "\n",
       "[5 rows x 232 columns]"
      ]
     },
     "execution_count": 5,
     "metadata": {},
     "output_type": "execute_result"
    }
   ],
   "source": [
    "tr.head()"
   ]
  },
  {
   "cell_type": "code",
   "execution_count": 6,
   "metadata": {},
   "outputs": [],
   "source": [
    "cod_postales1 = v_cod.CODIGO_POSTAL.unique()"
   ]
  },
  {
   "cell_type": "code",
   "execution_count": 17,
   "metadata": {},
   "outputs": [],
   "source": [
    "cod_postales2 = tr.CODIGO_POSTAL.unique()"
   ]
  },
  {
   "cell_type": "code",
   "execution_count": 7,
   "metadata": {},
   "outputs": [],
   "source": [
    "vcorr = pd.read_csv('variables_codigo_postal.csv')"
   ]
  },
  {
   "cell_type": "code",
   "execution_count": 12,
   "metadata": {},
   "outputs": [],
   "source": [
    "vcorr = vcorr[(vcorr['CODIGO_POSTAL'] > 27999) & (vcorr['CODIGO_POSTAL'] < 29000)]"
   ]
  },
  {
   "cell_type": "code",
   "execution_count": 15,
   "metadata": {},
   "outputs": [
    {
     "data": {
      "text/plain": [
       "267"
      ]
     },
     "execution_count": 15,
     "metadata": {},
     "output_type": "execute_result"
    }
   ],
   "source": [
    "len(vcorr.CODIGO_POSTAL.unique())"
   ]
  },
  {
   "cell_type": "code",
   "execution_count": 10,
   "metadata": {},
   "outputs": [],
   "source": [
    "cod_postales3 = vcorr.CODIGO_POSTAL.unique()"
   ]
  },
  {
   "cell_type": "code",
   "execution_count": 11,
   "metadata": {},
   "outputs": [
    {
     "data": {
      "text/plain": [
       "6375"
      ]
     },
     "execution_count": 11,
     "metadata": {},
     "output_type": "execute_result"
    }
   ],
   "source": [
    "len(cod_postales3)"
   ]
  },
  {
   "cell_type": "code",
   "execution_count": null,
   "metadata": {},
   "outputs": [],
   "source": []
  },
  {
   "cell_type": "code",
   "execution_count": 18,
   "metadata": {},
   "outputs": [],
   "source": [
    "cods_ausentes = [c for c in cod_postales2 if c not in cod_postales3]"
   ]
  },
  {
   "cell_type": "code",
   "execution_count": 19,
   "metadata": {},
   "outputs": [
    {
     "data": {
      "text/plain": [
       "[28790.0, 28524.0]"
      ]
     },
     "execution_count": 19,
     "metadata": {},
     "output_type": "execute_result"
    }
   ],
   "source": [
    "cods_ausentes"
   ]
  },
  {
   "cell_type": "code",
   "execution_count": 9,
   "metadata": {},
   "outputs": [],
   "source": [
    "def get_points_density(df, around=5, pobs=None):\n",
    "    \"\"\"\n",
    "    Function to get the points density some kilometers around.\n",
    "\n",
    "    Parameters\n",
    "    -------------\n",
    "    df: pandas.DataFrame\n",
    "        df containing the points and the poblacion per postal code variables.\n",
    "    around: int or float\n",
    "        the number of km to define the space around the point for density estimation\n",
    "    pobs: array or None\n",
    "        if None, the population is taken from the \n",
    "    Returns\n",
    "    -------------\n",
    "    density for each of the points in the dataset.\n",
    "    \n",
    "    \"\"\"\n",
    "    grad_to_lat = 1 / 111\n",
    "    grad_to_lon = 1 / 85\n",
    "    densities = np.empty((df.shape[0],), dtype=\"float64\")\n",
    "    for i in tqdm(range(df.shape[0]), desc=\"GETTING POINTS DENSITY\"):\n",
    "        lon, lat = df[\"lon\"].iloc[i], df[\"lat\"].iloc[i]\n",
    "        min_lon = lon - around * grad_to_lon\n",
    "        max_lon = lon + around * grad_to_lon\n",
    "        min_lat = lat - around * grad_to_lat\n",
    "        max_lat = lat + around * grad_to_lat\n",
    "        mybool = (\n",
    "            (df[\"lat\"] >= min_lat)\n",
    "            & (df[\"lat\"] <= max_lat)\n",
    "            & (df[\"lon\"] >= min_lon)\n",
    "            & (df[\"lon\"] <= max_lon)\n",
    "        )\n",
    "        points_around = df.loc[mybool, :].shape[0]\n",
    "        population_postal_code = df.poblacion.iloc[i]\n",
    "        if pobs is None:\n",
    "            densities[i] = points_around / population_postal_code\n",
    "        else:\n",
    "            densities[i] = points_around / pobs[i]\n",
    "        # TODO : PROBAR SOLO CON LOS PUNTOS AL REDEDOR O ESCALÁNDOLO DE OTRA MANERA.\n",
    "    return densities"
   ]
  },
  {
   "cell_type": "code",
   "execution_count": 5,
   "metadata": {},
   "outputs": [],
   "source": [
    "import numpy as np\n",
    "from tqdm import tqdm\n",
    "#get_points_density(tr, around=5, pobs=None)"
   ]
  },
  {
   "cell_type": "code",
   "execution_count": 6,
   "metadata": {},
   "outputs": [],
   "source": [
    "#renta_bruta = "
   ]
  },
  {
   "cell_type": "code",
   "execution_count": null,
   "metadata": {},
   "outputs": [],
   "source": []
  }
 ],
 "metadata": {
  "kernelspec": {
   "display_name": "Python [conda env:sentinel_env] *",
   "language": "python",
   "name": "conda-env-sentinel_env-py"
  },
  "language_info": {
   "codemirror_mode": {
    "name": "ipython",
    "version": 3
   },
   "file_extension": ".py",
   "mimetype": "text/x-python",
   "name": "python",
   "nbconvert_exporter": "python",
   "pygments_lexer": "ipython3",
   "version": "3.7.6"
  }
 },
 "nbformat": 4,
 "nbformat_minor": 4
}
