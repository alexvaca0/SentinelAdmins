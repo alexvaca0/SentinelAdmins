{
 "cells": [
  {
   "cell_type": "code",
   "execution_count": 31,
   "metadata": {},
   "outputs": [],
   "source": [
    "import geopandas as gpd\n",
    "import pandas as pd\n",
    "import time\n",
    "from shapely.geometry import Point\n",
    "import numpy as np\n",
    "from tqdm import tqdm"
   ]
  },
  {
   "cell_type": "code",
   "execution_count": 2,
   "metadata": {},
   "outputs": [],
   "source": [
    "file1 = gpd.read_file('shapefiles_es/gadm36_ESP_0.shp')"
   ]
  },
  {
   "cell_type": "code",
   "execution_count": 5,
   "metadata": {},
   "outputs": [],
   "source": [
    "file2 = gpd.read_file('shapefiles_es/gadm36_ESP_1.shp')"
   ]
  },
  {
   "cell_type": "code",
   "execution_count": 7,
   "metadata": {},
   "outputs": [],
   "source": [
    "file3 = gpd.read_file('shapefiles_es/gadm36_ESP_2.shp')"
   ]
  },
  {
   "cell_type": "code",
   "execution_count": 9,
   "metadata": {},
   "outputs": [],
   "source": [
    "file4 = gpd.read_file('shapefiles_es/gadm36_ESP_3.shp')"
   ]
  },
  {
   "cell_type": "code",
   "execution_count": 11,
   "metadata": {},
   "outputs": [],
   "source": [
    "#file4"
   ]
  },
  {
   "cell_type": "code",
   "execution_count": 12,
   "metadata": {},
   "outputs": [],
   "source": [
    "cod_postales = gpd.read_file('codigos_postales_madrid/codigos_postales_madrid.shp')"
   ]
  },
  {
   "cell_type": "code",
   "execution_count": 13,
   "metadata": {},
   "outputs": [
    {
     "data": {
      "text/html": [
       "<div>\n",
       "<style scoped>\n",
       "    .dataframe tbody tr th:only-of-type {\n",
       "        vertical-align: middle;\n",
       "    }\n",
       "\n",
       "    .dataframe tbody tr th {\n",
       "        vertical-align: top;\n",
       "    }\n",
       "\n",
       "    .dataframe thead th {\n",
       "        text-align: right;\n",
       "    }\n",
       "</style>\n",
       "<table border=\"1\" class=\"dataframe\">\n",
       "  <thead>\n",
       "    <tr style=\"text-align: right;\">\n",
       "      <th></th>\n",
       "      <th>cartodb_id</th>\n",
       "      <th>codbdt</th>\n",
       "      <th>geocodigo</th>\n",
       "      <th>desbdt</th>\n",
       "      <th>geometry</th>\n",
       "    </tr>\n",
       "  </thead>\n",
       "  <tbody>\n",
       "    <tr>\n",
       "      <th>0</th>\n",
       "      <td>10</td>\n",
       "      <td>828922</td>\n",
       "      <td>28010</td>\n",
       "      <td>28010</td>\n",
       "      <td>POLYGON ((-3.69780 40.43820, -3.69710 40.43807...</td>\n",
       "    </tr>\n",
       "    <tr>\n",
       "      <th>1</th>\n",
       "      <td>21</td>\n",
       "      <td>828933</td>\n",
       "      <td>28021</td>\n",
       "      <td>28021</td>\n",
       "      <td>POLYGON ((-3.70598 40.34995, -3.70596 40.34975...</td>\n",
       "    </tr>\n",
       "    <tr>\n",
       "      <th>2</th>\n",
       "      <td>46</td>\n",
       "      <td>828958</td>\n",
       "      <td>28046</td>\n",
       "      <td>28046</td>\n",
       "      <td>POLYGON ((-3.68066 40.48248, -3.68009 40.48199...</td>\n",
       "    </tr>\n",
       "    <tr>\n",
       "      <th>3</th>\n",
       "      <td>48</td>\n",
       "      <td>828960</td>\n",
       "      <td>28048</td>\n",
       "      <td>28048</td>\n",
       "      <td>POLYGON ((-3.80935 40.60950, -3.80927 40.60941...</td>\n",
       "    </tr>\n",
       "    <tr>\n",
       "      <th>4</th>\n",
       "      <td>49</td>\n",
       "      <td>828961</td>\n",
       "      <td>28049</td>\n",
       "      <td>28049</td>\n",
       "      <td>POLYGON ((-3.68220 40.55254, -3.68228 40.55218...</td>\n",
       "    </tr>\n",
       "    <tr>\n",
       "      <th>...</th>\n",
       "      <td>...</td>\n",
       "      <td>...</td>\n",
       "      <td>...</td>\n",
       "      <td>...</td>\n",
       "      <td>...</td>\n",
       "    </tr>\n",
       "    <tr>\n",
       "      <th>295</th>\n",
       "      <td>290</td>\n",
       "      <td>829202</td>\n",
       "      <td>28971</td>\n",
       "      <td>28971</td>\n",
       "      <td>POLYGON ((-3.84576 40.23470, -3.84306 40.23327...</td>\n",
       "    </tr>\n",
       "    <tr>\n",
       "      <th>296</th>\n",
       "      <td>293</td>\n",
       "      <td>829205</td>\n",
       "      <td>28978</td>\n",
       "      <td>28978</td>\n",
       "      <td>POLYGON ((-3.82612 40.20543, -3.82297 40.20526...</td>\n",
       "    </tr>\n",
       "    <tr>\n",
       "      <th>297</th>\n",
       "      <td>296</td>\n",
       "      <td>829208</td>\n",
       "      <td>28982</td>\n",
       "      <td>28982</td>\n",
       "      <td>POLYGON ((-3.76321 40.24698, -3.76266 40.24685...</td>\n",
       "    </tr>\n",
       "    <tr>\n",
       "      <th>298</th>\n",
       "      <td>297</td>\n",
       "      <td>829209</td>\n",
       "      <td>28983</td>\n",
       "      <td>28983</td>\n",
       "      <td>POLYGON ((-3.75875 40.25504, -3.75866 40.25504...</td>\n",
       "    </tr>\n",
       "    <tr>\n",
       "      <th>299</th>\n",
       "      <td>298</td>\n",
       "      <td>829210</td>\n",
       "      <td>28984</td>\n",
       "      <td>28984</td>\n",
       "      <td>POLYGON ((-3.79631 40.25108, -3.79307 40.24988...</td>\n",
       "    </tr>\n",
       "  </tbody>\n",
       "</table>\n",
       "<p>300 rows × 5 columns</p>\n",
       "</div>"
      ],
      "text/plain": [
       "     cartodb_id  codbdt geocodigo desbdt  \\\n",
       "0            10  828922     28010  28010   \n",
       "1            21  828933     28021  28021   \n",
       "2            46  828958     28046  28046   \n",
       "3            48  828960     28048  28048   \n",
       "4            49  828961     28049  28049   \n",
       "..          ...     ...       ...    ...   \n",
       "295         290  829202     28971  28971   \n",
       "296         293  829205     28978  28978   \n",
       "297         296  829208     28982  28982   \n",
       "298         297  829209     28983  28983   \n",
       "299         298  829210     28984  28984   \n",
       "\n",
       "                                              geometry  \n",
       "0    POLYGON ((-3.69780 40.43820, -3.69710 40.43807...  \n",
       "1    POLYGON ((-3.70598 40.34995, -3.70596 40.34975...  \n",
       "2    POLYGON ((-3.68066 40.48248, -3.68009 40.48199...  \n",
       "3    POLYGON ((-3.80935 40.60950, -3.80927 40.60941...  \n",
       "4    POLYGON ((-3.68220 40.55254, -3.68228 40.55218...  \n",
       "..                                                 ...  \n",
       "295  POLYGON ((-3.84576 40.23470, -3.84306 40.23327...  \n",
       "296  POLYGON ((-3.82612 40.20543, -3.82297 40.20526...  \n",
       "297  POLYGON ((-3.76321 40.24698, -3.76266 40.24685...  \n",
       "298  POLYGON ((-3.75875 40.25504, -3.75866 40.25504...  \n",
       "299  POLYGON ((-3.79631 40.25108, -3.79307 40.24988...  \n",
       "\n",
       "[300 rows x 5 columns]"
      ]
     },
     "execution_count": 13,
     "metadata": {},
     "output_type": "execute_result"
    }
   ],
   "source": [
    "cod_postales"
   ]
  },
  {
   "cell_type": "code",
   "execution_count": 14,
   "metadata": {},
   "outputs": [],
   "source": []
  },
  {
   "cell_type": "code",
   "execution_count": 15,
   "metadata": {},
   "outputs": [],
   "source": [
    "p = Point(-3.1765, 40.1298)"
   ]
  },
  {
   "cell_type": "code",
   "execution_count": 17,
   "metadata": {},
   "outputs": [
    {
     "name": "stdout",
     "output_type": "stream",
     "text": [
      "False\n"
     ]
    }
   ],
   "source": [
    "print(cod_postales.geometry.iloc[10].contains(p))"
   ]
  },
  {
   "cell_type": "code",
   "execution_count": 18,
   "metadata": {},
   "outputs": [
    {
     "name": "stdout",
     "output_type": "stream",
     "text": [
      "total time 0.025251999999999164\n"
     ]
    },
    {
     "name": "stderr",
     "output_type": "stream",
     "text": [
      "/home/alejandro.vaca/miniconda/envs/sentinel_env/lib/python3.7/site-packages/ipykernel_launcher.py:2: DeprecationWarning: time.clock has been deprecated in Python 3.3 and will be removed from Python 3.8: use time.perf_counter or time.process_time instead\n",
      "  \n",
      "/home/alejandro.vaca/miniconda/envs/sentinel_env/lib/python3.7/site-packages/ipykernel_launcher.py:6: DeprecationWarning: time.clock has been deprecated in Python 3.3 and will be removed from Python 3.8: use time.perf_counter or time.process_time instead\n",
      "  \n"
     ]
    }
   ],
   "source": [
    "t0=time.clock()\n",
    "for i in range(cod_postales.shape[0]):\n",
    "    if cod_postales.geometry.iloc[i].contains(p):\n",
    "        codpostal=cod_postales.geocodigo.iloc[i]\n",
    "print(f\"total time {time.clock()-t0}\")"
   ]
  },
  {
   "cell_type": "code",
   "execution_count": 20,
   "metadata": {},
   "outputs": [],
   "source": [
    "df = pd.read_csv('dataset_train.csv')"
   ]
  },
  {
   "cell_type": "code",
   "execution_count": 30,
   "metadata": {},
   "outputs": [],
   "source": [
    "lons=[df.lon.iloc[i] for i in range(10000)]\n",
    "lats=[df.lat.iloc[i] for i in range(10000)]\n",
    "ps = [(lon, lat) for lon, lat in zip(lons, lats)]"
   ]
  },
  {
   "cell_type": "code",
   "execution_count": 33,
   "metadata": {},
   "outputs": [
    {
     "name": "stderr",
     "output_type": "stream",
     "text": [
      "/home/alejandro.vaca/miniconda/envs/sentinel_env/lib/python3.7/site-packages/ipykernel_launcher.py:1: DeprecationWarning: time.clock has been deprecated in Python 3.3 and will be removed from Python 3.8: use time.perf_counter or time.process_time instead\n",
      "  \"\"\"Entry point for launching an IPython kernel.\n",
      "10000it [01:09, 143.92it/s]"
     ]
    },
    {
     "name": "stdout",
     "output_type": "stream",
     "text": [
      "total time in seconds for 100: 71.418118\n"
     ]
    },
    {
     "name": "stderr",
     "output_type": "stream",
     "text": [
      "\n",
      "/home/alejandro.vaca/miniconda/envs/sentinel_env/lib/python3.7/site-packages/ipykernel_launcher.py:8: DeprecationWarning: time.clock has been deprecated in Python 3.3 and will be removed from Python 3.8: use time.perf_counter or time.process_time instead\n",
      "  \n"
     ]
    }
   ],
   "source": [
    "t0 = time.clock()\n",
    "codigos = np.zeros((10000,))\n",
    "for i, p in tqdm(enumerate(ps)):\n",
    "    p = Point(p[0], p[1])\n",
    "    for j in range(cod_postales.shape[0]):\n",
    "        if cod_postales.geometry.iloc[j].contains(p):\n",
    "            codigos[i] = cod_postales.geocodigo.iloc[j]\n",
    "print(f\"total time in seconds for 100: {time.clock()-t0}\")"
   ]
  },
  {
   "cell_type": "code",
   "execution_count": null,
   "metadata": {},
   "outputs": [],
   "source": []
  },
  {
   "cell_type": "code",
   "execution_count": 29,
   "metadata": {},
   "outputs": [
    {
     "data": {
      "text/plain": [
       "dtype('float64')"
      ]
     },
     "execution_count": 29,
     "metadata": {},
     "output_type": "execute_result"
    }
   ],
   "source": [
    "codigos.dtype"
   ]
  },
  {
   "cell_type": "code",
   "execution_count": 37,
   "metadata": {},
   "outputs": [
    {
     "data": {
      "text/plain": [
       "83"
      ]
     },
     "execution_count": 37,
     "metadata": {},
     "output_type": "execute_result"
    }
   ],
   "source": [
    "len(np.unique(codigos))"
   ]
  },
  {
   "cell_type": "code",
   "execution_count": 38,
   "metadata": {},
   "outputs": [
    {
     "data": {
      "text/plain": [
       "0"
      ]
     },
     "execution_count": 38,
     "metadata": {},
     "output_type": "execute_result"
    }
   ],
   "source": [
    "np.sum(codigos==0)"
   ]
  },
  {
   "cell_type": "code",
   "execution_count": null,
   "metadata": {},
   "outputs": [],
   "source": []
  }
 ],
 "metadata": {
  "kernelspec": {
   "display_name": "Python [conda env:sentinel_env] *",
   "language": "python",
   "name": "conda-env-sentinel_env-py"
  },
  "language_info": {
   "codemirror_mode": {
    "name": "ipython",
    "version": 3
   },
   "file_extension": ".py",
   "mimetype": "text/x-python",
   "name": "python",
   "nbconvert_exporter": "python",
   "pygments_lexer": "ipython3",
   "version": "3.7.6"
  }
 },
 "nbformat": 4,
 "nbformat_minor": 4
}
